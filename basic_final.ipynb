{
  "nbformat": 4,
  "nbformat_minor": 0,
  "metadata": {
    "colab": {
      "provenance": [],
      "collapsed_sections": [],
      "mount_file_id": "1TM77ecY9wwH9JmCXWijeLeWVegPUQ_tm",
      "authorship_tag": "ABX9TyOW1EeeXWICnKSzNXDmRugi",
      "include_colab_link": true
    },
    "kernelspec": {
      "name": "python3",
      "display_name": "Python 3"
    },
    "language_info": {
      "name": "python"
    },
    "accelerator": "GPU"
  },
  "cells": [
    {
      "cell_type": "markdown",
      "metadata": {
        "id": "view-in-github",
        "colab_type": "text"
      },
      "source": [
        "<a href=\"https://colab.research.google.com/github/barathturing/final-hack/blob/main/basic_final.ipynb\" target=\"_parent\"><img src=\"https://colab.research.google.com/assets/colab-badge.svg\" alt=\"Open In Colab\"/></a>"
      ]
    },
    {
      "cell_type": "markdown",
      "source": [
        "# missing data representation in theyir given details\n",
        "• InsuredGender : **Gender** - the missing value is represented as **“NA”**\n",
        "\n",
        "---\n",
        "\n",
        "• PolicyAnnualPremium : **Annual Premium**– the missing value is represented as ***“-1”***\n",
        "\n",
        "---\n",
        "\n",
        "• TotalCharges :**Customer account information** (Total). ( For this attribute, \n",
        "missing values are denoted as **“MISSINGVAL”** also)\n",
        "\n",
        "---\n",
        "\n",
        "• ContractType :**Contract type** ( For this attribute, missing values are \n",
        "denoted as **“NA”**)\n",
        "\n",
        "---\n",
        "\n",
        "• TypeOfCollission :**Type of Collision** -**“?”** is the \n",
        "missing value\n",
        "\n",
        "---\n",
        "\n",
        "• IncidentTime : **time of incident** – Hour of the day - the missing value is represented\n",
        "as **“-5”**\n",
        "\n",
        "---\n",
        "\n",
        "• PropertyDamage :**If property damage**  is there -**“?** is the missing value\n",
        "\n",
        "---\n",
        "\n",
        "• Witnesses :**Number of witnesses** - missing value is \n",
        "represented as \n",
        "**\"MISSINGVALUE\"**\n",
        "\n",
        "---\n",
        "\n",
        "• PoliceReport : If **police report** available -**“?”** is the missing value\n",
        "\n",
        "---\n",
        "\n",
        "• AmountOfTotalClaim : **Total claim amount** - the missing value is represented as\n",
        "**“MISSEDDATA”**\n",
        "\n",
        "---\n",
        "\n",
        "• VehicleAttributeDetails : **Value of the vehicle** attribute - the missing value is \n",
        "represented as **“???”**\n",
        "\n",
        "\n",
        "\n"
      ],
      "metadata": {
        "id": "J08saFt0U0iG"
      }
    },
    {
      "cell_type": "code",
      "execution_count": null,
      "metadata": {
        "id": "19rlk3NrrUUH"
      },
      "outputs": [],
      "source": [
        "import pandas as pd\n",
        "import numpy as np\n",
        "import matplotlib.pyplot as plt\n",
        "import seaborn as sns\n",
        "import plotly.express as px\n",
        "import warnings\n",
        "warnings.filterwarnings('ignore')"
      ]
    },
    {
      "cell_type": "code",
      "source": [
        "from google.colab import drive\n",
        "drive.mount('/content/drive')"
      ],
      "metadata": {
        "colab": {
          "base_uri": "https://localhost:8080/"
        },
        "id": "IPBQ16iI-OvN",
        "outputId": "53e9654e-5e85-47c6-99e5-c5b51eab59bc"
      },
      "execution_count": null,
      "outputs": [
        {
          "output_type": "stream",
          "name": "stdout",
          "text": [
            "Drive already mounted at /content/drive; to attempt to forcibly remount, call drive.mount(\"/content/drive\", force_remount=True).\n"
          ]
        }
      ]
    },
    {
      "cell_type": "code",
      "source": [
        "#Reading files using pandas\n",
        "df1=pd.read_csv(\"/content/drive/MyDrive/TrainData/Train_Claim.csv\")\n",
        "df2=pd.read_csv(\"/content/drive/MyDrive/TrainData/Train_Demographics.csv\")\n",
        "df3=pd.read_csv(\"/content/drive/MyDrive/TrainData/Train_Policy.csv\")\n",
        "df4=pd.read_csv(\"/content/drive/MyDrive/TrainData/Train_Vehicle_new.csv\")\n",
        "df5=pd.read_csv(\"/content/drive/MyDrive/TrainData/Traindata_with_Target.csv\")"
      ],
      "metadata": {
        "id": "8ZJyGjqu_Gkv"
      },
      "execution_count": null,
      "outputs": []
    },
    {
      "cell_type": "code",
      "source": [
        "#checking shape of each datasets\n",
        "print(\"df1:\",df1.shape)\n",
        "print(\"df2:\",df2.shape)\n",
        "print(\"df3:\",df3.shape)\n",
        "print(\"df4:\",df4.shape)\n",
        "print(\"df5:\",df5.shape)"
      ],
      "metadata": {
        "id": "j4tR_pjWFrkK"
      },
      "execution_count": null,
      "outputs": []
    },
    {
      "cell_type": "code",
      "source": [
        "#merging all datasets based on \"CstomerID\"\n",
        "sample_1=pd.merge(df1,df2)\n",
        "sample_2=pd.merge(sample_1,df3)\n",
        "sample_3=pd.merge(sample_2,df4)\n",
        "master=pd.merge(sample_3,df5)\n"
      ],
      "metadata": {
        "id": "fwePQ4avGmDl"
      },
      "execution_count": null,
      "outputs": []
    },
    {
      "cell_type": "code",
      "source": [
        "#to see all the columns setting max columnn is none \n",
        "pd.set_option('display.max_columns', None)"
      ],
      "metadata": {
        "id": "VU4DR4NqLdie"
      },
      "execution_count": null,
      "outputs": []
    },
    {
      "cell_type": "code",
      "source": [
        "master.head(10)"
      ],
      "metadata": {
        "id": "B1pHO_fmG3nX"
      },
      "execution_count": null,
      "outputs": []
    },
    {
      "cell_type": "code",
      "source": [
        "# we can see some missing values denoted by '?' so  replace missing values with np.nan\n",
        "\n",
        "master.replace('?', np.nan, inplace = True)\n"
      ],
      "metadata": {
        "id": "9puT7ixLTRIF"
      },
      "execution_count": null,
      "outputs": []
    },
    {
      "cell_type": "code",
      "source": [
        "#checking null values before changeing cat to num it showes 0 everythink false\n",
        "master.isnull().sum()"
      ],
      "metadata": {
        "id": "br9TCh16LbyQ"
      },
      "execution_count": null,
      "outputs": []
    },
    {
      "cell_type": "code",
      "source": [
        "#no of coluns with unique values\n",
        "print('columns and number of unique values')\n",
        "dict=[]\n",
        "for i in master.columns:\n",
        "    print(f'{i} ---> {master[i].nunique()}')"
      ],
      "metadata": {
        "id": "yp_EJrP5N2HS"
      },
      "execution_count": null,
      "outputs": []
    },
    {
      "cell_type": "code",
      "source": [
        "#catogorical columns \n",
        "categorical_columns = master.select_dtypes(include=['object']).columns\n",
        "categorical_columns"
      ],
      "metadata": {
        "id": "f52yWau0OXrm"
      },
      "execution_count": null,
      "outputs": []
    },
    {
      "cell_type": "code",
      "source": [
        "master.info()"
      ],
      "metadata": {
        "id": "Q0PXEoQdSDSI"
      },
      "execution_count": null,
      "outputs": []
    },
    {
      "cell_type": "code",
      "source": [
        "master.dtypes.T"
      ],
      "metadata": {
        "id": "F6R5uMjoOt40"
      },
      "execution_count": null,
      "outputs": []
    },
    {
      "cell_type": "code",
      "source": [],
      "metadata": {
        "id": "-F5au_TpILml"
      },
      "execution_count": null,
      "outputs": []
    }
  ]
}