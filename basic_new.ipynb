{
  "cells": [
    {
      "cell_type": "markdown",
      "metadata": {
        "id": "view-in-github",
        "colab_type": "text"
      },
      "source": [
        "<a href=\"https://colab.research.google.com/github/barathturing/final-hack/blob/main/basic_new.ipynb\" target=\"_parent\"><img src=\"https://colab.research.google.com/assets/colab-badge.svg\" alt=\"Open In Colab\"/></a>"
      ]
    },
    {
      "cell_type": "markdown",
      "metadata": {
        "id": "J08saFt0U0iG"
      },
      "source": [
        "# missing data representation in theyir given details\n",
        "• InsuredGender : **Gender** - the missing value is represented as **“NA”**\n",
        "\n",
        "---\n",
        "\n",
        "• PolicyAnnualPremium : **Annual Premium**– the missing value is represented as ***“-1”***\n",
        "\n",
        "---\n",
        "\n",
        "• TotalCharges :**Customer account information** (Total). ( For this attribute, \n",
        "missing values are denoted as **“MISSINGVAL”** also)\n",
        "\n",
        "---\n",
        "\n",
        "• ContractType :**Contract type** ( For this attribute, missing values are \n",
        "denoted as **“NA”**)\n",
        "\n",
        "---\n",
        "\n",
        "• TypeOfCollission :**Type of Collision** -**“?”** is the \n",
        "missing value\n",
        "\n",
        "---\n",
        "\n",
        "• IncidentTime : **time of incident** – Hour of the day - the missing value is represented\n",
        "as **“-5”**\n",
        "\n",
        "---\n",
        "\n",
        "• PropertyDamage :**If property damage**  is there -**“?** is the missing value\n",
        "\n",
        "---\n",
        "\n",
        "• Witnesses :**Number of witnesses** - missing value is \n",
        "represented as \n",
        "**\"MISSINGVALUE\"**\n",
        "\n",
        "---\n",
        "\n",
        "• PoliceReport : If **police report** available -**“?”** is the missing value\n",
        "\n",
        "---\n",
        "\n",
        "• AmountOfTotalClaim : **Total claim amount** - the missing value is represented as\n",
        "**“MISSEDDATA”**\n",
        "\n",
        "---\n",
        "\n",
        "• VehicleAttributeDetails : **Value of the vehicle** attribute - the missing value is \n",
        "represented as **“???”**\n",
        "\n",
        "\n",
        "\n"
      ]
    },
    {
      "cell_type": "code",
      "execution_count": 1,
      "metadata": {
        "id": "19rlk3NrrUUH"
      },
      "outputs": [],
      "source": [
        "import pandas as pd\n",
        "import numpy as np\n",
        "import matplotlib.pyplot as plt\n",
        "import seaborn as sns\n",
        "import plotly.express as px\n",
        "import warnings\n",
        "warnings.filterwarnings('ignore')"
      ]
    },
    {
      "cell_type": "code",
      "execution_count": 2,
      "metadata": {
        "colab": {
          "base_uri": "https://localhost:8080/"
        },
        "id": "IPBQ16iI-OvN",
        "outputId": "6911ff82-b184-4740-ae6b-6eeb5eedf886"
      },
      "outputs": [
        {
          "output_type": "stream",
          "name": "stdout",
          "text": [
            "Mounted at /content/drive\n"
          ]
        }
      ],
      "source": [
        "from google.colab import drive\n",
        "drive.mount('/content/drive')"
      ]
    },
    {
      "cell_type": "code",
      "execution_count": 3,
      "metadata": {
        "id": "8ZJyGjqu_Gkv"
      },
      "outputs": [],
      "source": [
        "#Reading files using pandas\n",
        "df1=pd.read_csv(\"/content/drive/MyDrive/TrainData/Train_Claim.csv\")\n",
        "df2=pd.read_csv(\"/content/drive/MyDrive/TrainData/Train_Demographics.csv\")\n",
        "df3=pd.read_csv(\"/content/drive/MyDrive/TrainData/Train_Policy.csv\")\n",
        "df4=pd.read_csv(\"/content/drive/MyDrive/TrainData/Train_Vehicle_new.csv\")\n",
        "df5=pd.read_csv(\"/content/drive/MyDrive/TrainData/Traindata_with_Target.csv\")"
      ]
    },
    {
      "cell_type": "code",
      "execution_count": 4,
      "metadata": {
        "colab": {
          "base_uri": "https://localhost:8080/"
        },
        "id": "j4tR_pjWFrkK",
        "outputId": "7b993be6-8a67-4369-dae0-7625bd34a2b8"
      },
      "outputs": [
        {
          "output_type": "stream",
          "name": "stdout",
          "text": [
            "df1: (28836, 19)\n",
            "df2: (28836, 10)\n",
            "df3: (28836, 10)\n",
            "df4: (28836, 5)\n",
            "df5: (28836, 2)\n"
          ]
        }
      ],
      "source": [
        "#checking shape of each datasets\n",
        "print(\"df1:\",df1.shape)\n",
        "print(\"df2:\",df2.shape)\n",
        "print(\"df3:\",df3.shape)\n",
        "print(\"df4:\",df4.shape)\n",
        "print(\"df5:\",df5.shape)"
      ]
    },
    {
      "cell_type": "code",
      "execution_count": 5,
      "metadata": {
        "id": "fwePQ4avGmDl"
      },
      "outputs": [],
      "source": [
        "#merging all datasets based on \"CstomerID\"\n",
        "sample_1=pd.merge(df1,df2)\n",
        "sample_2=pd.merge(sample_1,df3)\n",
        "sample_3=pd.merge(sample_2,df4)\n",
        "master=pd.merge(sample_3,df5)\n"
      ]
    },
    {
      "cell_type": "code",
      "execution_count": 6,
      "metadata": {
        "id": "VU4DR4NqLdie"
      },
      "outputs": [],
      "source": [
        "#to see all the columns setting max columnn is none \n",
        "pd.set_option('display.max_columns', None)"
      ]
    },
    {
      "cell_type": "code",
      "execution_count": null,
      "metadata": {
        "id": "B1pHO_fmG3nX"
      },
      "outputs": [],
      "source": [
        "master.head(10)"
      ]
    },
    {
      "cell_type": "code",
      "execution_count": 8,
      "metadata": {
        "colab": {
          "base_uri": "https://localhost:8080/"
        },
        "id": "A7OWazJKl8wg",
        "outputId": "2c298cd7-efbe-4e40-a685-bef8505806eb"
      },
      "outputs": [
        {
          "output_type": "execute_result",
          "data": {
            "text/plain": [
              "(28836, 42)"
            ]
          },
          "metadata": {},
          "execution_count": 8
        }
      ],
      "source": [
        "master.shape"
      ]
    },
    {
      "cell_type": "code",
      "execution_count": null,
      "metadata": {
        "id": "oSPXhDRJmBWz"
      },
      "outputs": [],
      "source": [
        "master.to_csv('master.csv')"
      ]
    },
    {
      "cell_type": "code",
      "execution_count": null,
      "metadata": {
        "id": "WZ-FwtWLOsvd"
      },
      "outputs": [],
      "source": [
        "NA=master.loc[master['PolicyAnnualPremium'] ==-1]\n",
        "NA"
      ]
    },
    {
      "cell_type": "code",
      "execution_count": 10,
      "metadata": {
        "id": "9puT7ixLTRIF"
      },
      "outputs": [],
      "source": [
        "# we can see some missing values denoted by '?' so  replace missing values with np.nan\n",
        "\n",
        "master.replace('?', np.nan, inplace = True)\n",
        "\n"
      ]
    },
    {
      "cell_type": "code",
      "execution_count": null,
      "metadata": {
        "id": "br9TCh16LbyQ"
      },
      "outputs": [],
      "source": [
        "#checking null values before changeing cat to num it showes 0 everythink false\n",
        "master.isnull().sum()"
      ]
    },
    {
      "cell_type": "code",
      "execution_count": null,
      "metadata": {
        "id": "yp_EJrP5N2HS"
      },
      "outputs": [],
      "source": [
        "#no of coluns with unique values\n",
        "print('columns and number of unique values')\n",
        "dict=[]\n",
        "for i in master.columns:\n",
        "    print(f'{i} ---> {master[i].unique()}')"
      ]
    },
    {
      "cell_type": "code",
      "source": [
        "for col in master.columns:\n",
        "  print(col,':',len(master[col].unique()),'labels')"
      ],
      "metadata": {
        "id": "BKSUY0E6-O9D"
      },
      "execution_count": null,
      "outputs": []
    },
    {
      "cell_type": "code",
      "execution_count": 20,
      "metadata": {
        "id": "WDIQ9MJKjxHa"
      },
      "outputs": [],
      "source": [
        "# Making a list of missing value types\n",
        "missing_values = [\"MISSEDDATA\",\"NA\",\"?\",\"MISSINGVALUE\",\"???\",\"-5\",\"MISSINGVAL\",\"-1\"]\n"
      ]
    },
    {
      "cell_type": "code",
      "execution_count": 21,
      "metadata": {
        "id": "aybMF3PoJ7T5"
      },
      "outputs": [],
      "source": [
        "test= master.copy()"
      ]
    },
    {
      "cell_type": "code",
      "execution_count": null,
      "metadata": {
        "id": "Ga4YfTgAJ7T6"
      },
      "outputs": [],
      "source": [
        "test.head()"
      ]
    },
    {
      "cell_type": "code",
      "execution_count": 23,
      "metadata": {
        "id": "Aiv0nVfUJ7T8"
      },
      "outputs": [],
      "source": [
        "for column in test.columns:\n",
        "    for missing in missing_values:\n",
        "        test[column] = np.where(test[column]==missing, np.nan, test[column])\n",
        "    "
      ]
    },
    {
      "cell_type": "code",
      "source": [
        "#no of coluns with unique values\n",
        "print('columns and number of unique values')\n",
        "dict=[]\n",
        "for i in test.columns:\n",
        "    print(f'{i} ---> {test[i].unique()}')"
      ],
      "metadata": {
        "id": "HP5KQFtIAO9S"
      },
      "execution_count": null,
      "outputs": []
    },
    {
      "cell_type": "code",
      "execution_count": null,
      "metadata": {
        "id": "UsKZXZT-J7T9"
      },
      "outputs": [],
      "source": [
        "test.head()"
      ]
    },
    {
      "cell_type": "code",
      "source": [
        "test.isnull().sum()"
      ],
      "metadata": {
        "id": "6G6o0wufBQlt"
      },
      "execution_count": null,
      "outputs": []
    },
    {
      "cell_type": "code",
      "source": [
        "import missingno as msno\n",
        "\n",
        "msno.bar(test)\n",
        "plt.show()"
      ],
      "metadata": {
        "id": "oSQYsawQC3ZP"
      },
      "execution_count": null,
      "outputs": []
    },
    {
      "cell_type": "code",
      "source": [
        "test.info()"
      ],
      "metadata": {
        "id": "A1c7s-57Behi"
      },
      "execution_count": null,
      "outputs": []
    },
    {
      "cell_type": "code",
      "execution_count": null,
      "metadata": {
        "id": "f52yWau0OXrm"
      },
      "outputs": [],
      "source": [
        "#catogorical columns \n",
        "categorical_columns = master.select_dtypes(include=['object']).columns\n",
        "categorical_columns"
      ]
    },
    {
      "cell_type": "code",
      "execution_count": null,
      "metadata": {
        "id": "Q0PXEoQdSDSI"
      },
      "outputs": [],
      "source": [
        "master.info()"
      ]
    },
    {
      "cell_type": "code",
      "execution_count": null,
      "metadata": {
        "id": "F6R5uMjoOt40"
      },
      "outputs": [],
      "source": [
        "master.dtypes.T"
      ]
    },
    {
      "cell_type": "code",
      "execution_count": null,
      "metadata": {
        "id": "-F5au_TpILml"
      },
      "outputs": [],
      "source": []
    }
  ],
  "metadata": {
    "accelerator": "GPU",
    "colab": {
      "collapsed_sections": [],
      "provenance": [],
      "include_colab_link": true
    },
    "kernelspec": {
      "display_name": "Python 3 (ipykernel)",
      "language": "python",
      "name": "python3"
    },
    "language_info": {
      "codemirror_mode": {
        "name": "ipython",
        "version": 3
      },
      "file_extension": ".py",
      "mimetype": "text/x-python",
      "name": "python",
      "nbconvert_exporter": "python",
      "pygments_lexer": "ipython3",
      "version": "3.9.7"
    }
  },
  "nbformat": 4,
  "nbformat_minor": 0
}