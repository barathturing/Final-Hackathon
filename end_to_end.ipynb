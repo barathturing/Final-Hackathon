{
  "cells": [
    {
      "cell_type": "markdown",
      "metadata": {
        "id": "view-in-github",
        "colab_type": "text"
      },
      "source": [
        "<a href=\"https://colab.research.google.com/github/barathturing/final-hack/blob/main/end_to_end.ipynb\" target=\"_parent\"><img src=\"https://colab.research.google.com/assets/colab-badge.svg\" alt=\"Open In Colab\"/></a>"
      ]
    },
    {
      "cell_type": "markdown",
      "source": [
        "# **Business Problem Understanding**\n",
        "# we need to predict the vechile insurence **claim** is fradulent or not based on the data which given the data contains detailed about \n",
        "1. Demographics Data  \n",
        "2.  Policy Information  \n",
        "3. Data of Claim \n",
        "4. Data of  Vehicle \n",
        "\n",
        "\n",
        "Claim related fraud is a huge problem in the insurance industry.It is complex and difficult to identify those unwanted claims. With Random Forest Machine Learning Algorithm, I am trying to troubleshoot and help the General Insurance industry with this problem.\n"
      ],
      "metadata": {
        "id": "mg5WwNa0-0NJ"
      }
    },
    {
      "cell_type": "code",
      "execution_count": 130,
      "metadata": {
        "id": "LRYZci46YJa_"
      },
      "outputs": [],
      "source": [
        "#importing basic libraries \n",
        "import pandas as pd\n",
        "import numpy as np\n",
        "import matplotlib.pyplot as plt\n",
        "import seaborn as sns\n",
        "pd.set_option('display.max_columns', None)\n",
        "pd.set_option('display.max_rows', 50)"
      ]
    },
    {
      "cell_type": "code",
      "execution_count": 131,
      "metadata": {
        "colab": {
          "base_uri": "https://localhost:8080/"
        },
        "id": "FyXheYzaYNO8",
        "outputId": "e279cdfb-1e20-4775-cd4e-9443477cea95"
      },
      "outputs": [
        {
          "output_type": "stream",
          "name": "stdout",
          "text": [
            "Drive already mounted at /content/drive; to attempt to forcibly remount, call drive.mount(\"/content/drive\", force_remount=True).\n"
          ]
        }
      ],
      "source": [
        "from google.colab import drive\n",
        "drive.mount(\"/content/drive\")"
      ]
    },
    {
      "cell_type": "code",
      "execution_count": 132,
      "metadata": {
        "id": "r3fJMo3UYR-D"
      },
      "outputs": [],
      "source": [
        "#Reading files using pandas\n",
        "df1=pd.read_csv(\"/content/drive/MyDrive/TrainData/Train_Claim.csv\")\n",
        "df2=pd.read_csv(\"/content/drive/MyDrive/TrainData/Train_Demographics.csv\")\n",
        "df3=pd.read_csv(\"/content/drive/MyDrive/TrainData/Train_Policy.csv\")\n",
        "df4=pd.read_csv(\"/content/drive/MyDrive/TrainData/Train_Vehicle_new.csv\")\n",
        "df5=pd.read_csv(\"/content/drive/MyDrive/TrainData/Traindata_with_Target.csv\")"
      ]
    },
    {
      "cell_type": "code",
      "execution_count": 133,
      "metadata": {
        "colab": {
          "base_uri": "https://localhost:8080/"
        },
        "id": "XvEc_lQhYrKe",
        "outputId": "c6d71d0c-a9f0-49dd-c281-ecbe3017bf6a"
      },
      "outputs": [
        {
          "output_type": "stream",
          "name": "stdout",
          "text": [
            "df1: (28836, 19)\n",
            "df2: (28836, 10)\n",
            "df3: (28836, 10)\n",
            "df4: (28836, 5)\n",
            "df5: (28836, 2)\n"
          ]
        }
      ],
      "source": [
        "#checking shape of each datasets\n",
        "print(\"df1:\",df1.shape)\n",
        "print(\"df2:\",df2.shape)\n",
        "print(\"df3:\",df3.shape)\n",
        "print(\"df4:\",df4.shape)\n",
        "print(\"df5:\",df5.shape)"
      ]
    },
    {
      "cell_type": "code",
      "execution_count": 134,
      "metadata": {
        "id": "5FEPTdV6YtfV"
      },
      "outputs": [],
      "source": [
        "#merging all datasets based on \"CstomerID\"\n",
        "sample_1=pd.merge(df1,df2)\n",
        "sample_2=pd.merge(sample_1,df3)\n",
        "sample_3=pd.merge(sample_2,df4)\n",
        "master=pd.merge(sample_3,df5)"
      ]
    },
    {
      "cell_type": "code",
      "execution_count": null,
      "metadata": {
        "id": "y0gbh4IuYx69"
      },
      "outputs": [],
      "source": [
        "master.head()"
      ]
    },
    {
      "cell_type": "code",
      "execution_count": 136,
      "metadata": {
        "id": "Q5lsJV01thlA"
      },
      "outputs": [],
      "source": [
        "# Making a list of missing value types\n",
        "missing_values = [\"MISSEDDATA\",\"NA\",\"?\",\"MISSINGVALUE\",\"???\",-5,\"MISSINGVAL\",-1,\"N/A\",\"na\"]"
      ]
    },
    {
      "cell_type": "code",
      "execution_count": 137,
      "metadata": {
        "id": "L6m_g9uptlL9"
      },
      "outputs": [],
      "source": [
        "#we create one missing values list by using that if that comes in any place we replace it with nan\n",
        "for column in master.columns:\n",
        "    for missing in missing_values:\n",
        "        master[column] = np.where(master[column]==missing, np.NaN, master[column])"
      ]
    },
    {
      "cell_type": "code",
      "execution_count": 138,
      "metadata": {
        "id": "xPiWk0qSY6tk",
        "colab": {
          "base_uri": "https://localhost:8080/"
        },
        "outputId": "0470c859-ca13-4eaf-ec56-e2fe0b7d584f"
      },
      "outputs": [
        {
          "output_type": "execute_result",
          "data": {
            "text/plain": [
              "CustomerID                        0\n",
              "DateOfIncident                    0\n",
              "TypeOfIncident                    0\n",
              "TypeOfCollission               5162\n",
              "SeverityOfIncident                0\n",
              "AuthoritiesContacted              0\n",
              "IncidentState                     0\n",
              "IncidentCity                      0\n",
              "IncidentAddress                   0\n",
              "IncidentTime                     31\n",
              "NumberOfVehicles                  0\n",
              "PropertyDamage                10459\n",
              "BodilyInjuries                    0\n",
              "Witnesses                        46\n",
              "PoliceReport                   9805\n",
              "AmountOfTotalClaim               50\n",
              "AmountOfInjuryClaim               0\n",
              "AmountOfPropertyClaim             0\n",
              "AmountOfVehicleDamage             0\n",
              "InsuredAge                        0\n",
              "InsuredZipCode                    0\n",
              "InsuredGender                    30\n",
              "InsuredEducationLevel             0\n",
              "InsuredOccupation                 0\n",
              "InsuredHobbies                    0\n",
              "CapitalGains                      0\n",
              "CapitalLoss                       0\n",
              "Country                           2\n",
              "InsurancePolicyNumber             0\n",
              "CustomerLoyaltyPeriod             0\n",
              "DateOfPolicyCoverage              0\n",
              "InsurancePolicyState              0\n",
              "Policy_CombinedSingleLimit        0\n",
              "Policy_Deductible                 0\n",
              "PolicyAnnualPremium             141\n",
              "UmbrellaLimit                     0\n",
              "InsuredRelationship               0\n",
              "VehicleID                         0\n",
              "VehicleMake                      50\n",
              "VehicleModel                      0\n",
              "VehicleYOM                        0\n",
              "ReportedFraud                     0\n",
              "dtype: int64"
            ]
          },
          "metadata": {},
          "execution_count": 138
        }
      ],
      "source": [
        "master.isnull().sum()"
      ]
    },
    {
      "cell_type": "code",
      "execution_count": 139,
      "metadata": {
        "id": "Ob58MZgnaMDD",
        "colab": {
          "base_uri": "https://localhost:8080/"
        },
        "outputId": "ff1749e3-2bc3-4e29-81fa-4fe710dc9a8a"
      },
      "outputs": [
        {
          "output_type": "stream",
          "name": "stdout",
          "text": [
            "<class 'pandas.core.frame.DataFrame'>\n",
            "Int64Index: 28836 entries, 0 to 28835\n",
            "Data columns (total 42 columns):\n",
            " #   Column                      Non-Null Count  Dtype  \n",
            "---  ------                      --------------  -----  \n",
            " 0   CustomerID                  28836 non-null  object \n",
            " 1   DateOfIncident              28836 non-null  object \n",
            " 2   TypeOfIncident              28836 non-null  object \n",
            " 3   TypeOfCollission            23674 non-null  object \n",
            " 4   SeverityOfIncident          28836 non-null  object \n",
            " 5   AuthoritiesContacted        28836 non-null  object \n",
            " 6   IncidentState               28836 non-null  object \n",
            " 7   IncidentCity                28836 non-null  object \n",
            " 8   IncidentAddress             28836 non-null  object \n",
            " 9   IncidentTime                28805 non-null  float64\n",
            " 10  NumberOfVehicles            28836 non-null  float64\n",
            " 11  PropertyDamage              18377 non-null  object \n",
            " 12  BodilyInjuries              28836 non-null  float64\n",
            " 13  Witnesses                   28790 non-null  object \n",
            " 14  PoliceReport                19031 non-null  object \n",
            " 15  AmountOfTotalClaim          28786 non-null  object \n",
            " 16  AmountOfInjuryClaim         28836 non-null  float64\n",
            " 17  AmountOfPropertyClaim       28836 non-null  float64\n",
            " 18  AmountOfVehicleDamage       28836 non-null  float64\n",
            " 19  InsuredAge                  28836 non-null  float64\n",
            " 20  InsuredZipCode              28836 non-null  float64\n",
            " 21  InsuredGender               28806 non-null  object \n",
            " 22  InsuredEducationLevel       28836 non-null  object \n",
            " 23  InsuredOccupation           28836 non-null  object \n",
            " 24  InsuredHobbies              28836 non-null  object \n",
            " 25  CapitalGains                28836 non-null  float64\n",
            " 26  CapitalLoss                 28836 non-null  float64\n",
            " 27  Country                     28834 non-null  object \n",
            " 28  InsurancePolicyNumber       28836 non-null  float64\n",
            " 29  CustomerLoyaltyPeriod       28836 non-null  float64\n",
            " 30  DateOfPolicyCoverage        28836 non-null  object \n",
            " 31  InsurancePolicyState        28836 non-null  object \n",
            " 32  Policy_CombinedSingleLimit  28836 non-null  object \n",
            " 33  Policy_Deductible           28836 non-null  float64\n",
            " 34  PolicyAnnualPremium         28695 non-null  float64\n",
            " 35  UmbrellaLimit               28836 non-null  float64\n",
            " 36  InsuredRelationship         28836 non-null  object \n",
            " 37  VehicleID                   28836 non-null  object \n",
            " 38  VehicleMake                 28786 non-null  object \n",
            " 39  VehicleModel                28836 non-null  object \n",
            " 40  VehicleYOM                  28836 non-null  float64\n",
            " 41  ReportedFraud               28836 non-null  object \n",
            "dtypes: float64(16), object(26)\n",
            "memory usage: 9.5+ MB\n"
          ]
        }
      ],
      "source": [
        "master.info()"
      ]
    },
    {
      "cell_type": "code",
      "execution_count": 140,
      "metadata": {
        "id": "Axo9IEZ2Nuf1",
        "colab": {
          "base_uri": "https://localhost:8080/"
        },
        "outputId": "4d1a7bde-05a1-46c7-d133-3e90b37282d2"
      },
      "outputs": [
        {
          "output_type": "execute_result",
          "data": {
            "text/plain": [
              "CustomerID                     0.000000\n",
              "DateOfIncident                 0.000000\n",
              "TypeOfIncident                 0.000000\n",
              "TypeOfCollission              17.901235\n",
              "SeverityOfIncident             0.000000\n",
              "AuthoritiesContacted           0.000000\n",
              "IncidentState                  0.000000\n",
              "IncidentCity                   0.000000\n",
              "IncidentAddress                0.000000\n",
              "IncidentTime                   0.107505\n",
              "NumberOfVehicles               0.000000\n",
              "PropertyDamage                36.270634\n",
              "BodilyInjuries                 0.000000\n",
              "Witnesses                      0.159523\n",
              "PoliceReport                  34.002636\n",
              "AmountOfTotalClaim             0.173394\n",
              "AmountOfInjuryClaim            0.000000\n",
              "AmountOfPropertyClaim          0.000000\n",
              "AmountOfVehicleDamage          0.000000\n",
              "InsuredAge                     0.000000\n",
              "InsuredZipCode                 0.000000\n",
              "InsuredGender                  0.104037\n",
              "InsuredEducationLevel          0.000000\n",
              "InsuredOccupation              0.000000\n",
              "InsuredHobbies                 0.000000\n",
              "CapitalGains                   0.000000\n",
              "CapitalLoss                    0.000000\n",
              "Country                        0.006936\n",
              "InsurancePolicyNumber          0.000000\n",
              "CustomerLoyaltyPeriod          0.000000\n",
              "DateOfPolicyCoverage           0.000000\n",
              "InsurancePolicyState           0.000000\n",
              "Policy_CombinedSingleLimit     0.000000\n",
              "Policy_Deductible              0.000000\n",
              "PolicyAnnualPremium            0.488972\n",
              "UmbrellaLimit                  0.000000\n",
              "InsuredRelationship            0.000000\n",
              "VehicleID                      0.000000\n",
              "VehicleMake                    0.173394\n",
              "VehicleModel                   0.000000\n",
              "VehicleYOM                     0.000000\n",
              "ReportedFraud                  0.000000\n",
              "dtype: float64"
            ]
          },
          "metadata": {},
          "execution_count": 140
        }
      ],
      "source": [
        "#checking missing values percent using isnull function \n",
        "master.isnull().sum()/len(master)*100 "
      ]
    },
    {
      "cell_type": "markdown",
      "metadata": {
        "id": "6uwfxoODN9dl"
      },
      "source": [
        "# Imputing Missing Values for both **numeric** and **catagorical**"
      ]
    },
    {
      "cell_type": "code",
      "execution_count": 142,
      "metadata": {
        "id": "f5Tw9BKbSguy",
        "colab": {
          "base_uri": "https://localhost:8080/",
          "height": 786
        },
        "outputId": "2dcad699-14df-43fc-8072-b7ffcee89fbf"
      },
      "outputs": [
        {
          "output_type": "display_data",
          "data": {
            "text/plain": [
              "<Figure size 1080x864 with 16 Axes>"
            ],
            "image/png": "[encoded data removed]"
          },
          "metadata": {}
        }
      ],
      "source": [
        "#by using hist graph we can see how data distributed\n",
        "master.hist(bins=50,figsize=(15, 12))\n",
        "plt.show()"
      ]
    },
    {
      "cell_type": "code",
      "execution_count": 143,
      "metadata": {
        "id": "0uaOIbatOPHY"
      },
      "outputs": [],
      "source": [
        "##  Replace NAN values with most occured category in TypeOfCollission\n",
        "Mode_Category = master[\"TypeOfCollission\"].mode()[0]\n",
        "master[\"TypeOfCollission\"].fillna(Mode_Category,inplace=True)"
      ]
    },
    {
      "cell_type": "code",
      "execution_count": 144,
      "metadata": {
        "id": "Iw3VlftwOYAv"
      },
      "outputs": [],
      "source": [
        "##  Replace NAN values with median in IncidentTime\n",
        "median=master['IncidentTime'].median()\n",
        "master['IncidentTime'].fillna(median,inplace=True)"
      ]
    },
    {
      "cell_type": "code",
      "execution_count": 145,
      "metadata": {
        "id": "u0bRWiGIOfEs"
      },
      "outputs": [],
      "source": [
        "#drop country missing value data \n",
        "master.drop(['Country'],axis=1,inplace=True)"
      ]
    },
    {
      "cell_type": "code",
      "execution_count": 146,
      "metadata": {
        "id": "He2mOpj4OmWw"
      },
      "outputs": [],
      "source": [
        "##  Replace NAN values with median  in witness\n",
        "median_1=master['Witnesses'].median()\n",
        "master['Witnesses'].fillna(median_1,inplace=True)"
      ]
    },
    {
      "cell_type": "code",
      "execution_count": null,
      "metadata": {
        "id": "hTEqn-FdOzpQ"
      },
      "outputs": [],
      "source": [
        "##  Replace NAN values with most occured category in police report\n",
        "#Mode_Category_1 = master[\"PoliceReport\"].mode()[0]\n",
        "#master[\"PoliceReport\"].fillna(Mode_Category_1,inplace=True)"
      ]
    },
    {
      "cell_type": "code",
      "source": [
        "master['PoliceReport'].fillna('missing',inplace=True)"
      ],
      "metadata": {
        "id": "UnU9aIPObkk1"
      },
      "execution_count": 147,
      "outputs": []
    },
    {
      "cell_type": "code",
      "source": [
        "master['PoliceReport']"
      ],
      "metadata": {
        "id": "i7gIoqQVbo0M"
      },
      "execution_count": null,
      "outputs": []
    },
    {
      "cell_type": "code",
      "execution_count": 149,
      "metadata": {
        "id": "9e1coBkhO4f-"
      },
      "outputs": [],
      "source": [
        "###  Replace NAN values with median in AmountOfTotalClaim\n",
        "median_2=master['AmountOfTotalClaim'].median()\n",
        "master['AmountOfTotalClaim'].fillna(median_2,inplace=True)"
      ]
    },
    {
      "cell_type": "code",
      "execution_count": 150,
      "metadata": {
        "id": "F0hyISDNO7jw"
      },
      "outputs": [],
      "source": [
        "##  Replace NAN values with most occured category in gender\n",
        "Mode_Category_2 = master[\"InsuredGender\"].mode()[0]\n",
        "master[\"InsuredGender\"].fillna(Mode_Category_2,inplace=True)"
      ]
    },
    {
      "cell_type": "code",
      "execution_count": 151,
      "metadata": {
        "id": "wnptF0hdO_FI"
      },
      "outputs": [],
      "source": [
        "master.drop(['CustomerID','VehicleID','InsurancePolicyNumber'],axis=1,inplace=True)"
      ]
    },
    {
      "cell_type": "code",
      "execution_count": 152,
      "metadata": {
        "id": "XxU-4qqSPTnf"
      },
      "outputs": [],
      "source": [
        "###  Replace NAN values with median in PolicyAnnualPremium \n",
        "median_3=master['PolicyAnnualPremium'].median()\n",
        "master['PolicyAnnualPremium'].fillna(median_3,inplace=True)"
      ]
    },
    {
      "cell_type": "code",
      "execution_count": 153,
      "metadata": {
        "id": "l4d0hdjWPbvE"
      },
      "outputs": [],
      "source": [
        "##  Replace NAN values with most occured category in VehicleMake\n",
        "Mode_Category_3 = master[\"VehicleMake\"].mode()[0]\n",
        "master[\"VehicleMake\"].fillna(Mode_Category_3,inplace=True)"
      ]
    },
    {
      "cell_type": "code",
      "execution_count": null,
      "metadata": {
        "id": "lSMmkPgMPgAG"
      },
      "outputs": [],
      "source": [
        "master.isnull().sum().any()"
      ]
    },
    {
      "cell_type": "code",
      "source": [
        "master['PropertyDamage'].fillna('missing',inplace=True)"
      ],
      "metadata": {
        "id": "873LccQrBHfv"
      },
      "execution_count": 155,
      "outputs": []
    },
    {
      "cell_type": "code",
      "source": [
        "master['PropertyDamage']"
      ],
      "metadata": {
        "id": "oaLKFZqXBMOF"
      },
      "execution_count": null,
      "outputs": []
    },
    {
      "cell_type": "code",
      "source": [
        "#master['PD']=[1 if i=='missing' else 0 for i in master.PropertyDamage ]\n",
        "#master=master.drop(columns=['PropertyDamage'])"
      ],
      "metadata": {
        "id": "cWSHkq8oBY8J"
      },
      "execution_count": null,
      "outputs": []
    },
    {
      "cell_type": "code",
      "execution_count": null,
      "metadata": {
        "id": "fhHbZGCvP-FQ"
      },
      "outputs": [],
      "source": [
        "master.info()"
      ]
    },
    {
      "cell_type": "code",
      "execution_count": 158,
      "metadata": {
        "id": "I_uaiZqop84N"
      },
      "outputs": [],
      "source": [
        "#two numerical feature shows object type change type to numerical\n",
        "master['AmountOfTotalClaim'] = master['AmountOfTotalClaim'].astype('int')\n",
        "master['Witnesses']=master['Witnesses'].astype('int')"
      ]
    },
    {
      "cell_type": "code",
      "execution_count": null,
      "metadata": {
        "id": "sbFldDN5Td6Q"
      },
      "outputs": [],
      "source": [
        "master['ReportedFraud'].value_counts()"
      ]
    },
    {
      "cell_type": "markdown",
      "metadata": {
        "id": "-fRZ1CXbYWCJ"
      },
      "source": [
        "# Visuvalization "
      ]
    },
    {
      "cell_type": "code",
      "execution_count": 28,
      "metadata": {
        "id": "iSUXvi8hTgpC",
        "colab": {
          "base_uri": "https://localhost:8080/",
          "height": 304
        },
        "outputId": "a2044980-12f3-42cf-e755-a7c086c46cc6"
      },
      "outputs": [
        {
          "output_type": "display_data",
          "data": {
            "text/plain": [
              "<Figure size 432x288 with 1 Axes>"
            ],
            "image/png": "[encoded data removed]"
          },
          "metadata": {}
        }
      ],
      "source": [
        "plt.style.use('fivethirtyeight')\n",
        "ax = sns.countplot(x='ReportedFraud', data=master, hue='ReportedFraud')"
      ]
    },
    {
      "cell_type": "code",
      "execution_count": 25,
      "metadata": {
        "id": "j4BVEYF0Y2Ae"
      },
      "outputs": [],
      "source": [
        "#function for crosstabs\n",
        "def cross_tab(x,y):\n",
        "    crtab = pd.crosstab(master[x], master[y])\n",
        "    return crtab"
      ]
    },
    {
      "cell_type": "code",
      "execution_count": null,
      "metadata": {
        "id": "QNos2WpjYbuJ"
      },
      "outputs": [],
      "source": [
        "#insuredgender vs ReportedFraud\n",
        "cross_tab('InsuredGender','ReportedFraud')"
      ]
    },
    {
      "cell_type": "code",
      "execution_count": null,
      "metadata": {
        "id": "uj_UGZZvZhA3"
      },
      "outputs": [],
      "source": [
        "sns.catplot(data=master,x='InsuredGender',hue='ReportedFraud',kind='count')"
      ]
    },
    {
      "cell_type": "code",
      "source": [
        "#insuredgender vs ReportedFraud\n",
        "cross_tab('PoliceReport','ReportedFraud')"
      ],
      "metadata": {
        "colab": {
          "base_uri": "https://localhost:8080/",
          "height": 175
        },
        "id": "V8U7JshCdClV",
        "outputId": "423d3ef0-4e22-4baa-ccec-4003451ae756"
      },
      "execution_count": 29,
      "outputs": [
        {
          "output_type": "execute_result",
          "data": {
            "text/plain": [
              "ReportedFraud     N     Y\n",
              "PoliceReport             \n",
              "NO             7230  2668\n",
              "YES            6721  2412\n",
              "missing        7100  2705"
            ],
            "text/html": [
              "\n",
              "  <div id=\"df-7a9e8ab6-78f2-432e-849c-8b4e6e0c99c8\">\n",
              "    <div class=\"colab-df-container\">\n",
              "      <div>\n",
              "<style scoped>\n",
              "    .dataframe tbody tr th:only-of-type {\n",
              "        vertical-align: middle;\n",
              "    }\n",
              "\n",
              "    .dataframe tbody tr th {\n",
              "        vertical-align: top;\n",
              "    }\n",
              "\n",
              "    .dataframe thead th {\n",
              "        text-align: right;\n",
              "    }\n",
              "</style>\n",
              "<table border=\"1\" class=\"dataframe\">\n",
              "  <thead>\n",
              "    <tr style=\"text-align: right;\">\n",
              "      <th>ReportedFraud</th>\n",
              "      <th>N</th>\n",
              "      <th>Y</th>\n",
              "    </tr>\n",
              "    <tr>\n",
              "      <th>PoliceReport</th>\n",
              "      <th></th>\n",
              "      <th></th>\n",
              "    </tr>\n",
              "  </thead>\n",
              "  <tbody>\n",
              "    <tr>\n",
              "      <th>NO</th>\n",
              "      <td>7230</td>\n",
              "      <td>2668</td>\n",
              "    </tr>\n",
              "    <tr>\n",
              "      <th>YES</th>\n",
              "      <td>6721</td>\n",
              "      <td>2412</td>\n",
              "    </tr>\n",
              "    <tr>\n",
              "      <th>missing</th>\n",
              "      <td>7100</td>\n",
              "      <td>2705</td>\n",
              "    </tr>\n",
              "  </tbody>\n",
              "</table>\n",
              "</div>\n",
              "      <button class=\"colab-df-convert\" onclick=\"convertToInteractive('df-7a9e8ab6-78f2-432e-849c-8b4e6e0c99c8')\"\n",
              "              title=\"Convert this dataframe to an interactive table.\"\n",
              "              style=\"display:none;\">\n",
              "        \n",
              "  <svg xmlns=\"http://www.w3.org/2000/svg\" height=\"24px\"viewBox=\"0 0 24 24\"\n",
              "       width=\"24px\">\n",
              "    <path d=\"M0 0h24v24H0V0z\" fill=\"none\"/>\n",
              "    <path d=\"M18.56 5.44l.94 2.06.94-2.06 2.06-.94-2.06-.94-.94-2.06-.94 2.06-2.06.94zm-11 1L8.5 8.5l.94-2.06 2.06-.94-2.06-.94L8.5 2.5l-.94 2.06-2.06.94zm10 10l.94 2.06.94-2.06 2.06-.94-2.06-.94-.94-2.06-.94 2.06-2.06.94z\"/><path d=\"M17.41 7.96l-1.37-1.37c-.4-.4-.92-.59-1.43-.59-.52 0-1.04.2-1.43.59L10.3 9.45l-7.72 7.72c-.78.78-.78 2.05 0 2.83L4 21.41c.39.39.9.59 1.41.59.51 0 1.02-.2 1.41-.59l7.78-7.78 2.81-2.81c.8-.78.8-2.07 0-2.86zM5.41 20L4 18.59l7.72-7.72 1.47 1.35L5.41 20z\"/>\n",
              "  </svg>\n",
              "      </button>\n",
              "      \n",
              "  <style>\n",
              "    .colab-df-container {\n",
              "      display:flex;\n",
              "      flex-wrap:wrap;\n",
              "      gap: 12px;\n",
              "    }\n",
              "\n",
              "    .colab-df-convert {\n",
              "      background-color: #E8F0FE;\n",
              "      border: none;\n",
              "      border-radius: 50%;\n",
              "      cursor: pointer;\n",
              "      display: none;\n",
              "      fill: #1967D2;\n",
              "      height: 32px;\n",
              "      padding: 0 0 0 0;\n",
              "      width: 32px;\n",
              "    }\n",
              "\n",
              "    .colab-df-convert:hover {\n",
              "      background-color: #E2EBFA;\n",
              "      box-shadow: 0px 1px 2px rgba(60, 64, 67, 0.3), 0px 1px 3px 1px rgba(60, 64, 67, 0.15);\n",
              "      fill: #174EA6;\n",
              "    }\n",
              "\n",
              "    [theme=dark] .colab-df-convert {\n",
              "      background-color: #3B4455;\n",
              "      fill: #D2E3FC;\n",
              "    }\n",
              "\n",
              "    [theme=dark] .colab-df-convert:hover {\n",
              "      background-color: #434B5C;\n",
              "      box-shadow: 0px 1px 3px 1px rgba(0, 0, 0, 0.15);\n",
              "      filter: drop-shadow(0px 1px 2px rgba(0, 0, 0, 0.3));\n",
              "      fill: #FFFFFF;\n",
              "    }\n",
              "  </style>\n",
              "\n",
              "      <script>\n",
              "        const buttonEl =\n",
              "          document.querySelector('#df-7a9e8ab6-78f2-432e-849c-8b4e6e0c99c8 button.colab-df-convert');\n",
              "        buttonEl.style.display =\n",
              "          google.colab.kernel.accessAllowed ? 'block' : 'none';\n",
              "\n",
              "        async function convertToInteractive(key) {\n",
              "          const element = document.querySelector('#df-7a9e8ab6-78f2-432e-849c-8b4e6e0c99c8');\n",
              "          const dataTable =\n",
              "            await google.colab.kernel.invokeFunction('convertToInteractive',\n",
              "                                                     [key], {});\n",
              "          if (!dataTable) return;\n",
              "\n",
              "          const docLinkHtml = 'Like what you see? Visit the ' +\n",
              "            '<a target=\"_blank\" href=https://colab.research.google.com/notebooks/data_table.ipynb>data table notebook</a>'\n",
              "            + ' to learn more about interactive tables.';\n",
              "          element.innerHTML = '';\n",
              "          dataTable['output_type'] = 'display_data';\n",
              "          await google.colab.output.renderOutput(dataTable, element);\n",
              "          const docLink = document.createElement('div');\n",
              "          docLink.innerHTML = docLinkHtml;\n",
              "          element.appendChild(docLink);\n",
              "        }\n",
              "      </script>\n",
              "    </div>\n",
              "  </div>\n",
              "  "
            ]
          },
          "metadata": {},
          "execution_count": 29
        }
      ]
    },
    {
      "cell_type": "code",
      "source": [
        "#sevarity of incident vs Reportedfraud \n",
        "sns.catplot(data=master,x='SeverityOfIncident',hue='ReportedFraud',kind='count')\n",
        "plt.xticks(rotation = 90)"
      ],
      "metadata": {
        "colab": {
          "base_uri": "https://localhost:8080/",
          "height": 470
        },
        "id": "c4LnrPAKc0sk",
        "outputId": "8407c579-dd0b-4c8a-9fcf-cee9d0eee5dc"
      },
      "execution_count": 44,
      "outputs": [
        {
          "output_type": "execute_result",
          "data": {
            "text/plain": [
              "(array([0, 1, 2, 3]), <a list of 4 Text major ticklabel objects>)"
            ]
          },
          "metadata": {},
          "execution_count": 44
        },
        {
          "output_type": "display_data",
          "data": {
            "text/plain": [
              "<Figure size 474.325x360 with 1 Axes>"
            ],
            "image/png": "[encoded data removed]"
          },
          "metadata": {}
        }
      ]
    },
    {
      "cell_type": "code",
      "source": [
        "#PropertyDamage vs ReportedFraud\n",
        "cross_tab('PropertyDamage','ReportedFraud')"
      ],
      "metadata": {
        "id": "mdzhByevCGFU"
      },
      "execution_count": null,
      "outputs": []
    },
    {
      "cell_type": "code",
      "source": [
        "sns.catplot(data=master,x='PropertyDamage',hue='ReportedFraud',kind='count')"
      ],
      "metadata": {
        "id": "xhPP5Xk1BsPr",
        "colab": {
          "base_uri": "https://localhost:8080/",
          "height": 379
        },
        "outputId": "489b1139-a999-4ad0-ffd8-787e3fd83f48"
      },
      "execution_count": 45,
      "outputs": [
        {
          "output_type": "execute_result",
          "data": {
            "text/plain": [
              "<seaborn.axisgrid.FacetGrid at 0x7fd2a3051f10>"
            ]
          },
          "metadata": {},
          "execution_count": 45
        },
        {
          "output_type": "display_data",
          "data": {
            "text/plain": [
              "<Figure size 474.325x360 with 1 Axes>"
            ],
            "image/png": "[encoded data removed]"
          },
          "metadata": {}
        }
      ]
    },
    {
      "cell_type": "code",
      "execution_count": null,
      "metadata": {
        "id": "QMuL2pXoZ8QF"
      },
      "outputs": [],
      "source": [
        "#InsurancePolicyState v/s ReportedFraud\n",
        "cross_tab('InsurancePolicyState','ReportedFraud')"
      ]
    },
    {
      "cell_type": "code",
      "execution_count": 256,
      "metadata": {
        "id": "5YRPN4Q4aRGr",
        "colab": {
          "base_uri": "https://localhost:8080/",
          "height": 379
        },
        "outputId": "9d0cee6d-e4b0-43aa-cb72-1a63588869e4"
      },
      "outputs": [
        {
          "output_type": "execute_result",
          "data": {
            "text/plain": [
              "<seaborn.axisgrid.FacetGrid at 0x7fd297e48c10>"
            ]
          },
          "metadata": {},
          "execution_count": 256
        },
        {
          "output_type": "display_data",
          "data": {
            "text/plain": [
              "<Figure size 474.325x360 with 1 Axes>"
            ],
            "image/png": "[encoded data removed]"
          },
          "metadata": {}
        }
      ],
      "source": [
        "#insurence policy state vs reported fraud \n",
        "sns.catplot(data=master,x='InsurancePolicyState',hue='ReportedFraud',kind='count')"
      ]
    },
    {
      "cell_type": "code",
      "source": [
        "sns.catplot(data=master,x='PoliceReport',hue='ReportedFraud',kind='count')"
      ],
      "metadata": {
        "colab": {
          "base_uri": "https://localhost:8080/",
          "height": 379
        },
        "id": "MWpHf66GfYmB",
        "outputId": "ec64923f-b4dd-4ded-d55a-0928751131a1"
      },
      "execution_count": 42,
      "outputs": [
        {
          "output_type": "execute_result",
          "data": {
            "text/plain": [
              "<seaborn.axisgrid.FacetGrid at 0x7fd2a312f1d0>"
            ]
          },
          "metadata": {},
          "execution_count": 42
        },
        {
          "output_type": "display_data",
          "data": {
            "text/plain": [
              "<Figure size 474.325x360 with 1 Axes>"
            ],
            "image/png": "[encoded data removed]"
          },
          "metadata": {}
        }
      ]
    },
    {
      "cell_type": "code",
      "source": [
        "sns.catplot(data=master,x='TypeOfCollission',hue='ReportedFraud',kind='count')\n",
        "plt.xticks(rotation = 90)"
      ],
      "metadata": {
        "colab": {
          "base_uri": "https://localhost:8080/",
          "height": 464
        },
        "id": "fcaCjiYxd7vq",
        "outputId": "20c0afd9-cee7-47f1-9b19-3230ce8ab626"
      },
      "execution_count": 35,
      "outputs": [
        {
          "output_type": "execute_result",
          "data": {
            "text/plain": [
              "(array([0, 1, 2]), <a list of 3 Text major ticklabel objects>)"
            ]
          },
          "metadata": {},
          "execution_count": 35
        },
        {
          "output_type": "display_data",
          "data": {
            "text/plain": [
              "<Figure size 474.325x360 with 1 Axes>"
            ],
            "image/png": "[encoded data removed]"
          },
          "metadata": {}
        }
      ]
    },
    {
      "cell_type": "code",
      "execution_count": 38,
      "metadata": {
        "id": "LCmFCdcNa6FA",
        "colab": {
          "base_uri": "https://localhost:8080/",
          "height": 526
        },
        "outputId": "d7a9cb43-acb0-4d22-e1b4-d05bc6b55d17"
      },
      "outputs": [
        {
          "output_type": "execute_result",
          "data": {
            "text/plain": [
              "(array([0, 1, 2, 3]), <a list of 4 Text major ticklabel objects>)"
            ]
          },
          "metadata": {},
          "execution_count": 38
        },
        {
          "output_type": "display_data",
          "data": {
            "text/plain": [
              "<Figure size 474.325x360 with 1 Axes>"
            ],
            "image/png": "[encoded data removed]"
          },
          "metadata": {}
        }
      ],
      "source": [
        "#incidenttype vs ReportedFraud\n",
        "sns.catplot(data=master,x='TypeOfIncident',hue='ReportedFraud',kind='count')\n",
        "plt.xticks(rotation = 90)\n"
      ]
    },
    {
      "cell_type": "code",
      "execution_count": null,
      "metadata": {
        "id": "Zhsg-HR8a6QB"
      },
      "outputs": [],
      "source": [
        "#insured education level v/s ReportedFraud\n",
        "cross_tab('InsuredEducationLevel','ReportedFraud')"
      ]
    },
    {
      "cell_type": "code",
      "execution_count": null,
      "metadata": {
        "id": "WkeZVJ2da6Yc"
      },
      "outputs": [],
      "source": [
        "sns.catplot(data=master,x='InsuredEducationLevel',hue='ReportedFraud',kind='count')\n",
        "plt.xticks(rotation = 90)\n"
      ]
    },
    {
      "cell_type": "code",
      "execution_count": null,
      "metadata": {
        "id": "e_KDQu8pa6kE"
      },
      "outputs": [],
      "source": [
        "#insured relationship v/s ReportedFraud\n",
        "cross_tab('InsuredRelationship','ReportedFraud')"
      ]
    },
    {
      "cell_type": "code",
      "execution_count": 257,
      "metadata": {
        "id": "xGoq-JbxcpNX",
        "colab": {
          "base_uri": "https://localhost:8080/",
          "height": 374
        },
        "outputId": "117a7f62-854b-4720-bb21-bb5706078e7d"
      },
      "outputs": [
        {
          "output_type": "execute_result",
          "data": {
            "text/plain": [
              "(array([0, 1, 2, 3, 4, 5]), <a list of 6 Text major ticklabel objects>)"
            ]
          },
          "metadata": {},
          "execution_count": 257
        },
        {
          "output_type": "display_data",
          "data": {
            "text/plain": [
              "<Figure size 474.325x360 with 1 Axes>"
            ],
            "image/png": "[encoded data removed]"
          },
          "metadata": {}
        }
      ],
      "source": [
        "sns.catplot(data=master,x='InsuredRelationship',hue='ReportedFraud',kind='count')\n",
        "plt.xticks(rotation = 90)"
      ]
    },
    {
      "cell_type": "code",
      "execution_count": null,
      "metadata": {
        "id": "icaHf7JDcpTL"
      },
      "outputs": [],
      "source": [
        "#authorities contacted v/s fraud reported\n",
        "\n",
        "cross_tab('AuthoritiesContacted','ReportedFraud')"
      ]
    },
    {
      "cell_type": "code",
      "execution_count": 39,
      "metadata": {
        "id": "-cWEKGzxcpZI",
        "colab": {
          "base_uri": "https://localhost:8080/",
          "height": 444
        },
        "outputId": "ba1f70a5-a835-4a5e-ce6d-3578f7578cfb"
      },
      "outputs": [
        {
          "output_type": "execute_result",
          "data": {
            "text/plain": [
              "(array([0, 1, 2, 3, 4]), <a list of 5 Text major ticklabel objects>)"
            ]
          },
          "metadata": {},
          "execution_count": 39
        },
        {
          "output_type": "display_data",
          "data": {
            "text/plain": [
              "<Figure size 474.325x360 with 1 Axes>"
            ],
            "image/png": "[encoded data removed]"
          },
          "metadata": {}
        }
      ],
      "source": [
        "#Authoritiescontacted vs reported fraud \n",
        "sns.catplot(data=master,x='AuthoritiesContacted',hue='ReportedFraud',kind='count')\n",
        "plt.xticks(rotation = 90)"
      ]
    },
    {
      "cell_type": "code",
      "source": [
        "#incident city vs Reported fraud\n",
        "sns.catplot(data=master,x='IncidentCity',hue='ReportedFraud',kind='count')\n",
        "plt.xticks(rotation = 90)"
      ],
      "metadata": {
        "id": "2luAi8jAGRrG"
      },
      "execution_count": null,
      "outputs": []
    },
    {
      "cell_type": "code",
      "execution_count": null,
      "metadata": {
        "id": "bdosfqN6eoQ9"
      },
      "outputs": [],
      "source": [
        "plt.figure(figsize = (12, 5))\n",
        "df_temp = master[master.ReportedFraud == 'Y']\n",
        "sns.set_style('darkgrid')\n",
        "sns.countplot(x = 'VehicleYOM', data = master)\n",
        "plt.ylabel('No. of fraud reported')\n",
        "plt.title('ReportedFraud VS VehicleYOM')\n",
        "plt.xticks(rotation = 90)"
      ]
    },
    {
      "cell_type": "code",
      "source": [
        "sns.catplot(data=master,x='InsuredOccupation',hue='ReportedFraud',kind='count')\n",
        "plt.xticks(rotation = 90)"
      ],
      "metadata": {
        "id": "ySkEa54m8uwn"
      },
      "execution_count": null,
      "outputs": []
    },
    {
      "cell_type": "code",
      "source": [
        "sns.catplot(data=master,x='InsuredOccupation',hue='ReportedFraud',kind='count')\n",
        "plt.xticks(rotation = 90)"
      ],
      "metadata": {
        "id": "CU-jCcbIGMo8",
        "colab": {
          "base_uri": "https://localhost:8080/",
          "height": 401
        },
        "outputId": "8be85fc4-9140-4f9c-d751-5775f3c8b60c"
      },
      "execution_count": 259,
      "outputs": [
        {
          "output_type": "execute_result",
          "data": {
            "text/plain": [
              "(array([ 0,  1,  2,  3,  4,  5,  6,  7,  8,  9, 10, 11, 12, 13]),\n",
              " <a list of 14 Text major ticklabel objects>)"
            ]
          },
          "metadata": {},
          "execution_count": 259
        },
        {
          "output_type": "display_data",
          "data": {
            "text/plain": [
              "<Figure size 474.325x360 with 1 Axes>"
            ],
            "image/png": "[encoded data removed]"
          },
          "metadata": {}
        }
      ]
    },
    {
      "cell_type": "code",
      "source": [
        "sns.catplot(data=master,x='BodilyInjuries',hue='ReportedFraud',kind='count')\n",
        "plt.xticks(rotation = 90)"
      ],
      "metadata": {
        "colab": {
          "base_uri": "https://localhost:8080/",
          "height": 387
        },
        "id": "aVGBDqvp8Xdw",
        "outputId": "891209bd-155c-49ba-8240-dc6bf5e51d22"
      },
      "execution_count": 258,
      "outputs": [
        {
          "output_type": "execute_result",
          "data": {
            "text/plain": [
              "(array([0, 1, 2]), <a list of 3 Text major ticklabel objects>)"
            ]
          },
          "metadata": {},
          "execution_count": 258
        },
        {
          "output_type": "display_data",
          "data": {
            "text/plain": [
              "<Figure size 474.325x360 with 1 Axes>"
            ],
            "image/png": "[encoded data removed]"
          },
          "metadata": {}
        }
      ]
    },
    {
      "cell_type": "code",
      "source": [
        "sns.catplot(data=master,x='VehicleMake',hue='ReportedFraud',kind='count',height=8.27, aspect=12.7/8.27)\n",
        "plt.xticks(rotation = 90)"
      ],
      "metadata": {
        "colab": {
          "base_uri": "https://localhost:8080/",
          "height": 637
        },
        "id": "Gph3W0V-9C6N",
        "outputId": "057af30b-3e4c-4320-bb1e-020200f7d2fb"
      },
      "execution_count": 260,
      "outputs": [
        {
          "output_type": "execute_result",
          "data": {
            "text/plain": [
              "(array([ 0,  1,  2,  3,  4,  5,  6,  7,  8,  9, 10, 11, 12, 13]),\n",
              " <a list of 14 Text major ticklabel objects>)"
            ]
          },
          "metadata": {},
          "execution_count": 260
        },
        {
          "output_type": "display_data",
          "data": {
            "text/plain": [
              "<Figure size 1028.72x595.44 with 1 Axes>"
            ],
            "image/png": "[encoded data removed]"
          },
          "metadata": {}
        }
      ]
    },
    {
      "cell_type": "code",
      "source": [
        "#insuredd hobiees vs reported as fraud\n",
        "sns.catplot(data=master,x='InsuredHobbies',hue='ReportedFraud',kind='count',height=8.27, aspect=12.7/8.27)\n",
        "plt.xticks(rotation = 90)"
      ],
      "metadata": {
        "id": "P-Hl0la1Gi8l",
        "colab": {
          "base_uri": "https://localhost:8080/",
          "height": 729
        },
        "outputId": "95959b7b-493d-4f83-f3c4-f2b24f1e6cc7"
      },
      "execution_count": 64,
      "outputs": [
        {
          "output_type": "execute_result",
          "data": {
            "text/plain": [
              "(array([ 0,  1,  2,  3,  4,  5,  6,  7,  8,  9, 10, 11, 12, 13, 14, 15, 16,\n",
              "        17, 18, 19]), <a list of 20 Text major ticklabel objects>)"
            ]
          },
          "metadata": {},
          "execution_count": 64
        },
        {
          "output_type": "display_data",
          "data": {
            "text/plain": [
              "<Figure size 1028.72x595.44 with 1 Axes>"
            ],
            "image/png": "[encoded data removed]"
          },
          "metadata": {}
        }
      ]
    },
    {
      "cell_type": "code",
      "execution_count": null,
      "metadata": {
        "id": "fJXOcdMneoda"
      },
      "outputs": [],
      "source": [
        "f, ax=plt.subplots(figsize=(20,18))\n",
        "corr=master.corr()\n",
        "sns.heatmap(corr,annot = True)\n",
        "\n"
      ]
    },
    {
      "cell_type": "code",
      "source": [],
      "metadata": {
        "id": "ov7nXONuXTql"
      },
      "execution_count": null,
      "outputs": []
    },
    {
      "cell_type": "markdown",
      "metadata": {
        "id": "ytcnkNL7kdj1"
      },
      "source": [
        "# catogorical to numerical"
      ]
    },
    {
      "cell_type": "code",
      "source": [
        "master['PropertyDamage']= master['PropertyDamage'].map({'YES':1,'NO':0,'missing':2})"
      ],
      "metadata": {
        "id": "7WEK-vIiEcGJ"
      },
      "execution_count": 160,
      "outputs": []
    },
    {
      "cell_type": "code",
      "source": [
        "master['PoliceReport']= master['PoliceReport'].map({'YES':1,'NO':0,'missing':2})"
      ],
      "metadata": {
        "id": "fFjzt2qDlQw3"
      },
      "execution_count": 161,
      "outputs": []
    },
    {
      "cell_type": "code",
      "execution_count": null,
      "metadata": {
        "id": "yufu5TmzXY1k"
      },
      "outputs": [],
      "source": [
        "master.select_dtypes(include='object').describe().T"
      ]
    },
    {
      "cell_type": "code",
      "execution_count": 163,
      "metadata": {
        "id": "Tj56w9Dtanci"
      },
      "outputs": [],
      "source": [
        "master=master.drop(columns=['DateOfIncident','IncidentAddress','DateOfPolicyCoverage','InsuredZipCode'])"
      ]
    },
    {
      "cell_type": "code",
      "execution_count": null,
      "metadata": {
        "id": "mamrqqw4OqVV"
      },
      "outputs": [],
      "source": [
        "#catogorical columns \n",
        "categorical_columns = master.select_dtypes(include=['object']).columns\n",
        "categorical_columns"
      ]
    },
    {
      "cell_type": "code",
      "execution_count": null,
      "metadata": {
        "id": "SapOowFMbPss"
      },
      "outputs": [],
      "source": [
        "master.shape"
      ]
    },
    {
      "cell_type": "code",
      "execution_count": 166,
      "metadata": {
        "id": "udxUyRT-o9Ra"
      },
      "outputs": [],
      "source": [
        "from sklearn.preprocessing import LabelEncoder\n",
        "label= LabelEncoder()\n",
        "\n",
        "for colum in categorical_columns:\n",
        "    master[colum]= label.fit_transform(master[colum])  "
      ]
    },
    {
      "cell_type": "code",
      "execution_count": null,
      "metadata": {
        "id": "8Q8DEDrccNvt"
      },
      "outputs": [],
      "source": [
        "master.head()"
      ]
    },
    {
      "cell_type": "code",
      "execution_count": null,
      "metadata": {
        "id": "ScMrfh2qqB-D"
      },
      "outputs": [],
      "source": [
        "master.dtypes"
      ]
    },
    {
      "cell_type": "code",
      "source": [
        "master.isnull().sum()"
      ],
      "metadata": {
        "id": "BtPvXBjUsH0W"
      },
      "execution_count": null,
      "outputs": []
    },
    {
      "cell_type": "code",
      "execution_count": 171,
      "metadata": {
        "id": "qpgkW35mk0py",
        "colab": {
          "base_uri": "https://localhost:8080/"
        },
        "outputId": "d1ac4ad6-a9e0-498c-91d8-71889a861221"
      },
      "outputs": [
        {
          "output_type": "execute_result",
          "data": {
            "text/plain": [
              "(28836, 33)"
            ]
          },
          "metadata": {},
          "execution_count": 171
        }
      ],
      "source": [
        "x=master.drop('ReportedFraud',axis=1)\n",
        "y=master['ReportedFraud']\n",
        "x.shape"
      ]
    },
    {
      "cell_type": "markdown",
      "metadata": {
        "id": "PT7xVFSWiYsN"
      },
      "source": [
        "# test data"
      ]
    },
    {
      "cell_type": "code",
      "execution_count": 172,
      "metadata": {
        "id": "WvytB6f2gHGh"
      },
      "outputs": [],
      "source": [
        "#read csv files for test data\n",
        "df1=pd.read_csv(\"/content/drive/MyDrive/TestData/Test_Claim.csv\")\n",
        "df2=pd.read_csv(\"/content/drive/MyDrive/TestData/Test_Demographics.csv\")\n",
        "df3=pd.read_csv(\"/content/drive/MyDrive/TestData/Test_Policy.csv\")\n",
        "df4=pd.read_csv(\"/content/drive/MyDrive/TestData/Test.csv\")\n",
        "df5=pd.read_csv(\"/content/drive/MyDrive/TestData/Test_Vehicle_new.csv\")"
      ]
    },
    {
      "cell_type": "code",
      "execution_count": 173,
      "metadata": {
        "id": "h2ZQ9AorgLMS",
        "colab": {
          "base_uri": "https://localhost:8080/"
        },
        "outputId": "cae8e1a2-3437-4057-c6a6-2491533cd778"
      },
      "outputs": [
        {
          "output_type": "stream",
          "name": "stdout",
          "text": [
            "(8912, 19)\n",
            "(8912, 10)\n",
            "(8912, 10)\n",
            "(8912, 1)\n",
            "(8912, 5)\n"
          ]
        }
      ],
      "source": [
        "#checking shape for test data\n",
        "print(df1.shape)\n",
        "print(df2.shape)\n",
        "print(df3.shape)\n",
        "print(df4.shape)\n",
        "print(df5.shape)"
      ]
    },
    {
      "cell_type": "code",
      "execution_count": 174,
      "metadata": {
        "id": "lwkVXvKmgNWq"
      },
      "outputs": [],
      "source": [
        "#merging all datasets based on \"CstomerID\"\n",
        "sample_1=pd.merge(df1,df2)\n",
        "sample_2=pd.merge(sample_1,df3)\n",
        "sample_3=pd.merge(sample_2,df4)\n",
        "test=pd.merge(sample_3,df5)"
      ]
    },
    {
      "cell_type": "code",
      "execution_count": 175,
      "metadata": {
        "id": "fYsIzWMzgSFY",
        "colab": {
          "base_uri": "https://localhost:8080/",
          "height": 339
        },
        "outputId": "dd06788b-ef60-419d-aba2-6e044440a914"
      },
      "outputs": [
        {
          "output_type": "execute_result",
          "data": {
            "text/plain": [
              "  CustomerID DateOfIncident            TypeOfIncident TypeOfCollission  \\\n",
              "0  Cust10008     2015-02-05   Multi-vehicle Collision  Front Collision   \n",
              "1  Cust10010     2015-01-13  Single Vehicle Collision   Rear Collision   \n",
              "2  Cust10015     2015-01-05   Multi-vehicle Collision   Rear Collision   \n",
              "3  Cust10020     2015-01-03             Vehicle Theft                ?   \n",
              "4   Cust1003     2015-02-22   Multi-vehicle Collision   Rear Collision   \n",
              "\n",
              "  SeverityOfIncident AuthoritiesContacted IncidentState IncidentCity  \\\n",
              "0       Minor Damage            Ambulance        State5        City2   \n",
              "1       Minor Damage                 Fire        State9        City5   \n",
              "2       Minor Damage               Police        State5        City2   \n",
              "3     Trivial Damage                 None        State7        City5   \n",
              "4       Minor Damage               Police        State5        City2   \n",
              "\n",
              "  IncidentAddress  IncidentTime  NumberOfVehicles PropertyDamage  \\\n",
              "0   Location 1354             4                 3             NO   \n",
              "1   Location 1383            16                 1              ?   \n",
              "2   Location 2030            20                 3             NO   \n",
              "3   Location 1449            10                 1              ?   \n",
              "4   Location 1916             7                 3             NO   \n",
              "\n",
              "   BodilyInjuries Witnesses PoliceReport AmountOfTotalClaim  \\\n",
              "0               0         0            ?              68354   \n",
              "1               1         1            ?              55270   \n",
              "2               0         1            ?              59515   \n",
              "3               2         1            ?               4941   \n",
              "4               2         3           NO              34650   \n",
              "\n",
              "   AmountOfInjuryClaim  AmountOfPropertyClaim  AmountOfVehicleDamage  \\\n",
              "0                 6835                   8059                  53460   \n",
              "1                 8113                   5240                  41917   \n",
              "2                 7490                   9110                  42915   \n",
              "3                  494                    866                   3581   \n",
              "4                 7700                   3850                  23100   \n",
              "\n",
              "   InsuredAge  InsuredZipCode InsuredGender InsuredEducationLevel  \\\n",
              "0          27          471704        FEMALE           High School   \n",
              "1          40          455810        FEMALE                    MD   \n",
              "2          39          461919          MALE                    JD   \n",
              "3          38          600904        FEMALE               Masters   \n",
              "4          29          430632        FEMALE                   PhD   \n",
              "\n",
              "  InsuredOccupation InsuredHobbies  CapitalGains  CapitalLoss Country  \\\n",
              "0      adm-clerical   base-jumping         56400       -57000   India   \n",
              "1    prof-specialty           golf         56700       -65600   India   \n",
              "2     other-service         movies         30400            0   India   \n",
              "3   exec-managerial    video-games         68500            0   India   \n",
              "4             sales    board-games         35100            0   India   \n",
              "\n",
              "   InsurancePolicyNumber  CustomerLoyaltyPeriod DateOfPolicyCoverage  \\\n",
              "0                 119129                     84           1998-05-10   \n",
              "1                 119131                    232           2011-11-10   \n",
              "2                 119136                    218           2010-07-17   \n",
              "3                 119141                    205           2000-09-10   \n",
              "4                 110124                    134           2000-09-06   \n",
              "\n",
              "  InsurancePolicyState Policy_CombinedSingleLimit  Policy_Deductible  \\\n",
              "0               State2                   500/1000               2000   \n",
              "1               State3                    100/300                500   \n",
              "2               State2                    250/500               1000   \n",
              "3               State3                    500/500               2000   \n",
              "4               State3                    100/300               2000   \n",
              "\n",
              "   PolicyAnnualPremium  UmbrellaLimit InsuredRelationship     VehicleID  \\\n",
              "0              1006.00              0           own-child  Vehicle34362   \n",
              "1              1279.17              0           unmarried  Vehicle17046   \n",
              "2              1454.67        1235986      other-relative  Vehicle11038   \n",
              "3              1287.76        5873212                wife  Vehicle37114   \n",
              "4              1413.14        5000000           own-child  Vehicle16771   \n",
              "\n",
              "  VehicleMake VehicleModel  VehicleYOM  \n",
              "0  Volkswagen       Passat        1995  \n",
              "1      Nissan       Ultima        2006  \n",
              "2      Suburu      Impreza        2010  \n",
              "3      Accura           TL        2009  \n",
              "4       Dodge          RAM        2007  "
            ],
            "text/html": [
              "\n",
              "  <div id=\"df-7ab776c3-afea-4352-9e4a-2cee81c3ecb7\">\n",
              "    <div class=\"colab-df-container\">\n",
              "      <div>\n",
              "<style scoped>\n",
              "    .dataframe tbody tr th:only-of-type {\n",
              "        vertical-align: middle;\n",
              "    }\n",
              "\n",
              "    .dataframe tbody tr th {\n",
              "        vertical-align: top;\n",
              "    }\n",
              "\n",
              "    .dataframe thead th {\n",
              "        text-align: right;\n",
              "    }\n",
              "</style>\n",
              "<table border=\"1\" class=\"dataframe\">\n",
              "  <thead>\n",
              "    <tr style=\"text-align: right;\">\n",
              "      <th></th>\n",
              "      <th>CustomerID</th>\n",
              "      <th>DateOfIncident</th>\n",
              "      <th>TypeOfIncident</th>\n",
              "      <th>TypeOfCollission</th>\n",
              "      <th>SeverityOfIncident</th>\n",
              "      <th>AuthoritiesContacted</th>\n",
              "      <th>IncidentState</th>\n",
              "      <th>IncidentCity</th>\n",
              "      <th>IncidentAddress</th>\n",
              "      <th>IncidentTime</th>\n",
              "      <th>NumberOfVehicles</th>\n",
              "      <th>PropertyDamage</th>\n",
              "      <th>BodilyInjuries</th>\n",
              "      <th>Witnesses</th>\n",
              "      <th>PoliceReport</th>\n",
              "      <th>AmountOfTotalClaim</th>\n",
              "      <th>AmountOfInjuryClaim</th>\n",
              "      <th>AmountOfPropertyClaim</th>\n",
              "      <th>AmountOfVehicleDamage</th>\n",
              "      <th>InsuredAge</th>\n",
              "      <th>InsuredZipCode</th>\n",
              "      <th>InsuredGender</th>\n",
              "      <th>InsuredEducationLevel</th>\n",
              "      <th>InsuredOccupation</th>\n",
              "      <th>InsuredHobbies</th>\n",
              "      <th>CapitalGains</th>\n",
              "      <th>CapitalLoss</th>\n",
              "      <th>Country</th>\n",
              "      <th>InsurancePolicyNumber</th>\n",
              "      <th>CustomerLoyaltyPeriod</th>\n",
              "      <th>DateOfPolicyCoverage</th>\n",
              "      <th>InsurancePolicyState</th>\n",
              "      <th>Policy_CombinedSingleLimit</th>\n",
              "      <th>Policy_Deductible</th>\n",
              "      <th>PolicyAnnualPremium</th>\n",
              "      <th>UmbrellaLimit</th>\n",
              "      <th>InsuredRelationship</th>\n",
              "      <th>VehicleID</th>\n",
              "      <th>VehicleMake</th>\n",
              "      <th>VehicleModel</th>\n",
              "      <th>VehicleYOM</th>\n",
              "    </tr>\n",
              "  </thead>\n",
              "  <tbody>\n",
              "    <tr>\n",
              "      <th>0</th>\n",
              "      <td>Cust10008</td>\n",
              "      <td>2015-02-05</td>\n",
              "      <td>Multi-vehicle Collision</td>\n",
              "      <td>Front Collision</td>\n",
              "      <td>Minor Damage</td>\n",
              "      <td>Ambulance</td>\n",
              "      <td>State5</td>\n",
              "      <td>City2</td>\n",
              "      <td>Location 1354</td>\n",
              "      <td>4</td>\n",
              "      <td>3</td>\n",
              "      <td>NO</td>\n",
              "      <td>0</td>\n",
              "      <td>0</td>\n",
              "      <td>?</td>\n",
              "      <td>68354</td>\n",
              "      <td>6835</td>\n",
              "      <td>8059</td>\n",
              "      <td>53460</td>\n",
              "      <td>27</td>\n",
              "      <td>471704</td>\n",
              "      <td>FEMALE</td>\n",
              "      <td>High School</td>\n",
              "      <td>adm-clerical</td>\n",
              "      <td>base-jumping</td>\n",
              "      <td>56400</td>\n",
              "      <td>-57000</td>\n",
              "      <td>India</td>\n",
              "      <td>119129</td>\n",
              "      <td>84</td>\n",
              "      <td>1998-05-10</td>\n",
              "      <td>State2</td>\n",
              "      <td>500/1000</td>\n",
              "      <td>2000</td>\n",
              "      <td>1006.00</td>\n",
              "      <td>0</td>\n",
              "      <td>own-child</td>\n",
              "      <td>Vehicle34362</td>\n",
              "      <td>Volkswagen</td>\n",
              "      <td>Passat</td>\n",
              "      <td>1995</td>\n",
              "    </tr>\n",
              "    <tr>\n",
              "      <th>1</th>\n",
              "      <td>Cust10010</td>\n",
              "      <td>2015-01-13</td>\n",
              "      <td>Single Vehicle Collision</td>\n",
              "      <td>Rear Collision</td>\n",
              "      <td>Minor Damage</td>\n",
              "      <td>Fire</td>\n",
              "      <td>State9</td>\n",
              "      <td>City5</td>\n",
              "      <td>Location 1383</td>\n",
              "      <td>16</td>\n",
              "      <td>1</td>\n",
              "      <td>?</td>\n",
              "      <td>1</td>\n",
              "      <td>1</td>\n",
              "      <td>?</td>\n",
              "      <td>55270</td>\n",
              "      <td>8113</td>\n",
              "      <td>5240</td>\n",
              "      <td>41917</td>\n",
              "      <td>40</td>\n",
              "      <td>455810</td>\n",
              "      <td>FEMALE</td>\n",
              "      <td>MD</td>\n",
              "      <td>prof-specialty</td>\n",
              "      <td>golf</td>\n",
              "      <td>56700</td>\n",
              "      <td>-65600</td>\n",
              "      <td>India</td>\n",
              "      <td>119131</td>\n",
              "      <td>232</td>\n",
              "      <td>2011-11-10</td>\n",
              "      <td>State3</td>\n",
              "      <td>100/300</td>\n",
              "      <td>500</td>\n",
              "      <td>1279.17</td>\n",
              "      <td>0</td>\n",
              "      <td>unmarried</td>\n",
              "      <td>Vehicle17046</td>\n",
              "      <td>Nissan</td>\n",
              "      <td>Ultima</td>\n",
              "      <td>2006</td>\n",
              "    </tr>\n",
              "    <tr>\n",
              "      <th>2</th>\n",
              "      <td>Cust10015</td>\n",
              "      <td>2015-01-05</td>\n",
              "      <td>Multi-vehicle Collision</td>\n",
              "      <td>Rear Collision</td>\n",
              "      <td>Minor Damage</td>\n",
              "      <td>Police</td>\n",
              "      <td>State5</td>\n",
              "      <td>City2</td>\n",
              "      <td>Location 2030</td>\n",
              "      <td>20</td>\n",
              "      <td>3</td>\n",
              "      <td>NO</td>\n",
              "      <td>0</td>\n",
              "      <td>1</td>\n",
              "      <td>?</td>\n",
              "      <td>59515</td>\n",
              "      <td>7490</td>\n",
              "      <td>9110</td>\n",
              "      <td>42915</td>\n",
              "      <td>39</td>\n",
              "      <td>461919</td>\n",
              "      <td>MALE</td>\n",
              "      <td>JD</td>\n",
              "      <td>other-service</td>\n",
              "      <td>movies</td>\n",
              "      <td>30400</td>\n",
              "      <td>0</td>\n",
              "      <td>India</td>\n",
              "      <td>119136</td>\n",
              "      <td>218</td>\n",
              "      <td>2010-07-17</td>\n",
              "      <td>State2</td>\n",
              "      <td>250/500</td>\n",
              "      <td>1000</td>\n",
              "      <td>1454.67</td>\n",
              "      <td>1235986</td>\n",
              "      <td>other-relative</td>\n",
              "      <td>Vehicle11038</td>\n",
              "      <td>Suburu</td>\n",
              "      <td>Impreza</td>\n",
              "      <td>2010</td>\n",
              "    </tr>\n",
              "    <tr>\n",
              "      <th>3</th>\n",
              "      <td>Cust10020</td>\n",
              "      <td>2015-01-03</td>\n",
              "      <td>Vehicle Theft</td>\n",
              "      <td>?</td>\n",
              "      <td>Trivial Damage</td>\n",
              "      <td>None</td>\n",
              "      <td>State7</td>\n",
              "      <td>City5</td>\n",
              "      <td>Location 1449</td>\n",
              "      <td>10</td>\n",
              "      <td>1</td>\n",
              "      <td>?</td>\n",
              "      <td>2</td>\n",
              "      <td>1</td>\n",
              "      <td>?</td>\n",
              "      <td>4941</td>\n",
              "      <td>494</td>\n",
              "      <td>866</td>\n",
              "      <td>3581</td>\n",
              "      <td>38</td>\n",
              "      <td>600904</td>\n",
              "      <td>FEMALE</td>\n",
              "      <td>Masters</td>\n",
              "      <td>exec-managerial</td>\n",
              "      <td>video-games</td>\n",
              "      <td>68500</td>\n",
              "      <td>0</td>\n",
              "      <td>India</td>\n",
              "      <td>119141</td>\n",
              "      <td>205</td>\n",
              "      <td>2000-09-10</td>\n",
              "      <td>State3</td>\n",
              "      <td>500/500</td>\n",
              "      <td>2000</td>\n",
              "      <td>1287.76</td>\n",
              "      <td>5873212</td>\n",
              "      <td>wife</td>\n",
              "      <td>Vehicle37114</td>\n",
              "      <td>Accura</td>\n",
              "      <td>TL</td>\n",
              "      <td>2009</td>\n",
              "    </tr>\n",
              "    <tr>\n",
              "      <th>4</th>\n",
              "      <td>Cust1003</td>\n",
              "      <td>2015-02-22</td>\n",
              "      <td>Multi-vehicle Collision</td>\n",
              "      <td>Rear Collision</td>\n",
              "      <td>Minor Damage</td>\n",
              "      <td>Police</td>\n",
              "      <td>State5</td>\n",
              "      <td>City2</td>\n",
              "      <td>Location 1916</td>\n",
              "      <td>7</td>\n",
              "      <td>3</td>\n",
              "      <td>NO</td>\n",
              "      <td>2</td>\n",
              "      <td>3</td>\n",
              "      <td>NO</td>\n",
              "      <td>34650</td>\n",
              "      <td>7700</td>\n",
              "      <td>3850</td>\n",
              "      <td>23100</td>\n",
              "      <td>29</td>\n",
              "      <td>430632</td>\n",
              "      <td>FEMALE</td>\n",
              "      <td>PhD</td>\n",
              "      <td>sales</td>\n",
              "      <td>board-games</td>\n",
              "      <td>35100</td>\n",
              "      <td>0</td>\n",
              "      <td>India</td>\n",
              "      <td>110124</td>\n",
              "      <td>134</td>\n",
              "      <td>2000-09-06</td>\n",
              "      <td>State3</td>\n",
              "      <td>100/300</td>\n",
              "      <td>2000</td>\n",
              "      <td>1413.14</td>\n",
              "      <td>5000000</td>\n",
              "      <td>own-child</td>\n",
              "      <td>Vehicle16771</td>\n",
              "      <td>Dodge</td>\n",
              "      <td>RAM</td>\n",
              "      <td>2007</td>\n",
              "    </tr>\n",
              "  </tbody>\n",
              "</table>\n",
              "</div>\n",
              "      <button class=\"colab-df-convert\" onclick=\"convertToInteractive('df-7ab776c3-afea-4352-9e4a-2cee81c3ecb7')\"\n",
              "              title=\"Convert this dataframe to an interactive table.\"\n",
              "              style=\"display:none;\">\n",
              "        \n",
              "  <svg xmlns=\"http://www.w3.org/2000/svg\" height=\"24px\"viewBox=\"0 0 24 24\"\n",
              "       width=\"24px\">\n",
              "    <path d=\"M0 0h24v24H0V0z\" fill=\"none\"/>\n",
              "    <path d=\"M18.56 5.44l.94 2.06.94-2.06 2.06-.94-2.06-.94-.94-2.06-.94 2.06-2.06.94zm-11 1L8.5 8.5l.94-2.06 2.06-.94-2.06-.94L8.5 2.5l-.94 2.06-2.06.94zm10 10l.94 2.06.94-2.06 2.06-.94-2.06-.94-.94-2.06-.94 2.06-2.06.94z\"/><path d=\"M17.41 7.96l-1.37-1.37c-.4-.4-.92-.59-1.43-.59-.52 0-1.04.2-1.43.59L10.3 9.45l-7.72 7.72c-.78.78-.78 2.05 0 2.83L4 21.41c.39.39.9.59 1.41.59.51 0 1.02-.2 1.41-.59l7.78-7.78 2.81-2.81c.8-.78.8-2.07 0-2.86zM5.41 20L4 18.59l7.72-7.72 1.47 1.35L5.41 20z\"/>\n",
              "  </svg>\n",
              "      </button>\n",
              "      \n",
              "  <style>\n",
              "    .colab-df-container {\n",
              "      display:flex;\n",
              "      flex-wrap:wrap;\n",
              "      gap: 12px;\n",
              "    }\n",
              "\n",
              "    .colab-df-convert {\n",
              "      background-color: #E8F0FE;\n",
              "      border: none;\n",
              "      border-radius: 50%;\n",
              "      cursor: pointer;\n",
              "      display: none;\n",
              "      fill: #1967D2;\n",
              "      height: 32px;\n",
              "      padding: 0 0 0 0;\n",
              "      width: 32px;\n",
              "    }\n",
              "\n",
              "    .colab-df-convert:hover {\n",
              "      background-color: #E2EBFA;\n",
              "      box-shadow: 0px 1px 2px rgba(60, 64, 67, 0.3), 0px 1px 3px 1px rgba(60, 64, 67, 0.15);\n",
              "      fill: #174EA6;\n",
              "    }\n",
              "\n",
              "    [theme=dark] .colab-df-convert {\n",
              "      background-color: #3B4455;\n",
              "      fill: #D2E3FC;\n",
              "    }\n",
              "\n",
              "    [theme=dark] .colab-df-convert:hover {\n",
              "      background-color: #434B5C;\n",
              "      box-shadow: 0px 1px 3px 1px rgba(0, 0, 0, 0.15);\n",
              "      filter: drop-shadow(0px 1px 2px rgba(0, 0, 0, 0.3));\n",
              "      fill: #FFFFFF;\n",
              "    }\n",
              "  </style>\n",
              "\n",
              "      <script>\n",
              "        const buttonEl =\n",
              "          document.querySelector('#df-7ab776c3-afea-4352-9e4a-2cee81c3ecb7 button.colab-df-convert');\n",
              "        buttonEl.style.display =\n",
              "          google.colab.kernel.accessAllowed ? 'block' : 'none';\n",
              "\n",
              "        async function convertToInteractive(key) {\n",
              "          const element = document.querySelector('#df-7ab776c3-afea-4352-9e4a-2cee81c3ecb7');\n",
              "          const dataTable =\n",
              "            await google.colab.kernel.invokeFunction('convertToInteractive',\n",
              "                                                     [key], {});\n",
              "          if (!dataTable) return;\n",
              "\n",
              "          const docLinkHtml = 'Like what you see? Visit the ' +\n",
              "            '<a target=\"_blank\" href=https://colab.research.google.com/notebooks/data_table.ipynb>data table notebook</a>'\n",
              "            + ' to learn more about interactive tables.';\n",
              "          element.innerHTML = '';\n",
              "          dataTable['output_type'] = 'display_data';\n",
              "          await google.colab.output.renderOutput(dataTable, element);\n",
              "          const docLink = document.createElement('div');\n",
              "          docLink.innerHTML = docLinkHtml;\n",
              "          element.appendChild(docLink);\n",
              "        }\n",
              "      </script>\n",
              "    </div>\n",
              "  </div>\n",
              "  "
            ]
          },
          "metadata": {},
          "execution_count": 175
        }
      ],
      "source": [
        "test.head()"
      ]
    },
    {
      "cell_type": "markdown",
      "source": [
        "# **Test data Preprocessing**"
      ],
      "metadata": {
        "id": "Hqjj1lv7k8rV"
      }
    },
    {
      "cell_type": "code",
      "execution_count": 176,
      "metadata": {
        "id": "bmTV89ktgUYS"
      },
      "outputs": [],
      "source": [
        "# Making a list of missing value types\n",
        "missing_values = [\"MISSEDDATA\",\"NA\",\"?\",\"MISSINGVALUE\",\"???\",-5,\"MISSINGVAL\",-1,\"N/A\",\"na\"]"
      ]
    },
    {
      "cell_type": "code",
      "execution_count": 177,
      "metadata": {
        "id": "OPk6EUdbZ31P"
      },
      "outputs": [],
      "source": [
        "#we create one missing values list by using that if that comes in any place we replace it with nan\n",
        "for column in test.columns:\n",
        "    for missing in missing_values:\n",
        "        test[column] = np.where(test[column]==missing, np.NaN, test[column])"
      ]
    },
    {
      "cell_type": "code",
      "execution_count": 179,
      "metadata": {
        "id": "Tf10EqrVgkv5",
        "colab": {
          "base_uri": "https://localhost:8080/"
        },
        "outputId": "b4bb92fb-a5c8-4cd9-9886-4ca6b2588d30"
      },
      "outputs": [
        {
          "output_type": "execute_result",
          "data": {
            "text/plain": [
              "CustomerID                       0\n",
              "DateOfIncident                   0\n",
              "TypeOfIncident                   0\n",
              "TypeOfCollission              1763\n",
              "SeverityOfIncident               0\n",
              "AuthoritiesContacted             0\n",
              "IncidentState                    0\n",
              "IncidentCity                     0\n",
              "IncidentAddress                  0\n",
              "IncidentTime                     7\n",
              "NumberOfVehicles                 0\n",
              "PropertyDamage                3199\n",
              "BodilyInjuries                   0\n",
              "Witnesses                       12\n",
              "PoliceReport                  3014\n",
              "AmountOfTotalClaim               8\n",
              "AmountOfInjuryClaim              0\n",
              "AmountOfPropertyClaim            0\n",
              "AmountOfVehicleDamage            0\n",
              "InsuredAge                       0\n",
              "InsuredZipCode                   0\n",
              "InsuredGender                    8\n",
              "InsuredEducationLevel            0\n",
              "InsuredOccupation                0\n",
              "InsuredHobbies                   0\n",
              "CapitalGains                     0\n",
              "CapitalLoss                      0\n",
              "Country                          4\n",
              "InsurancePolicyNumber            0\n",
              "CustomerLoyaltyPeriod            0\n",
              "DateOfPolicyCoverage             0\n",
              "InsurancePolicyState             0\n",
              "Policy_CombinedSingleLimit       0\n",
              "Policy_Deductible                0\n",
              "PolicyAnnualPremium             47\n",
              "UmbrellaLimit                    0\n",
              "InsuredRelationship              0\n",
              "VehicleID                        0\n",
              "VehicleMake                      8\n",
              "VehicleModel                     0\n",
              "VehicleYOM                       0\n",
              "dtype: int64"
            ]
          },
          "metadata": {},
          "execution_count": 179
        }
      ],
      "source": [
        "test.isnull().sum()"
      ]
    },
    {
      "cell_type": "code",
      "source": [
        "test['PropertyDamage'].fillna('missing',inplace=True)\n",
        "test['PoliceReport'].fillna('missing',inplace=True)"
      ],
      "metadata": {
        "id": "ThH4BGMpIBqH"
      },
      "execution_count": 180,
      "outputs": []
    },
    {
      "cell_type": "code",
      "source": [
        "test['PropertyDamage']\n"
      ],
      "metadata": {
        "id": "up4NClJ3IMzU"
      },
      "execution_count": null,
      "outputs": []
    },
    {
      "cell_type": "code",
      "source": [
        "test['PoliceReport']"
      ],
      "metadata": {
        "id": "wsUKsfWnmYzp"
      },
      "execution_count": null,
      "outputs": []
    },
    {
      "cell_type": "code",
      "source": [
        "test['PropertyDamage']= test['PropertyDamage'].map({'YES':1,'NO':0,'missing':2})"
      ],
      "metadata": {
        "id": "oIXk4UrOIcdz"
      },
      "execution_count": 183,
      "outputs": []
    },
    {
      "cell_type": "code",
      "source": [
        "test['PoliceReport']= test['PoliceReport'].map({'YES':1,'NO':0,'missing':2})"
      ],
      "metadata": {
        "id": "RjNOa9jBmgdJ"
      },
      "execution_count": 184,
      "outputs": []
    },
    {
      "cell_type": "code",
      "execution_count": 185,
      "metadata": {
        "id": "cBy4J8joih0v"
      },
      "outputs": [],
      "source": [
        "##  Replace NAN values with most occured category in TypeOfCollission\n",
        "Mode_Category = test[\"TypeOfCollission\"].mode()[0]\n",
        "test[\"TypeOfCollission\"].fillna(Mode_Category,inplace=True)\n",
        "\n",
        "##  Replace NAN values with median in IncidentTime\n",
        "median=test['IncidentTime'].median()\n",
        "test['IncidentTime'].fillna(median,inplace=True)\n",
        "\n",
        "##  Replace NAN values with median  in witness\n",
        "median_1=master['Witnesses'].median()\n",
        "master['Witnesses'].fillna(median_1,inplace=True)\n",
        "\n",
        "#drop huge no of missing value data \n",
        "test.drop(['Country'],axis=1,inplace=True)\n",
        "\n",
        "##  Replace NAN values with most occured category in police report\n",
        "#Mode_Category_1 = test[\"PoliceReport\"].mode()[0]\n",
        "#test[\"PoliceReport\"].fillna(Mode_Category_1,inplace=True)\n",
        "\n",
        "###  Replace NAN values with median in AmountOfTotalClaim\n",
        "median_2=test['AmountOfTotalClaim'].median()\n",
        "test['AmountOfTotalClaim'].fillna(median_2,inplace=True)\n",
        "\n",
        "##  Replace NAN values with most occured category in gender\n",
        "Mode_Category_2 = test[\"InsuredGender\"].mode()[0]\n",
        "test[\"InsuredGender\"].fillna(Mode_Category_2,inplace=True)\n",
        "\n",
        "###  Replace NAN values with median in PolicyAnnualPremium \n",
        "median_3=test['PolicyAnnualPremium'].median()\n",
        "test['PolicyAnnualPremium'].fillna(median_3,inplace=True)\n",
        "\n",
        "##  Replace NAN values with most occured category in VehicleMake\n",
        "Mode_Category_3 = test[\"VehicleMake\"].mode()[0]\n",
        "test[\"VehicleMake\"].fillna(Mode_Category_3,inplace=True)"
      ]
    },
    {
      "cell_type": "code",
      "execution_count": 186,
      "metadata": {
        "id": "lTYsXbyrgwn-"
      },
      "outputs": [],
      "source": [
        "test['AmountOfTotalClaim'] = test['AmountOfTotalClaim'].astype('int')"
      ]
    },
    {
      "cell_type": "code",
      "execution_count": 187,
      "metadata": {
        "id": "e6phFi_xhNHt"
      },
      "outputs": [],
      "source": [
        "#remove some features which is not important \n",
        "test=test.drop(columns=['InsurancePolicyNumber','DateOfIncident','IncidentAddress','DateOfPolicyCoverage','InsuredZipCode','VehicleID'])"
      ]
    },
    {
      "cell_type": "code",
      "execution_count": 188,
      "metadata": {
        "id": "I08JN_NihxeX"
      },
      "outputs": [],
      "source": [
        "customerid=test['CustomerID']\n",
        "test.drop(['CustomerID'],axis=1,inplace=True)"
      ]
    },
    {
      "cell_type": "code",
      "execution_count": 190,
      "metadata": {
        "id": "z9_CKW7nuVpE",
        "colab": {
          "base_uri": "https://localhost:8080/"
        },
        "outputId": "2b498d70-a733-4866-fed4-dbe2440634fb"
      },
      "outputs": [
        {
          "output_type": "execute_result",
          "data": {
            "text/plain": [
              "Index(['TypeOfIncident', 'TypeOfCollission', 'SeverityOfIncident',\n",
              "       'AuthoritiesContacted', 'IncidentState', 'IncidentCity', 'Witnesses',\n",
              "       'InsuredGender', 'InsuredEducationLevel', 'InsuredOccupation',\n",
              "       'InsuredHobbies', 'InsurancePolicyState', 'Policy_CombinedSingleLimit',\n",
              "       'InsuredRelationship', 'VehicleMake', 'VehicleModel'],\n",
              "      dtype='object')"
            ]
          },
          "metadata": {},
          "execution_count": 190
        }
      ],
      "source": [
        "#catogorical columns \n",
        "categorical_columns = test.select_dtypes(include=['object']).columns\n",
        "categorical_columns"
      ]
    },
    {
      "cell_type": "code",
      "execution_count": 191,
      "metadata": {
        "id": "vQ0mpFlrg9H1"
      },
      "outputs": [],
      "source": [
        "from sklearn.preprocessing import LabelEncoder\n",
        "label = LabelEncoder()\n",
        "\n",
        "for columns in categorical_columns:\n",
        "    test[columns]= label.fit_transform(test[columns]) "
      ]
    },
    {
      "cell_type": "code",
      "execution_count": null,
      "metadata": {
        "id": "nhO7fNF6rx7T"
      },
      "outputs": [],
      "source": [
        "test.dtypes"
      ]
    },
    {
      "cell_type": "code",
      "source": [
        "test.isnull().sum().any()"
      ],
      "metadata": {
        "colab": {
          "base_uri": "https://localhost:8080/"
        },
        "id": "bEwjE09XnK84",
        "outputId": "3542aac0-05eb-41b0-8468-6778c39b546f"
      },
      "execution_count": 194,
      "outputs": [
        {
          "output_type": "execute_result",
          "data": {
            "text/plain": [
              "False"
            ]
          },
          "metadata": {},
          "execution_count": 194
        }
      ]
    },
    {
      "cell_type": "code",
      "source": [
        "test.shape"
      ],
      "metadata": {
        "id": "x-6aPnfXAvC1",
        "colab": {
          "base_uri": "https://localhost:8080/"
        },
        "outputId": "985692fd-4506-4876-86a3-fcd883ae717f"
      },
      "execution_count": 195,
      "outputs": [
        {
          "output_type": "execute_result",
          "data": {
            "text/plain": [
              "(8912, 33)"
            ]
          },
          "metadata": {},
          "execution_count": 195
        }
      ]
    },
    {
      "cell_type": "markdown",
      "source": [
        "# **Scaling The Data**"
      ],
      "metadata": {
        "id": "aU92PmwDgJyM"
      }
    },
    {
      "cell_type": "code",
      "source": [
        "from sklearn.preprocessing import MinMaxScaler\n",
        "mm=MinMaxScaler()\n",
        "train_scaled=pd.DataFrame(mm.fit_transform(x))"
      ],
      "metadata": {
        "id": "nnLxukF8JPwV"
      },
      "execution_count": 196,
      "outputs": []
    },
    {
      "cell_type": "code",
      "execution_count": 197,
      "metadata": {
        "id": "8Pri4o_ghhBm"
      },
      "outputs": [],
      "source": [
        "from sklearn.preprocessing import MinMaxScaler\n",
        "mm=MinMaxScaler()\n",
        "test_scaled=pd.DataFrame(mm.fit_transform(test))"
      ]
    },
    {
      "cell_type": "markdown",
      "source": [
        "## **Model Creation**"
      ],
      "metadata": {
        "id": "BK1f-1LclMSP"
      }
    },
    {
      "cell_type": "code",
      "execution_count": null,
      "metadata": {
        "id": "K4W4TsguwI6c"
      },
      "outputs": [],
      "source": [
        "x.head()"
      ]
    },
    {
      "cell_type": "code",
      "execution_count": 199,
      "metadata": {
        "id": "BV2_ot9tlAl8",
        "colab": {
          "base_uri": "https://localhost:8080/"
        },
        "outputId": "b2f50231-5097-49df-db40-28dc69bb82cc"
      },
      "outputs": [
        {
          "output_type": "stream",
          "name": "stdout",
          "text": [
            "(28836, 33)\n",
            "(8912, 33)\n"
          ]
        }
      ],
      "source": [
        "print(x.shape)\n",
        "print(test.shape)"
      ]
    },
    {
      "cell_type": "code",
      "source": [
        "train_scaled.head()"
      ],
      "metadata": {
        "id": "VWKyqQCaV5bI",
        "colab": {
          "base_uri": "https://localhost:8080/",
          "height": 270
        },
        "outputId": "d3d7035d-b4b0-459a-aba2-c88bad343f05"
      },
      "execution_count": 201,
      "outputs": [
        {
          "output_type": "execute_result",
          "data": {
            "text/plain": [
              "         0    1         2     3         4         5         6         7    8   \\\n",
              "0  0.000000  1.0  0.666667  1.00  0.666667  0.000000  0.739130  0.666667  1.0   \n",
              "1  0.000000  1.0  0.666667  1.00  0.666667  0.666667  0.434783  0.666667  0.5   \n",
              "2  0.666667  1.0  0.333333  0.75  0.833333  0.833333  0.956522  0.000000  0.5   \n",
              "3  0.666667  1.0  0.333333  0.75  1.000000  0.833333  0.956522  0.000000  0.5   \n",
              "4  0.666667  0.5  0.333333  0.25  0.833333  0.833333  0.434783  0.000000  0.0   \n",
              "\n",
              "    9         10   11        12        13        14        15        16   17  \\\n",
              "0  0.5  0.000000  1.0  0.569408  0.625501  0.256485  0.577765  0.355556  1.0   \n",
              "1  1.0  0.333333  0.5  0.533519  0.725408  0.250063  0.500862  0.377778  1.0   \n",
              "2  1.0  1.000000  0.0  0.580335  0.542191  0.491339  0.546072  0.311111  1.0   \n",
              "3  1.0  1.000000  0.0  0.575873  0.559580  0.507098  0.530239  0.377778  1.0   \n",
              "4  1.0  0.333333  0.5  0.465226  0.411608  0.305619  0.470378  0.222222  0.0   \n",
              "\n",
              "         18        19        20        21        22        23   24     25  \\\n",
              "0  0.500000  0.076923  0.631579  0.564179  0.563456  0.100418  0.0  0.125   \n",
              "1  0.500000  0.923077  0.315789  0.702488  0.563456  0.236402  0.0  0.125   \n",
              "2  0.500000  0.076923  0.736842  0.660697  0.426643  0.347280  1.0  0.750   \n",
              "3  0.500000  0.076923  0.736842  0.476617  0.339334  0.395397  0.5  0.750   \n",
              "4  0.333333  0.230769  0.368421  0.000000  0.626463  0.238494  0.5  0.125   \n",
              "\n",
              "         26        27        28   29        30        31    32  \n",
              "0  0.333333  0.742532  0.090909  0.2  0.076923  0.131579  0.65  \n",
              "1  0.333333  0.508226  0.090909  0.2  0.076923  0.131579  0.55  \n",
              "2  0.078000  0.581576  0.090909  1.0  1.000000  0.526316  0.20  \n",
              "3  0.148000  0.559371  0.090909  0.6  1.000000  0.526316  0.40  \n",
              "4  0.000000  0.569381  0.479988  0.8  0.923077  0.210526  0.75  "
            ],
            "text/html": [
              "\n",
              "  <div id=\"df-757088e9-8156-4639-bd41-1ebad1c40efb\">\n",
              "    <div class=\"colab-df-container\">\n",
              "      <div>\n",
              "<style scoped>\n",
              "    .dataframe tbody tr th:only-of-type {\n",
              "        vertical-align: middle;\n",
              "    }\n",
              "\n",
              "    .dataframe tbody tr th {\n",
              "        vertical-align: top;\n",
              "    }\n",
              "\n",
              "    .dataframe thead th {\n",
              "        text-align: right;\n",
              "    }\n",
              "</style>\n",
              "<table border=\"1\" class=\"dataframe\">\n",
              "  <thead>\n",
              "    <tr style=\"text-align: right;\">\n",
              "      <th></th>\n",
              "      <th>0</th>\n",
              "      <th>1</th>\n",
              "      <th>2</th>\n",
              "      <th>3</th>\n",
              "      <th>4</th>\n",
              "      <th>5</th>\n",
              "      <th>6</th>\n",
              "      <th>7</th>\n",
              "      <th>8</th>\n",
              "      <th>9</th>\n",
              "      <th>10</th>\n",
              "      <th>11</th>\n",
              "      <th>12</th>\n",
              "      <th>13</th>\n",
              "      <th>14</th>\n",
              "      <th>15</th>\n",
              "      <th>16</th>\n",
              "      <th>17</th>\n",
              "      <th>18</th>\n",
              "      <th>19</th>\n",
              "      <th>20</th>\n",
              "      <th>21</th>\n",
              "      <th>22</th>\n",
              "      <th>23</th>\n",
              "      <th>24</th>\n",
              "      <th>25</th>\n",
              "      <th>26</th>\n",
              "      <th>27</th>\n",
              "      <th>28</th>\n",
              "      <th>29</th>\n",
              "      <th>30</th>\n",
              "      <th>31</th>\n",
              "      <th>32</th>\n",
              "    </tr>\n",
              "  </thead>\n",
              "  <tbody>\n",
              "    <tr>\n",
              "      <th>0</th>\n",
              "      <td>0.000000</td>\n",
              "      <td>1.0</td>\n",
              "      <td>0.666667</td>\n",
              "      <td>1.00</td>\n",
              "      <td>0.666667</td>\n",
              "      <td>0.000000</td>\n",
              "      <td>0.739130</td>\n",
              "      <td>0.666667</td>\n",
              "      <td>1.0</td>\n",
              "      <td>0.5</td>\n",
              "      <td>0.000000</td>\n",
              "      <td>1.0</td>\n",
              "      <td>0.569408</td>\n",
              "      <td>0.625501</td>\n",
              "      <td>0.256485</td>\n",
              "      <td>0.577765</td>\n",
              "      <td>0.355556</td>\n",
              "      <td>1.0</td>\n",
              "      <td>0.500000</td>\n",
              "      <td>0.076923</td>\n",
              "      <td>0.631579</td>\n",
              "      <td>0.564179</td>\n",
              "      <td>0.563456</td>\n",
              "      <td>0.100418</td>\n",
              "      <td>0.0</td>\n",
              "      <td>0.125</td>\n",
              "      <td>0.333333</td>\n",
              "      <td>0.742532</td>\n",
              "      <td>0.090909</td>\n",
              "      <td>0.2</td>\n",
              "      <td>0.076923</td>\n",
              "      <td>0.131579</td>\n",
              "      <td>0.65</td>\n",
              "    </tr>\n",
              "    <tr>\n",
              "      <th>1</th>\n",
              "      <td>0.000000</td>\n",
              "      <td>1.0</td>\n",
              "      <td>0.666667</td>\n",
              "      <td>1.00</td>\n",
              "      <td>0.666667</td>\n",
              "      <td>0.666667</td>\n",
              "      <td>0.434783</td>\n",
              "      <td>0.666667</td>\n",
              "      <td>0.5</td>\n",
              "      <td>1.0</td>\n",
              "      <td>0.333333</td>\n",
              "      <td>0.5</td>\n",
              "      <td>0.533519</td>\n",
              "      <td>0.725408</td>\n",
              "      <td>0.250063</td>\n",
              "      <td>0.500862</td>\n",
              "      <td>0.377778</td>\n",
              "      <td>1.0</td>\n",
              "      <td>0.500000</td>\n",
              "      <td>0.923077</td>\n",
              "      <td>0.315789</td>\n",
              "      <td>0.702488</td>\n",
              "      <td>0.563456</td>\n",
              "      <td>0.236402</td>\n",
              "      <td>0.0</td>\n",
              "      <td>0.125</td>\n",
              "      <td>0.333333</td>\n",
              "      <td>0.508226</td>\n",
              "      <td>0.090909</td>\n",
              "      <td>0.2</td>\n",
              "      <td>0.076923</td>\n",
              "      <td>0.131579</td>\n",
              "      <td>0.55</td>\n",
              "    </tr>\n",
              "    <tr>\n",
              "      <th>2</th>\n",
              "      <td>0.666667</td>\n",
              "      <td>1.0</td>\n",
              "      <td>0.333333</td>\n",
              "      <td>0.75</td>\n",
              "      <td>0.833333</td>\n",
              "      <td>0.833333</td>\n",
              "      <td>0.956522</td>\n",
              "      <td>0.000000</td>\n",
              "      <td>0.5</td>\n",
              "      <td>1.0</td>\n",
              "      <td>1.000000</td>\n",
              "      <td>0.0</td>\n",
              "      <td>0.580335</td>\n",
              "      <td>0.542191</td>\n",
              "      <td>0.491339</td>\n",
              "      <td>0.546072</td>\n",
              "      <td>0.311111</td>\n",
              "      <td>1.0</td>\n",
              "      <td>0.500000</td>\n",
              "      <td>0.076923</td>\n",
              "      <td>0.736842</td>\n",
              "      <td>0.660697</td>\n",
              "      <td>0.426643</td>\n",
              "      <td>0.347280</td>\n",
              "      <td>1.0</td>\n",
              "      <td>0.750</td>\n",
              "      <td>0.078000</td>\n",
              "      <td>0.581576</td>\n",
              "      <td>0.090909</td>\n",
              "      <td>1.0</td>\n",
              "      <td>1.000000</td>\n",
              "      <td>0.526316</td>\n",
              "      <td>0.20</td>\n",
              "    </tr>\n",
              "    <tr>\n",
              "      <th>3</th>\n",
              "      <td>0.666667</td>\n",
              "      <td>1.0</td>\n",
              "      <td>0.333333</td>\n",
              "      <td>0.75</td>\n",
              "      <td>1.000000</td>\n",
              "      <td>0.833333</td>\n",
              "      <td>0.956522</td>\n",
              "      <td>0.000000</td>\n",
              "      <td>0.5</td>\n",
              "      <td>1.0</td>\n",
              "      <td>1.000000</td>\n",
              "      <td>0.0</td>\n",
              "      <td>0.575873</td>\n",
              "      <td>0.559580</td>\n",
              "      <td>0.507098</td>\n",
              "      <td>0.530239</td>\n",
              "      <td>0.377778</td>\n",
              "      <td>1.0</td>\n",
              "      <td>0.500000</td>\n",
              "      <td>0.076923</td>\n",
              "      <td>0.736842</td>\n",
              "      <td>0.476617</td>\n",
              "      <td>0.339334</td>\n",
              "      <td>0.395397</td>\n",
              "      <td>0.5</td>\n",
              "      <td>0.750</td>\n",
              "      <td>0.148000</td>\n",
              "      <td>0.559371</td>\n",
              "      <td>0.090909</td>\n",
              "      <td>0.6</td>\n",
              "      <td>1.000000</td>\n",
              "      <td>0.526316</td>\n",
              "      <td>0.40</td>\n",
              "    </tr>\n",
              "    <tr>\n",
              "      <th>4</th>\n",
              "      <td>0.666667</td>\n",
              "      <td>0.5</td>\n",
              "      <td>0.333333</td>\n",
              "      <td>0.25</td>\n",
              "      <td>0.833333</td>\n",
              "      <td>0.833333</td>\n",
              "      <td>0.434783</td>\n",
              "      <td>0.000000</td>\n",
              "      <td>0.0</td>\n",
              "      <td>1.0</td>\n",
              "      <td>0.333333</td>\n",
              "      <td>0.5</td>\n",
              "      <td>0.465226</td>\n",
              "      <td>0.411608</td>\n",
              "      <td>0.305619</td>\n",
              "      <td>0.470378</td>\n",
              "      <td>0.222222</td>\n",
              "      <td>0.0</td>\n",
              "      <td>0.333333</td>\n",
              "      <td>0.230769</td>\n",
              "      <td>0.368421</td>\n",
              "      <td>0.000000</td>\n",
              "      <td>0.626463</td>\n",
              "      <td>0.238494</td>\n",
              "      <td>0.5</td>\n",
              "      <td>0.125</td>\n",
              "      <td>0.000000</td>\n",
              "      <td>0.569381</td>\n",
              "      <td>0.479988</td>\n",
              "      <td>0.8</td>\n",
              "      <td>0.923077</td>\n",
              "      <td>0.210526</td>\n",
              "      <td>0.75</td>\n",
              "    </tr>\n",
              "  </tbody>\n",
              "</table>\n",
              "</div>\n",
              "      <button class=\"colab-df-convert\" onclick=\"convertToInteractive('df-757088e9-8156-4639-bd41-1ebad1c40efb')\"\n",
              "              title=\"Convert this dataframe to an interactive table.\"\n",
              "              style=\"display:none;\">\n",
              "        \n",
              "  <svg xmlns=\"http://www.w3.org/2000/svg\" height=\"24px\"viewBox=\"0 0 24 24\"\n",
              "       width=\"24px\">\n",
              "    <path d=\"M0 0h24v24H0V0z\" fill=\"none\"/>\n",
              "    <path d=\"M18.56 5.44l.94 2.06.94-2.06 2.06-.94-2.06-.94-.94-2.06-.94 2.06-2.06.94zm-11 1L8.5 8.5l.94-2.06 2.06-.94-2.06-.94L8.5 2.5l-.94 2.06-2.06.94zm10 10l.94 2.06.94-2.06 2.06-.94-2.06-.94-.94-2.06-.94 2.06-2.06.94z\"/><path d=\"M17.41 7.96l-1.37-1.37c-.4-.4-.92-.59-1.43-.59-.52 0-1.04.2-1.43.59L10.3 9.45l-7.72 7.72c-.78.78-.78 2.05 0 2.83L4 21.41c.39.39.9.59 1.41.59.51 0 1.02-.2 1.41-.59l7.78-7.78 2.81-2.81c.8-.78.8-2.07 0-2.86zM5.41 20L4 18.59l7.72-7.72 1.47 1.35L5.41 20z\"/>\n",
              "  </svg>\n",
              "      </button>\n",
              "      \n",
              "  <style>\n",
              "    .colab-df-container {\n",
              "      display:flex;\n",
              "      flex-wrap:wrap;\n",
              "      gap: 12px;\n",
              "    }\n",
              "\n",
              "    .colab-df-convert {\n",
              "      background-color: #E8F0FE;\n",
              "      border: none;\n",
              "      border-radius: 50%;\n",
              "      cursor: pointer;\n",
              "      display: none;\n",
              "      fill: #1967D2;\n",
              "      height: 32px;\n",
              "      padding: 0 0 0 0;\n",
              "      width: 32px;\n",
              "    }\n",
              "\n",
              "    .colab-df-convert:hover {\n",
              "      background-color: #E2EBFA;\n",
              "      box-shadow: 0px 1px 2px rgba(60, 64, 67, 0.3), 0px 1px 3px 1px rgba(60, 64, 67, 0.15);\n",
              "      fill: #174EA6;\n",
              "    }\n",
              "\n",
              "    [theme=dark] .colab-df-convert {\n",
              "      background-color: #3B4455;\n",
              "      fill: #D2E3FC;\n",
              "    }\n",
              "\n",
              "    [theme=dark] .colab-df-convert:hover {\n",
              "      background-color: #434B5C;\n",
              "      box-shadow: 0px 1px 3px 1px rgba(0, 0, 0, 0.15);\n",
              "      filter: drop-shadow(0px 1px 2px rgba(0, 0, 0, 0.3));\n",
              "      fill: #FFFFFF;\n",
              "    }\n",
              "  </style>\n",
              "\n",
              "      <script>\n",
              "        const buttonEl =\n",
              "          document.querySelector('#df-757088e9-8156-4639-bd41-1ebad1c40efb button.colab-df-convert');\n",
              "        buttonEl.style.display =\n",
              "          google.colab.kernel.accessAllowed ? 'block' : 'none';\n",
              "\n",
              "        async function convertToInteractive(key) {\n",
              "          const element = document.querySelector('#df-757088e9-8156-4639-bd41-1ebad1c40efb');\n",
              "          const dataTable =\n",
              "            await google.colab.kernel.invokeFunction('convertToInteractive',\n",
              "                                                     [key], {});\n",
              "          if (!dataTable) return;\n",
              "\n",
              "          const docLinkHtml = 'Like what you see? Visit the ' +\n",
              "            '<a target=\"_blank\" href=https://colab.research.google.com/notebooks/data_table.ipynb>data table notebook</a>'\n",
              "            + ' to learn more about interactive tables.';\n",
              "          element.innerHTML = '';\n",
              "          dataTable['output_type'] = 'display_data';\n",
              "          await google.colab.output.renderOutput(dataTable, element);\n",
              "          const docLink = document.createElement('div');\n",
              "          docLink.innerHTML = docLinkHtml;\n",
              "          element.appendChild(docLink);\n",
              "        }\n",
              "      </script>\n",
              "    </div>\n",
              "  </div>\n",
              "  "
            ]
          },
          "metadata": {},
          "execution_count": 201
        }
      ]
    },
    {
      "cell_type": "code",
      "source": [
        "test_scaled.head()"
      ],
      "metadata": {
        "id": "ekowFLcQWB2A",
        "colab": {
          "base_uri": "https://localhost:8080/",
          "height": 270
        },
        "outputId": "be714c92-0b62-456b-e8c9-76419008ec13"
      },
      "execution_count": 202,
      "outputs": [
        {
          "output_type": "execute_result",
          "data": {
            "text/plain": [
              "         0    1         2     3         4         5         6         7    8   \\\n",
              "0  0.000000  0.0  0.333333  0.00  0.333333  0.166667  0.173913  0.666667  0.0   \n",
              "1  0.666667  0.5  0.333333  0.25  1.000000  0.666667  0.695652  0.000000  1.0   \n",
              "2  0.000000  0.5  0.333333  1.00  0.333333  0.166667  0.869565  0.666667  0.0   \n",
              "3  1.000000  0.5  1.000000  0.50  0.666667  0.666667  0.434783  0.000000  1.0   \n",
              "4  0.000000  0.5  0.333333  1.00  0.333333  0.166667  0.304348  0.666667  0.0   \n",
              "\n",
              "    9     10   11        12        13        14        15        16   17  \\\n",
              "0  0.0  0.00  1.0  0.608216  0.325647  0.342965  0.687218  0.177778  0.0   \n",
              "1  0.5  0.25  1.0  0.491624  0.386536  0.222998  0.538641  0.466667  0.0   \n",
              "2  0.0  0.25  1.0  0.529451  0.356854  0.387693  0.551487  0.444444  1.0   \n",
              "3  1.0  0.25  1.0  0.043138  0.023536  0.036854  0.045192  0.422222  0.0   \n",
              "4  1.0  0.75  0.0  0.307877  0.366859  0.163844  0.296435  0.222222  0.0   \n",
              "\n",
              "         18        19        20        21        22        23   24     25  \\\n",
              "0  0.333333  0.000000  0.000000  0.561194  0.486949  0.175732  0.5  0.750   \n",
              "1  0.666667  0.692308  0.473684  0.564179  0.409541  0.485356  1.0  0.125   \n",
              "2  0.500000  0.538462  0.631579  0.302488  1.000000  0.456067  0.5  0.625   \n",
              "3  0.833333  0.230769  0.947368  0.681592  1.000000  0.428870  1.0  1.000   \n",
              "4  1.000000  0.846154  0.105263  0.349254  1.000000  0.280335  1.0  0.125   \n",
              "\n",
              "         26        27        28   29        30        31    32  \n",
              "0  1.000000  0.357872  0.083502  0.6  1.000000  0.756757  0.00  \n",
              "1  0.000000  0.528581  0.083502  0.8  0.692308  0.918919  0.55  \n",
              "2  0.333333  0.638254  0.200292  0.4  0.846154  0.513514  0.75  \n",
              "3  1.000000  0.533949  0.638473  1.0  0.000000  0.864865  0.70  \n",
              "4  1.000000  0.612301  0.555961  0.6  0.307692  0.810811  0.60  "
            ],
            "text/html": [
              "\n",
              "  <div id=\"df-b9e5bcd9-c097-4562-be55-19653b62562b\">\n",
              "    <div class=\"colab-df-container\">\n",
              "      <div>\n",
              "<style scoped>\n",
              "    .dataframe tbody tr th:only-of-type {\n",
              "        vertical-align: middle;\n",
              "    }\n",
              "\n",
              "    .dataframe tbody tr th {\n",
              "        vertical-align: top;\n",
              "    }\n",
              "\n",
              "    .dataframe thead th {\n",
              "        text-align: right;\n",
              "    }\n",
              "</style>\n",
              "<table border=\"1\" class=\"dataframe\">\n",
              "  <thead>\n",
              "    <tr style=\"text-align: right;\">\n",
              "      <th></th>\n",
              "      <th>0</th>\n",
              "      <th>1</th>\n",
              "      <th>2</th>\n",
              "      <th>3</th>\n",
              "      <th>4</th>\n",
              "      <th>5</th>\n",
              "      <th>6</th>\n",
              "      <th>7</th>\n",
              "      <th>8</th>\n",
              "      <th>9</th>\n",
              "      <th>10</th>\n",
              "      <th>11</th>\n",
              "      <th>12</th>\n",
              "      <th>13</th>\n",
              "      <th>14</th>\n",
              "      <th>15</th>\n",
              "      <th>16</th>\n",
              "      <th>17</th>\n",
              "      <th>18</th>\n",
              "      <th>19</th>\n",
              "      <th>20</th>\n",
              "      <th>21</th>\n",
              "      <th>22</th>\n",
              "      <th>23</th>\n",
              "      <th>24</th>\n",
              "      <th>25</th>\n",
              "      <th>26</th>\n",
              "      <th>27</th>\n",
              "      <th>28</th>\n",
              "      <th>29</th>\n",
              "      <th>30</th>\n",
              "      <th>31</th>\n",
              "      <th>32</th>\n",
              "    </tr>\n",
              "  </thead>\n",
              "  <tbody>\n",
              "    <tr>\n",
              "      <th>0</th>\n",
              "      <td>0.000000</td>\n",
              "      <td>0.0</td>\n",
              "      <td>0.333333</td>\n",
              "      <td>0.00</td>\n",
              "      <td>0.333333</td>\n",
              "      <td>0.166667</td>\n",
              "      <td>0.173913</td>\n",
              "      <td>0.666667</td>\n",
              "      <td>0.0</td>\n",
              "      <td>0.0</td>\n",
              "      <td>0.00</td>\n",
              "      <td>1.0</td>\n",
              "      <td>0.608216</td>\n",
              "      <td>0.325647</td>\n",
              "      <td>0.342965</td>\n",
              "      <td>0.687218</td>\n",
              "      <td>0.177778</td>\n",
              "      <td>0.0</td>\n",
              "      <td>0.333333</td>\n",
              "      <td>0.000000</td>\n",
              "      <td>0.000000</td>\n",
              "      <td>0.561194</td>\n",
              "      <td>0.486949</td>\n",
              "      <td>0.175732</td>\n",
              "      <td>0.5</td>\n",
              "      <td>0.750</td>\n",
              "      <td>1.000000</td>\n",
              "      <td>0.357872</td>\n",
              "      <td>0.083502</td>\n",
              "      <td>0.6</td>\n",
              "      <td>1.000000</td>\n",
              "      <td>0.756757</td>\n",
              "      <td>0.00</td>\n",
              "    </tr>\n",
              "    <tr>\n",
              "      <th>1</th>\n",
              "      <td>0.666667</td>\n",
              "      <td>0.5</td>\n",
              "      <td>0.333333</td>\n",
              "      <td>0.25</td>\n",
              "      <td>1.000000</td>\n",
              "      <td>0.666667</td>\n",
              "      <td>0.695652</td>\n",
              "      <td>0.000000</td>\n",
              "      <td>1.0</td>\n",
              "      <td>0.5</td>\n",
              "      <td>0.25</td>\n",
              "      <td>1.0</td>\n",
              "      <td>0.491624</td>\n",
              "      <td>0.386536</td>\n",
              "      <td>0.222998</td>\n",
              "      <td>0.538641</td>\n",
              "      <td>0.466667</td>\n",
              "      <td>0.0</td>\n",
              "      <td>0.666667</td>\n",
              "      <td>0.692308</td>\n",
              "      <td>0.473684</td>\n",
              "      <td>0.564179</td>\n",
              "      <td>0.409541</td>\n",
              "      <td>0.485356</td>\n",
              "      <td>1.0</td>\n",
              "      <td>0.125</td>\n",
              "      <td>0.000000</td>\n",
              "      <td>0.528581</td>\n",
              "      <td>0.083502</td>\n",
              "      <td>0.8</td>\n",
              "      <td>0.692308</td>\n",
              "      <td>0.918919</td>\n",
              "      <td>0.55</td>\n",
              "    </tr>\n",
              "    <tr>\n",
              "      <th>2</th>\n",
              "      <td>0.000000</td>\n",
              "      <td>0.5</td>\n",
              "      <td>0.333333</td>\n",
              "      <td>1.00</td>\n",
              "      <td>0.333333</td>\n",
              "      <td>0.166667</td>\n",
              "      <td>0.869565</td>\n",
              "      <td>0.666667</td>\n",
              "      <td>0.0</td>\n",
              "      <td>0.0</td>\n",
              "      <td>0.25</td>\n",
              "      <td>1.0</td>\n",
              "      <td>0.529451</td>\n",
              "      <td>0.356854</td>\n",
              "      <td>0.387693</td>\n",
              "      <td>0.551487</td>\n",
              "      <td>0.444444</td>\n",
              "      <td>1.0</td>\n",
              "      <td>0.500000</td>\n",
              "      <td>0.538462</td>\n",
              "      <td>0.631579</td>\n",
              "      <td>0.302488</td>\n",
              "      <td>1.000000</td>\n",
              "      <td>0.456067</td>\n",
              "      <td>0.5</td>\n",
              "      <td>0.625</td>\n",
              "      <td>0.333333</td>\n",
              "      <td>0.638254</td>\n",
              "      <td>0.200292</td>\n",
              "      <td>0.4</td>\n",
              "      <td>0.846154</td>\n",
              "      <td>0.513514</td>\n",
              "      <td>0.75</td>\n",
              "    </tr>\n",
              "    <tr>\n",
              "      <th>3</th>\n",
              "      <td>1.000000</td>\n",
              "      <td>0.5</td>\n",
              "      <td>1.000000</td>\n",
              "      <td>0.50</td>\n",
              "      <td>0.666667</td>\n",
              "      <td>0.666667</td>\n",
              "      <td>0.434783</td>\n",
              "      <td>0.000000</td>\n",
              "      <td>1.0</td>\n",
              "      <td>1.0</td>\n",
              "      <td>0.25</td>\n",
              "      <td>1.0</td>\n",
              "      <td>0.043138</td>\n",
              "      <td>0.023536</td>\n",
              "      <td>0.036854</td>\n",
              "      <td>0.045192</td>\n",
              "      <td>0.422222</td>\n",
              "      <td>0.0</td>\n",
              "      <td>0.833333</td>\n",
              "      <td>0.230769</td>\n",
              "      <td>0.947368</td>\n",
              "      <td>0.681592</td>\n",
              "      <td>1.000000</td>\n",
              "      <td>0.428870</td>\n",
              "      <td>1.0</td>\n",
              "      <td>1.000</td>\n",
              "      <td>1.000000</td>\n",
              "      <td>0.533949</td>\n",
              "      <td>0.638473</td>\n",
              "      <td>1.0</td>\n",
              "      <td>0.000000</td>\n",
              "      <td>0.864865</td>\n",
              "      <td>0.70</td>\n",
              "    </tr>\n",
              "    <tr>\n",
              "      <th>4</th>\n",
              "      <td>0.000000</td>\n",
              "      <td>0.5</td>\n",
              "      <td>0.333333</td>\n",
              "      <td>1.00</td>\n",
              "      <td>0.333333</td>\n",
              "      <td>0.166667</td>\n",
              "      <td>0.304348</td>\n",
              "      <td>0.666667</td>\n",
              "      <td>0.0</td>\n",
              "      <td>1.0</td>\n",
              "      <td>0.75</td>\n",
              "      <td>0.0</td>\n",
              "      <td>0.307877</td>\n",
              "      <td>0.366859</td>\n",
              "      <td>0.163844</td>\n",
              "      <td>0.296435</td>\n",
              "      <td>0.222222</td>\n",
              "      <td>0.0</td>\n",
              "      <td>1.000000</td>\n",
              "      <td>0.846154</td>\n",
              "      <td>0.105263</td>\n",
              "      <td>0.349254</td>\n",
              "      <td>1.000000</td>\n",
              "      <td>0.280335</td>\n",
              "      <td>1.0</td>\n",
              "      <td>0.125</td>\n",
              "      <td>1.000000</td>\n",
              "      <td>0.612301</td>\n",
              "      <td>0.555961</td>\n",
              "      <td>0.6</td>\n",
              "      <td>0.307692</td>\n",
              "      <td>0.810811</td>\n",
              "      <td>0.60</td>\n",
              "    </tr>\n",
              "  </tbody>\n",
              "</table>\n",
              "</div>\n",
              "      <button class=\"colab-df-convert\" onclick=\"convertToInteractive('df-b9e5bcd9-c097-4562-be55-19653b62562b')\"\n",
              "              title=\"Convert this dataframe to an interactive table.\"\n",
              "              style=\"display:none;\">\n",
              "        \n",
              "  <svg xmlns=\"http://www.w3.org/2000/svg\" height=\"24px\"viewBox=\"0 0 24 24\"\n",
              "       width=\"24px\">\n",
              "    <path d=\"M0 0h24v24H0V0z\" fill=\"none\"/>\n",
              "    <path d=\"M18.56 5.44l.94 2.06.94-2.06 2.06-.94-2.06-.94-.94-2.06-.94 2.06-2.06.94zm-11 1L8.5 8.5l.94-2.06 2.06-.94-2.06-.94L8.5 2.5l-.94 2.06-2.06.94zm10 10l.94 2.06.94-2.06 2.06-.94-2.06-.94-.94-2.06-.94 2.06-2.06.94z\"/><path d=\"M17.41 7.96l-1.37-1.37c-.4-.4-.92-.59-1.43-.59-.52 0-1.04.2-1.43.59L10.3 9.45l-7.72 7.72c-.78.78-.78 2.05 0 2.83L4 21.41c.39.39.9.59 1.41.59.51 0 1.02-.2 1.41-.59l7.78-7.78 2.81-2.81c.8-.78.8-2.07 0-2.86zM5.41 20L4 18.59l7.72-7.72 1.47 1.35L5.41 20z\"/>\n",
              "  </svg>\n",
              "      </button>\n",
              "      \n",
              "  <style>\n",
              "    .colab-df-container {\n",
              "      display:flex;\n",
              "      flex-wrap:wrap;\n",
              "      gap: 12px;\n",
              "    }\n",
              "\n",
              "    .colab-df-convert {\n",
              "      background-color: #E8F0FE;\n",
              "      border: none;\n",
              "      border-radius: 50%;\n",
              "      cursor: pointer;\n",
              "      display: none;\n",
              "      fill: #1967D2;\n",
              "      height: 32px;\n",
              "      padding: 0 0 0 0;\n",
              "      width: 32px;\n",
              "    }\n",
              "\n",
              "    .colab-df-convert:hover {\n",
              "      background-color: #E2EBFA;\n",
              "      box-shadow: 0px 1px 2px rgba(60, 64, 67, 0.3), 0px 1px 3px 1px rgba(60, 64, 67, 0.15);\n",
              "      fill: #174EA6;\n",
              "    }\n",
              "\n",
              "    [theme=dark] .colab-df-convert {\n",
              "      background-color: #3B4455;\n",
              "      fill: #D2E3FC;\n",
              "    }\n",
              "\n",
              "    [theme=dark] .colab-df-convert:hover {\n",
              "      background-color: #434B5C;\n",
              "      box-shadow: 0px 1px 3px 1px rgba(0, 0, 0, 0.15);\n",
              "      filter: drop-shadow(0px 1px 2px rgba(0, 0, 0, 0.3));\n",
              "      fill: #FFFFFF;\n",
              "    }\n",
              "  </style>\n",
              "\n",
              "      <script>\n",
              "        const buttonEl =\n",
              "          document.querySelector('#df-b9e5bcd9-c097-4562-be55-19653b62562b button.colab-df-convert');\n",
              "        buttonEl.style.display =\n",
              "          google.colab.kernel.accessAllowed ? 'block' : 'none';\n",
              "\n",
              "        async function convertToInteractive(key) {\n",
              "          const element = document.querySelector('#df-b9e5bcd9-c097-4562-be55-19653b62562b');\n",
              "          const dataTable =\n",
              "            await google.colab.kernel.invokeFunction('convertToInteractive',\n",
              "                                                     [key], {});\n",
              "          if (!dataTable) return;\n",
              "\n",
              "          const docLinkHtml = 'Like what you see? Visit the ' +\n",
              "            '<a target=\"_blank\" href=https://colab.research.google.com/notebooks/data_table.ipynb>data table notebook</a>'\n",
              "            + ' to learn more about interactive tables.';\n",
              "          element.innerHTML = '';\n",
              "          dataTable['output_type'] = 'display_data';\n",
              "          await google.colab.output.renderOutput(dataTable, element);\n",
              "          const docLink = document.createElement('div');\n",
              "          docLink.innerHTML = docLinkHtml;\n",
              "          element.appendChild(docLink);\n",
              "        }\n",
              "      </script>\n",
              "    </div>\n",
              "  </div>\n",
              "  "
            ]
          },
          "metadata": {},
          "execution_count": 202
        }
      ]
    },
    {
      "cell_type": "code",
      "source": [
        "from sklearn.tree import DecisionTreeClassifier"
      ],
      "metadata": {
        "id": "96zZVsuiqKwo"
      },
      "execution_count": 203,
      "outputs": []
    },
    {
      "cell_type": "code",
      "source": [
        "dt=DecisionTreeClassifier()"
      ],
      "metadata": {
        "id": "7PpregjsqcN_"
      },
      "execution_count": 204,
      "outputs": []
    },
    {
      "cell_type": "code",
      "source": [
        "#fitting the model\n",
        "dt.fit(train_scaled,y)"
      ],
      "metadata": {
        "colab": {
          "base_uri": "https://localhost:8080/"
        },
        "id": "0DcYIaC-qpXp",
        "outputId": "45178ca8-79c3-4754-df6b-0f31983c5f9e"
      },
      "execution_count": 205,
      "outputs": [
        {
          "output_type": "execute_result",
          "data": {
            "text/plain": [
              "DecisionTreeClassifier()"
            ]
          },
          "metadata": {},
          "execution_count": 205
        }
      ]
    },
    {
      "cell_type": "code",
      "source": [
        "from sklearn import tree"
      ],
      "metadata": {
        "id": "oOjUPK86uYUp"
      },
      "execution_count": 208,
      "outputs": []
    },
    {
      "cell_type": "code",
      "source": [
        "!pip install graphviz"
      ],
      "metadata": {
        "colab": {
          "base_uri": "https://localhost:8080/"
        },
        "id": "eOxpWR_1u8sv",
        "outputId": "57fe3900-2812-46c0-d6d6-0e9022ad944e"
      },
      "execution_count": 212,
      "outputs": [
        {
          "output_type": "stream",
          "name": "stdout",
          "text": [
            "Looking in indexes: https://pypi.org/simple, https://us-python.pkg.dev/colab-wheels/public/simple/\n",
            "Requirement already satisfied: graphviz in /usr/local/lib/python3.7/dist-packages (0.10.1)\n"
          ]
        }
      ]
    },
    {
      "cell_type": "code",
      "source": [
        "decision_tree=tree.export_graphviz(dt,out_file='tree.dot',feature_names=x.columns,max_depth=2,filled=True)"
      ],
      "metadata": {
        "id": "QUieMFl1vF_B"
      },
      "execution_count": 235,
      "outputs": []
    },
    {
      "cell_type": "code",
      "source": [
        "!dot -Tpng tree.dot -o tree.png"
      ],
      "metadata": {
        "id": "CEbcSOCyvGEV"
      },
      "execution_count": 236,
      "outputs": []
    },
    {
      "cell_type": "code",
      "source": [
        "image=plt.imread('tree.png')\n",
        "plt.figure(figsize=(20,20))\n",
        "plt.imshow(image)"
      ],
      "metadata": {
        "id": "i5dqt6R6xnWz"
      },
      "execution_count": null,
      "outputs": []
    },
    {
      "cell_type": "code",
      "execution_count": 239,
      "metadata": {
        "colab": {
          "base_uri": "https://localhost:8080/"
        },
        "id": "raMHzSBKkcpj",
        "outputId": "f45b308c-7443-4450-a0be-50aee2dfe76c"
      },
      "outputs": [
        {
          "output_type": "execute_result",
          "data": {
            "text/plain": [
              "RandomForestClassifier()"
            ]
          },
          "metadata": {},
          "execution_count": 239
        }
      ],
      "source": [
        "from sklearn.ensemble import RandomForestClassifier,AdaBoostClassifier,GradientBoostingClassifier\n",
        "rf=RandomForestClassifier()\n",
        "rf.fit(train_scaled,y)"
      ]
    },
    {
      "cell_type": "code",
      "source": [
        "from sklearn.ensemble import RandomForestClassifier,AdaBoostClassifier,GradientBoostingClassifier\n",
        "ada=AdaBoostClassifier()\n",
        "ada.fit(train_scaled,y)"
      ],
      "metadata": {
        "colab": {
          "base_uri": "https://localhost:8080/"
        },
        "id": "6B5aa0gSY8Rv",
        "outputId": "33f80b72-e58e-46c3-d60e-8365f9de0f74"
      },
      "execution_count": 240,
      "outputs": [
        {
          "output_type": "execute_result",
          "data": {
            "text/plain": [
              "AdaBoostClassifier()"
            ]
          },
          "metadata": {},
          "execution_count": 240
        }
      ]
    },
    {
      "cell_type": "code",
      "source": [
        "from sklearn.ensemble import RandomForestClassifier,AdaBoostClassifier,GradientBoostingClassifier\n",
        "gb=GradientBoostingClassifier()\n",
        "gb.fit(train_scaled,y)"
      ],
      "metadata": {
        "colab": {
          "base_uri": "https://localhost:8080/"
        },
        "id": "FYqBQ-erYXBU",
        "outputId": "b26cf3b5-aefd-480e-f522-4d8485df4a98"
      },
      "execution_count": 241,
      "outputs": [
        {
          "output_type": "execute_result",
          "data": {
            "text/plain": [
              "GradientBoostingClassifier()"
            ]
          },
          "metadata": {},
          "execution_count": 241
        }
      ]
    },
    {
      "cell_type": "code",
      "execution_count": 242,
      "metadata": {
        "id": "gQFfC77xlKiA"
      },
      "outputs": [],
      "source": [
        "y_pred=rf.predict(test_scaled)\n",
        "y1_pred=ada.predict(test_scaled)\n",
        "y2_pred=gb.predict(test_scaled)"
      ]
    },
    {
      "cell_type": "code",
      "execution_count": 243,
      "metadata": {
        "colab": {
          "base_uri": "https://localhost:8080/"
        },
        "id": "_mc1BJd4qbXx",
        "outputId": "21db0c49-41e7-4693-eeea-48b5d8fa3f79"
      },
      "outputs": [
        {
          "output_type": "execute_result",
          "data": {
            "text/plain": [
              "array([0, 0, 0, ..., 0, 0, 0])"
            ]
          },
          "metadata": {},
          "execution_count": 243
        }
      ],
      "source": [
        "#model 1 randomforest classifier\n",
        "y_pred"
      ]
    },
    {
      "cell_type": "code",
      "source": [
        "#model 2 AdaboostBoosclassifier\n",
        "y1_pred"
      ],
      "metadata": {
        "colab": {
          "base_uri": "https://localhost:8080/"
        },
        "id": "YuN1JJbAZrjN",
        "outputId": "19d1dbce-a698-425c-f323-505cf76c662b"
      },
      "execution_count": 244,
      "outputs": [
        {
          "output_type": "execute_result",
          "data": {
            "text/plain": [
              "array([0, 0, 0, ..., 0, 0, 0])"
            ]
          },
          "metadata": {},
          "execution_count": 244
        }
      ]
    },
    {
      "cell_type": "code",
      "source": [
        "#model 3 GradientBoosting classifier\n",
        "y2_pred"
      ],
      "metadata": {
        "colab": {
          "base_uri": "https://localhost:8080/"
        },
        "id": "altLxXMqZvGc",
        "outputId": "f576780c-c069-4415-b3a3-02a4dc861663"
      },
      "execution_count": 245,
      "outputs": [
        {
          "output_type": "execute_result",
          "data": {
            "text/plain": [
              "array([0, 0, 0, ..., 0, 0, 0])"
            ]
          },
          "metadata": {},
          "execution_count": 245
        }
      ]
    },
    {
      "cell_type": "markdown",
      "source": [
        "# **Hyperparameter tuning**"
      ],
      "metadata": {
        "id": "bAWN9ISZapG_"
      }
    },
    {
      "cell_type": "code",
      "execution_count": 246,
      "metadata": {
        "id": "meVvq4X5YlxW"
      },
      "outputs": [],
      "source": [
        "from sklearn.model_selection import GridSearchCV"
      ]
    },
    {
      "cell_type": "code",
      "source": [
        "from sklearn.model_selection import KFold\n",
        "KFold=KFold(n_splits=5)"
      ],
      "metadata": {
        "id": "54l6UpushrpX"
      },
      "execution_count": 247,
      "outputs": []
    },
    {
      "cell_type": "code",
      "execution_count": 248,
      "metadata": {
        "id": "pddrlAFC7sJK"
      },
      "outputs": [],
      "source": [
        "param_grid = {'n_estimators' : [100,110],\n",
        "              'max_features' : [3,4],\n",
        "             'max_depth' : [3,5,7],\n",
        "              'min_samples_split' : [2,8,4]} "
      ]
    },
    {
      "cell_type": "code",
      "execution_count": 249,
      "metadata": {
        "colab": {
          "base_uri": "https://localhost:8080/"
        },
        "id": "g7Bjy3EAcdmV",
        "outputId": "004046bb-9cef-4bf7-fdb7-a4fca6034169"
      },
      "outputs": [
        {
          "output_type": "stream",
          "name": "stdout",
          "text": [
            "Fitting 5 folds for each of 36 candidates, totalling 180 fits\n"
          ]
        },
        {
          "output_type": "execute_result",
          "data": {
            "text/plain": [
              "GridSearchCV(cv=KFold(n_splits=5, random_state=None, shuffle=False),\n",
              "             estimator=RandomForestClassifier(), n_jobs=4,\n",
              "             param_grid={'max_depth': [3, 5, 7], 'max_features': [3, 4],\n",
              "                         'min_samples_split': [2, 8, 4],\n",
              "                         'n_estimators': [100, 110]},\n",
              "             verbose=3)"
            ]
          },
          "metadata": {},
          "execution_count": 249
        }
      ],
      "source": [
        "GSV = GridSearchCV(rf,param_grid,verbose=3,cv=KFold,n_jobs=4)\n",
        "GSV.fit(train_scaled, y)"
      ]
    },
    {
      "cell_type": "code",
      "execution_count": 250,
      "metadata": {
        "colab": {
          "base_uri": "https://localhost:8080/"
        },
        "id": "qx9ek_cnfMex",
        "outputId": "a85d3ab9-da80-4aef-e2c5-06efc32ca75d"
      },
      "outputs": [
        {
          "output_type": "execute_result",
          "data": {
            "text/plain": [
              "{'max_depth': 7,\n",
              " 'max_features': 4,\n",
              " 'min_samples_split': 4,\n",
              " 'n_estimators': 110}"
            ]
          },
          "metadata": {},
          "execution_count": 250
        }
      ],
      "source": [
        "GSV.best_params_"
      ]
    },
    {
      "cell_type": "code",
      "execution_count": 251,
      "metadata": {
        "colab": {
          "base_uri": "https://localhost:8080/"
        },
        "id": "cr_DhVT5kKSW",
        "outputId": "a3366e44-4f46-42e3-812b-81226172e752"
      },
      "outputs": [
        {
          "output_type": "execute_result",
          "data": {
            "text/plain": [
              "RandomForestClassifier(max_depth=7, max_features=4, min_samples_split=4,\n",
              "                       n_estimators=110)"
            ]
          },
          "metadata": {},
          "execution_count": 251
        }
      ],
      "source": [
        "random=RandomForestClassifier(n_estimators=110,max_depth=7,min_samples_split=4,max_features=4)\n",
        "random.fit(train_scaled,y)"
      ]
    },
    {
      "cell_type": "code",
      "execution_count": 252,
      "metadata": {
        "id": "BGMtKQeulGNR"
      },
      "outputs": [],
      "source": [
        "y_new=random.predict(test_scaled)"
      ]
    },
    {
      "cell_type": "code",
      "source": [
        "#hyperparameter tuned output of randomforest\n",
        "y_new"
      ],
      "metadata": {
        "colab": {
          "base_uri": "https://localhost:8080/"
        },
        "id": "oqXZY_X6ZqbG",
        "outputId": "1631fe3c-bc4d-4de2-a451-d736dc540270"
      },
      "execution_count": 253,
      "outputs": [
        {
          "output_type": "execute_result",
          "data": {
            "text/plain": [
              "array([0, 0, 0, ..., 0, 0, 0])"
            ]
          },
          "metadata": {},
          "execution_count": 253
        }
      ]
    },
    {
      "cell_type": "code",
      "execution_count": 254,
      "metadata": {
        "id": "67jxfh_AqsPQ"
      },
      "outputs": [],
      "source": [
        "result=pd.DataFrame({'CustomerID':customerid,'ReportedFraud':y_new})\n"
      ]
    },
    {
      "cell_type": "code",
      "execution_count": null,
      "metadata": {
        "id": "AkzKN76OfeYq"
      },
      "outputs": [],
      "source": [
        "result['ReportedFraud'].value_counts()"
      ]
    },
    {
      "cell_type": "code",
      "execution_count": null,
      "metadata": {
        "id": "bhJbvjtexieR"
      },
      "outputs": [],
      "source": [
        "result.to_csv('barath_final.csv',index=False)"
      ]
    },
    {
      "cell_type": "markdown",
      "source": [
        "# **Conclusion**\n",
        "This project has built a model that can detect auto insurance fraud claim. In doing so, the model can reduces loses for insurance companies. \n",
        "\n",
        "Three different Ensembele classifiers were used in this project: Randomrforest,AdaBosst,Gradient boosst .out of these three Random forest give F1.Score 82 .\n",
        "\n",
        "based on this model the main fraud claims are done by peoples  based on when **SeverityOfIncident** if they mentioned majour damage that peoples involed in fraud claims rather than others this is main insight i got from this model and apart from this some other possibilites  like their **hobbies** and  **relationship** ,**Bodilyinjuries**.thes are some main insights from this model"
      ],
      "metadata": {
        "id": "a0FjpXsnL3Oc"
      }
    }
  ],
  "metadata": {
    "colab": {
      "collapsed_sections": [],
      "provenance": [],
      "include_colab_link": true
    },
    "kernelspec": {
      "display_name": "Python 3",
      "name": "python3"
    },
    "language_info": {
      "name": "python"
    },
    "gpuClass": "standard",
    "accelerator": "GPU"
  },
  "nbformat": 4,
  "nbformat_minor": 0
}