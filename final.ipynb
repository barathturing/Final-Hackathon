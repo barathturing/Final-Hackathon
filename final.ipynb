{
  "nbformat": 4,
  "nbformat_minor": 0,
  "metadata": {
    "colab": {
      "provenance": [],
      "include_colab_link": true
    },
    "kernelspec": {
      "name": "python3",
      "display_name": "Python 3"
    },
    "language_info": {
      "name": "python"
    }
  },
  "cells": [
    {
      "cell_type": "markdown",
      "metadata": {
        "id": "view-in-github",
        "colab_type": "text"
      },
      "source": [
        "<a href=\"https://colab.research.google.com/github/barathturing/final-hack/blob/main/final.ipynb\" target=\"_parent\"><img src=\"https://colab.research.google.com/assets/colab-badge.svg\" alt=\"Open In Colab\"/></a>"
      ]
    },
    {
      "cell_type": "code",
      "execution_count": 1,
      "metadata": {
        "id": "LRYZci46YJa_"
      },
      "outputs": [],
      "source": [
        "import pandas as pd\n",
        "import numpy as np\n",
        "import matplotlib.pyplot as plt\n",
        "%matplotlib inline\n",
        "import seaborn as sns"
      ]
    },
    {
      "cell_type": "code",
      "source": [
        "from google.colab import drive\n",
        "drive.mount(\"/content/drive\")"
      ],
      "metadata": {
        "colab": {
          "base_uri": "https://localhost:8080/"
        },
        "id": "FyXheYzaYNO8",
        "outputId": "ecb2be42-d2f0-487b-c3cc-c9b52738de16"
      },
      "execution_count": 2,
      "outputs": [
        {
          "output_type": "stream",
          "name": "stdout",
          "text": [
            "Mounted at /content/drive\n"
          ]
        }
      ]
    },
    {
      "cell_type": "code",
      "source": [
        "df=pd.read_csv(\"/content/drive/MyDrive/TrainData/Train_Vehicle.csv\")"
      ],
      "metadata": {
        "id": "9J6PAzAhYR2V"
      },
      "execution_count": 3,
      "outputs": []
    },
    {
      "cell_type": "code",
      "source": [
        "df1=df.pivot_table(\"VehicleAttributeDetails\", [\"CustomerID\"], \"VehicleAttribute\", aggfunc=\"first\") .reset_index() .rename_axis(columns=None)\n",
        "df1 "
      ],
      "metadata": {
        "id": "bubnAGg-YR6m"
      },
      "execution_count": null,
      "outputs": []
    },
    {
      "cell_type": "code",
      "source": [
        "#Reading files using pandas\n",
        "df1=pd.read_csv(\"/content/drive/MyDrive/TrainData/Train_Claim.csv\")\n",
        "df2=pd.read_csv(\"/content/drive/MyDrive/TrainData/Train_Demographics.csv\")\n",
        "df3=pd.read_csv(\"/content/drive/MyDrive/TrainData/Train_Policy.csv\")\n",
        "df4=pd.read_csv(\"/content/drive/MyDrive/TrainData/Train_Vehicle_new.csv\")\n",
        "df5=pd.read_csv(\"/content/drive/MyDrive/TrainData/Traindata_with_Target.csv\")"
      ],
      "metadata": {
        "id": "r3fJMo3UYR-D"
      },
      "execution_count": 5,
      "outputs": []
    },
    {
      "cell_type": "code",
      "source": [
        "#checking shape of each datasets\n",
        "print(\"df1:\",df1.shape)\n",
        "print(\"df2:\",df2.shape)\n",
        "print(\"df3:\",df3.shape)\n",
        "print(\"df4:\",df4.shape)\n",
        "print(\"df5:\",df5.shape)"
      ],
      "metadata": {
        "colab": {
          "base_uri": "https://localhost:8080/"
        },
        "id": "XvEc_lQhYrKe",
        "outputId": "8399779c-126a-4e3b-dcac-6b8df760a6a6"
      },
      "execution_count": 6,
      "outputs": [
        {
          "output_type": "stream",
          "name": "stdout",
          "text": [
            "df1: (28836, 19)\n",
            "df2: (28836, 10)\n",
            "df3: (28836, 10)\n",
            "df4: (28836, 5)\n",
            "df5: (28836, 2)\n"
          ]
        }
      ]
    },
    {
      "cell_type": "code",
      "source": [
        "#merging all datasets based on \"CstomerID\"\n",
        "sample_1=pd.merge(df1,df2)\n",
        "sample_2=pd.merge(sample_1,df3)\n",
        "sample_3=pd.merge(sample_2,df4)\n",
        "master=pd.merge(sample_3,df5)"
      ],
      "metadata": {
        "id": "5FEPTdV6YtfV"
      },
      "execution_count": 7,
      "outputs": []
    },
    {
      "cell_type": "code",
      "source": [
        "master.head()"
      ],
      "metadata": {
        "id": "y0gbh4IuYx69"
      },
      "execution_count": null,
      "outputs": []
    },
    {
      "cell_type": "code",
      "source": [
        "/*train.replace(\"?\",np.nan,inplace=True)\n",
        "train.replace(\"???\",np.nan,inplace=True)\n",
        "train.replace(\"MISSINGVALUE\",np.nan,inplace=True)\n",
        "train.replace(\"MISSEDDATA\",np.nan,inplace=True)\n",
        "train.replace(-1,np.nan,inplace=True)\n",
        "train.replace(-5,np.nan,inplace=True)\n",
        "train.replace(\"MISSINGVAL\",np.nan,inplace=True)*/"
      ],
      "metadata": {
        "id": "mTk_StfAYz_M"
      },
      "execution_count": null,
      "outputs": []
    },
    {
      "cell_type": "code",
      "source": [
        "# Making a list of missing value types\n",
        "missing_values = [\"MISSEDDATA\",\"NA\",\"?\",\"MISSINGVALUE\",\"???\",-5,\"MISSINGVAL\",-1,\"N/A\",\"na\"]"
      ],
      "metadata": {
        "id": "Q5lsJV01thlA"
      },
      "execution_count": 9,
      "outputs": []
    },
    {
      "cell_type": "code",
      "source": [
        "#we create one missing values list by using that if that comes in any place we replace it with nan\n",
        "for column in master.columns:\n",
        "    for missing in missing_values:\n",
        "        master[column] = np.where(master[column]==missing, np.NaN, master[column])"
      ],
      "metadata": {
        "id": "L6m_g9uptlL9"
      },
      "execution_count": 10,
      "outputs": []
    },
    {
      "cell_type": "code",
      "source": [
        "master.isna().sum()"
      ],
      "metadata": {
        "id": "xPiWk0qSY6tk"
      },
      "execution_count": null,
      "outputs": []
    },
    {
      "cell_type": "code",
      "source": [
        "#train['AmountOfTotalclaim'].as type(int)"
      ],
      "metadata": {
        "id": "pRZNZEOiY9qd"
      },
      "execution_count": null,
      "outputs": []
    },
    {
      "cell_type": "code",
      "source": [
        "master.info()"
      ],
      "metadata": {
        "id": "Ob58MZgnaMDD"
      },
      "execution_count": null,
      "outputs": []
    },
    {
      "cell_type": "code",
      "source": [],
      "metadata": {
        "id": "x7Z8IBB8Z5ey"
      },
      "execution_count": null,
      "outputs": []
    },
    {
      "cell_type": "code",
      "source": [
        "master['TypeOfCollission'].fillna(master['TypeOfCollission'].mode()[0],inplace=True)\n",
        "master['AmountOfTotalClaim'].fillna(master['AmountOfTotalClaim'].median(),inplace=True)\n",
        "master['IncidentTime'].fillna(master['IncidentTime'].median(),inplace=True)\n",
        "master['Witnesses'].fillna(master['Witnesses'].mode()[0],inplace=True)\n",
        "master['InsuredGender'].fillna(master['InsuredGender'].mode()[0],inplace=True)\n",
        "master['Country'].fillna(master['Country'].mode()[0],inplace=True)\n",
        "master['PolicyAnnualPremium'].fillna(master['PolicyAnnualPremium'].mean(),inplace=True)\n",
        "master['VehicleMake'].fillna(master['VehicleMake'].mode()[0],inplace=True)\n",
        "master['PoliceReport'].fillna(master['PoliceReport'].mode()[0],inplace=True)\n"
      ],
      "metadata": {
        "id": "f8TsVinBZBIT"
      },
      "execution_count": 13,
      "outputs": []
    },
    {
      "cell_type": "code",
      "source": [
        "master['AmountOfTotalClaim'] = master['AmountOfTotalClaim'].astype('int')"
      ],
      "metadata": {
        "id": "I_uaiZqop84N"
      },
      "execution_count": 17,
      "outputs": []
    },
    {
      "cell_type": "code",
      "source": [
        "master.isna().sum()"
      ],
      "metadata": {
        "id": "4WAtHdDRa6Fh"
      },
      "execution_count": null,
      "outputs": []
    },
    {
      "cell_type": "code",
      "source": [
        "master=master.drop(columns=['PropertyDamage','CustomerID','InsuredRelationship','DateOfIncident','IncidentAddress','IncidentCity','IncidentState','InsuredHobbies','DateOfPolicyCoverage','Country','InsuredZipCode'])"
      ],
      "metadata": {
        "id": "Tj56w9Dtanci"
      },
      "execution_count": null,
      "outputs": []
    },
    {
      "cell_type": "code",
      "source": [
        "master.shape"
      ],
      "metadata": {
        "colab": {
          "base_uri": "https://localhost:8080/"
        },
        "id": "SapOowFMbPss",
        "outputId": "8bc6060b-f1ff-4010-808e-47cd0b4da9e6"
      },
      "execution_count": 24,
      "outputs": [
        {
          "output_type": "execute_result",
          "data": {
            "text/plain": [
              "(28836, 31)"
            ]
          },
          "metadata": {},
          "execution_count": 24
        }
      ]
    },
    {
      "cell_type": "code",
      "source": [
        "cat_col=['TypeOfIncident','TypeOfCollission','SeverityOfIncident','AuthoritiesContacted',\n",
        "                         \n",
        "          'PoliceReport','InsuredGender','InsuredEducationLevel','InsuredOccupation',\n",
        "          'InsurancePolicyState','Policy_CombinedSingleLimit',        \n",
        "          'ReportedFraud','VehicleID','VehicleMake','VehicleModel','VehicleYOM']\n",
        "from sklearn.preprocessing import LabelEncoder\n",
        "le = LabelEncoder()\n",
        "\n",
        "for col in cat_col:\n",
        "    master[col]= le.fit_transform(master[col])  "
      ],
      "metadata": {
        "id": "NmzpXHKFb2Wz"
      },
      "execution_count": 25,
      "outputs": []
    },
    {
      "cell_type": "code",
      "source": [
        "master.head()"
      ],
      "metadata": {
        "id": "8Q8DEDrccNvt"
      },
      "execution_count": null,
      "outputs": []
    },
    {
      "cell_type": "code",
      "source": [
        "from sklearn.preprocessing import MinMaxScaler\n",
        "min_max=MinMaxScaler()\n",
        "train_scaled=pd.DataFrame(min_max.fit_transform(x))"
      ],
      "metadata": {
        "id": "USxTZov8cRJv"
      },
      "execution_count": 49,
      "outputs": []
    },
    {
      "cell_type": "code",
      "source": [
        "train_scaled"
      ],
      "metadata": {
        "id": "4psHrTuGfonm"
      },
      "execution_count": null,
      "outputs": []
    },
    {
      "cell_type": "code",
      "source": [],
      "metadata": {
        "id": "t8bxcM_mfyIU"
      },
      "execution_count": null,
      "outputs": []
    },
    {
      "cell_type": "code",
      "source": [
        "#test\n",
        "\n",
        "\n",
        "\n",
        "df2=pd.read_csv(\"/content/drive/MyDrive/TestData/Test_Vehicle.csv\")"
      ],
      "metadata": {
        "id": "O_4iH4GYf8dE"
      },
      "execution_count": 29,
      "outputs": []
    },
    {
      "cell_type": "code",
      "source": [
        "df3=df2.pivot_table(\"VehicleAttributeDetails\", [\"CustomerID\"], \"VehicleAttribute\", aggfunc=\"first\") .reset_index() .rename_axis(columns=None) \n",
        "df3"
      ],
      "metadata": {
        "id": "8fnVjqlxgDiQ"
      },
      "execution_count": null,
      "outputs": []
    },
    {
      "cell_type": "code",
      "source": [
        "n1=pd.read_csv(\"/content/drive/MyDrive/TestData/Test_Claim.csv\")\n",
        "n2=pd.read_csv(\"/content/drive/MyDrive/TestData/Test_Demographics.csv\")\n",
        "n3=pd.read_csv(\"/content/drive/MyDrive/TestData/Test_Policy.csv\")\n",
        "n4=pd.read_csv(\"/content/drive/MyDrive/TestData/Test.csv\")\n",
        "n5=df3"
      ],
      "metadata": {
        "id": "WvytB6f2gHGh"
      },
      "execution_count": 31,
      "outputs": []
    },
    {
      "cell_type": "code",
      "source": [
        "print(n1.shape)\n",
        "print(n2.shape)\n",
        "print(n3.shape)\n",
        "print(n4.shape)\n",
        "print(n5.shape)"
      ],
      "metadata": {
        "colab": {
          "base_uri": "https://localhost:8080/"
        },
        "id": "h2ZQ9AorgLMS",
        "outputId": "0fd7330e-c135-40e7-9702-5cd44880d469"
      },
      "execution_count": 32,
      "outputs": [
        {
          "output_type": "stream",
          "name": "stdout",
          "text": [
            "(8912, 19)\n",
            "(8912, 10)\n",
            "(8912, 10)\n",
            "(8912, 1)\n",
            "(8912, 5)\n"
          ]
        }
      ]
    },
    {
      "cell_type": "code",
      "source": [
        "fil1=pd.merge(n1,n2)\n",
        "fil2=pd.merge(fil1,n3)\n",
        "fil3=pd.merge(fil2,n4)\n",
        "test=pd.merge(fil3,n5)"
      ],
      "metadata": {
        "id": "lwkVXvKmgNWq"
      },
      "execution_count": 33,
      "outputs": []
    },
    {
      "cell_type": "code",
      "source": [
        "test.head()"
      ],
      "metadata": {
        "id": "fYsIzWMzgSFY"
      },
      "execution_count": null,
      "outputs": []
    },
    {
      "cell_type": "code",
      "source": [
        "\n",
        "test.replace(\"?\",np.nan,inplace=True)\n",
        "test.replace(\"???\",np.nan,inplace=True)\n",
        "test.replace(\"MISSINGVALUE\",np.nan,inplace=True)\n",
        "test.replace(\"MISSEDDATA\",np.nan,inplace=True)\n",
        "test.replace(-1,np.nan,inplace=True)\n",
        "test.replace(-5,np.nan,inplace=True)\n",
        "test.replace(\"MISSINGVAL\",np.nan,inplace=True)"
      ],
      "metadata": {
        "id": "bmTV89ktgUYS"
      },
      "execution_count": 35,
      "outputs": []
    },
    {
      "cell_type": "code",
      "source": [
        "test.isna().sum()"
      ],
      "metadata": {
        "colab": {
          "base_uri": "https://localhost:8080/"
        },
        "id": "Tf10EqrVgkv5",
        "outputId": "61c4f9fb-2080-48cf-b1cd-0a22accac8f8"
      },
      "execution_count": 36,
      "outputs": [
        {
          "output_type": "execute_result",
          "data": {
            "text/plain": [
              "CustomerID                       0\n",
              "DateOfIncident                   0\n",
              "TypeOfIncident                   0\n",
              "TypeOfCollission              1763\n",
              "SeverityOfIncident               0\n",
              "AuthoritiesContacted             0\n",
              "IncidentState                    0\n",
              "IncidentCity                     0\n",
              "IncidentAddress                  0\n",
              "IncidentTime                     7\n",
              "NumberOfVehicles                 0\n",
              "PropertyDamage                3199\n",
              "BodilyInjuries                   0\n",
              "Witnesses                       12\n",
              "PoliceReport                  3014\n",
              "AmountOfTotalClaim               8\n",
              "AmountOfInjuryClaim              0\n",
              "AmountOfPropertyClaim            0\n",
              "AmountOfVehicleDamage            0\n",
              "InsuredAge                       0\n",
              "InsuredZipCode                   0\n",
              "InsuredGender                    8\n",
              "InsuredEducationLevel            0\n",
              "InsuredOccupation                0\n",
              "InsuredHobbies                   0\n",
              "CapitalGains                     0\n",
              "CapitalLoss                      0\n",
              "Country                          4\n",
              "InsurancePolicyNumber            0\n",
              "CustomerLoyaltyPeriod            0\n",
              "DateOfPolicyCoverage             0\n",
              "InsurancePolicyState             0\n",
              "Policy_CombinedSingleLimit       0\n",
              "Policy_Deductible                0\n",
              "PolicyAnnualPremium             47\n",
              "UmbrellaLimit                    0\n",
              "InsuredRelationship              0\n",
              "VehicleID                        0\n",
              "VehicleMake                      8\n",
              "VehicleModel                     0\n",
              "VehicleYOM                       0\n",
              "dtype: int64"
            ]
          },
          "metadata": {},
          "execution_count": 36
        }
      ]
    },
    {
      "cell_type": "code",
      "source": [
        "test['TypeOfCollission'].fillna(test['TypeOfCollission'].mode()[0],inplace=True)\n",
        "test['AmountOfTotalClaim'].fillna(test['AmountOfTotalClaim'].median(),inplace=True)\n",
        "test['IncidentTime'].fillna(test['IncidentTime'].median(),inplace=True)\n",
        "test['Witnesses'].fillna(test['Witnesses'].mode()[0],inplace=True)\n",
        "test['InsuredGender'].fillna(test['InsuredGender'].mode()[0],inplace=True)\n",
        "test['Country'].fillna(test['Country'].mode()[0],inplace=True)\n",
        "test['PolicyAnnualPremium'].fillna(test['PolicyAnnualPremium'].mean(),inplace=True)\n",
        "test['VehicleMake'].fillna(test['VehicleMake'].mode()[0],inplace=True)\n",
        "test['PoliceReport'].fillna(test['PoliceReport'].mode()[0],inplace=True)\n"
      ],
      "metadata": {
        "id": "gcTkbr7qgol8"
      },
      "execution_count": 37,
      "outputs": []
    },
    {
      "cell_type": "code",
      "source": [
        "test['AmountOfTotalClaim'] = test['AmountOfTotalClaim'].astype('int')"
      ],
      "metadata": {
        "id": "lTYsXbyrgwn-"
      },
      "execution_count": 38,
      "outputs": []
    },
    {
      "cell_type": "code",
      "source": [
        "test=test.drop(columns=['PropertyDamage','InsuredRelationship','DateOfIncident','IncidentAddress','DateOfPolicyCoverage','IncidentCity','IncidentState','InsuredHobbies','Country','InsuredZipCode'])"
      ],
      "metadata": {
        "id": "e6phFi_xhNHt"
      },
      "execution_count": 39,
      "outputs": []
    },
    {
      "cell_type": "code",
      "source": [
        "cat_col1=['TypeOfIncident','TypeOfCollission','SeverityOfIncident','AuthoritiesContacted',\n",
        "                        \n",
        "          'PoliceReport','InsuredGender','InsuredEducationLevel','InsuredOccupation',\n",
        "          'InsurancePolicyState','Policy_CombinedSingleLimit',        \n",
        "          'VehicleID','VehicleMake','VehicleModel','VehicleYOM']\n",
        "from sklearn.preprocessing import LabelEncoder\n",
        "le1 = LabelEncoder()\n",
        "\n",
        "for col1 in cat_col1:\n",
        "    test[col1]= le1.fit_transform(test[col1]) "
      ],
      "metadata": {
        "id": "vQ0mpFlrg9H1"
      },
      "execution_count": 40,
      "outputs": []
    },
    {
      "cell_type": "code",
      "source": [
        "custid=test['CustomerID']\n",
        "test.drop(['CustomerID'],axis=1,inplace=True)"
      ],
      "metadata": {
        "id": "I08JN_NihxeX"
      },
      "execution_count": 41,
      "outputs": []
    },
    {
      "cell_type": "code",
      "source": [
        "from sklearn.preprocessing import MinMaxScaler\n",
        "min_max=MinMaxScaler()\n",
        "test_scaled=pd.DataFrame(min_max.fit_transform(test))"
      ],
      "metadata": {
        "id": "8Pri4o_ghhBm"
      },
      "execution_count": 52,
      "outputs": []
    },
    {
      "cell_type": "code",
      "source": [
        "print(master.shape)\n",
        "print(test.shape)"
      ],
      "metadata": {
        "id": "9nJc8hclhYNy"
      },
      "execution_count": null,
      "outputs": []
    },
    {
      "cell_type": "code",
      "source": [
        "master.drop(['CapitalLoss'],axis=1,inplace=True)"
      ],
      "metadata": {
        "id": "V_H42VUGhfjV"
      },
      "execution_count": null,
      "outputs": []
    },
    {
      "cell_type": "code",
      "source": [
        "print(master.shape)\n",
        "print(test.shape)"
      ],
      "metadata": {
        "colab": {
          "base_uri": "https://localhost:8080/"
        },
        "id": "ADd7AMc6izOj",
        "outputId": "3983ff0e-27bf-4391-9091-3b4056f8fef5"
      },
      "execution_count": 47,
      "outputs": [
        {
          "output_type": "stream",
          "name": "stdout",
          "text": [
            "(28836, 31)\n",
            "(8912, 30)\n"
          ]
        }
      ]
    },
    {
      "cell_type": "code",
      "source": [
        "x=master.drop('ReportedFraud',axis=1)\n",
        "y=master['ReportedFraud']\n",
        "x.shape"
      ],
      "metadata": {
        "colab": {
          "base_uri": "https://localhost:8080/"
        },
        "id": "qpgkW35mk0py",
        "outputId": "f494ef59-6b4e-485c-e5f6-4f40d77cd9be"
      },
      "execution_count": 45,
      "outputs": [
        {
          "output_type": "execute_result",
          "data": {
            "text/plain": [
              "(28836, 30)"
            ]
          },
          "metadata": {},
          "execution_count": 45
        }
      ]
    },
    {
      "cell_type": "code",
      "source": [
        "x"
      ],
      "metadata": {
        "id": "K4W4TsguwI6c"
      },
      "execution_count": null,
      "outputs": []
    },
    {
      "cell_type": "code",
      "source": [
        "print(master.shape)\n",
        "print(test.shape)"
      ],
      "metadata": {
        "colab": {
          "base_uri": "https://localhost:8080/"
        },
        "id": "BV2_ot9tlAl8",
        "outputId": "6403ca72-b9a4-4e93-de11-756950a95f76"
      },
      "execution_count": 46,
      "outputs": [
        {
          "output_type": "stream",
          "name": "stdout",
          "text": [
            "(28836, 31)\n",
            "(8912, 30)\n"
          ]
        }
      ]
    },
    {
      "cell_type": "code",
      "source": [
        "##from sklearn.linear_model import LogisticRegression\n",
        "#logis=LogisticRegression()\n",
        "#logis.fit(x,y)"
      ],
      "metadata": {
        "colab": {
          "base_uri": "https://localhost:8080/"
        },
        "id": "8ATYW46pjGbP",
        "outputId": "e391bb98-aff3-4904-98d6-7dbc03cb821d"
      },
      "execution_count": null,
      "outputs": [
        {
          "output_type": "stream",
          "name": "stderr",
          "text": [
            "/usr/local/lib/python3.7/dist-packages/sklearn/linear_model/_logistic.py:818: ConvergenceWarning: lbfgs failed to converge (status=1):\n",
            "STOP: TOTAL NO. of ITERATIONS REACHED LIMIT.\n",
            "\n",
            "Increase the number of iterations (max_iter) or scale the data as shown in:\n",
            "    https://scikit-learn.org/stable/modules/preprocessing.html\n",
            "Please also refer to the documentation for alternative solver options:\n",
            "    https://scikit-learn.org/stable/modules/linear_model.html#logistic-regression\n",
            "  extra_warning_msg=_LOGISTIC_SOLVER_CONVERGENCE_MSG,\n"
          ]
        },
        {
          "output_type": "execute_result",
          "data": {
            "text/plain": [
              "LogisticRegression()"
            ]
          },
          "metadata": {},
          "execution_count": 56
        }
      ]
    },
    {
      "cell_type": "code",
      "source": [
        "#from sklearn.model_selection import train_test_split\n",
        "#x_train,x_test,y_train,y_test=train_test_split(x,y,test_size=0.25,random_state=42)"
      ],
      "metadata": {
        "id": "w-ECAFLK7rz8"
      },
      "execution_count": null,
      "outputs": []
    },
    {
      "cell_type": "code",
      "source": [],
      "metadata": {
        "id": "C5BZjWCC7sFr"
      },
      "execution_count": null,
      "outputs": []
    },
    {
      "cell_type": "code",
      "source": [],
      "metadata": {
        "id": "pddrlAFC7sJK"
      },
      "execution_count": null,
      "outputs": []
    },
    {
      "cell_type": "code",
      "source": [
        "from sklearn.ensemble import RandomForestClassifier\n",
        "rf=RandomForestClassifier(n_estimators=100,criterion='entropy',min_samples_split=2, )\n",
        "rf.fit(train_scaled,y)"
      ],
      "metadata": {
        "colab": {
          "base_uri": "https://localhost:8080/"
        },
        "id": "raMHzSBKkcpj",
        "outputId": "665e03ae-190f-4f75-855f-6e81196b2034"
      },
      "execution_count": 71,
      "outputs": [
        {
          "output_type": "execute_result",
          "data": {
            "text/plain": [
              "RandomForestClassifier(criterion='entropy', n_estimators=150)"
            ]
          },
          "metadata": {},
          "execution_count": 71
        }
      ]
    },
    {
      "cell_type": "code",
      "source": [
        "y_pred=rf.predict(test_scaled)\n"
      ],
      "metadata": {
        "id": "gQFfC77xlKiA"
      },
      "execution_count": 72,
      "outputs": []
    },
    {
      "cell_type": "code",
      "source": [
        "y_pred"
      ],
      "metadata": {
        "colab": {
          "base_uri": "https://localhost:8080/"
        },
        "id": "_mc1BJd4qbXx",
        "outputId": "b0fc9760-992c-4426-d526-043aa943f099"
      },
      "execution_count": 73,
      "outputs": [
        {
          "output_type": "execute_result",
          "data": {
            "text/plain": [
              "array([0, 0, 0, ..., 0, 0, 0])"
            ]
          },
          "metadata": {},
          "execution_count": 73
        }
      ]
    },
    {
      "cell_type": "code",
      "source": [
        "1 in y_pred"
      ],
      "metadata": {
        "colab": {
          "base_uri": "https://localhost:8080/"
        },
        "id": "j3iV-y2AqgKV",
        "outputId": "2052a285-df10-4aaa-e514-8fdb99f4eb17"
      },
      "execution_count": 74,
      "outputs": [
        {
          "output_type": "execute_result",
          "data": {
            "text/plain": [
              "True"
            ]
          },
          "metadata": {},
          "execution_count": 74
        }
      ]
    },
    {
      "cell_type": "code",
      "source": [
        "cor=np.bincount(y_pred)\n",
        "print(cor[0])\n",
        "print(cor[1])"
      ],
      "metadata": {
        "colab": {
          "base_uri": "https://localhost:8080/"
        },
        "id": "9TSb9_j5qlsj",
        "outputId": "f2c2a8cb-7298-43af-85a7-9a2f9576c40e"
      },
      "execution_count": 75,
      "outputs": [
        {
          "output_type": "stream",
          "name": "stdout",
          "text": [
            "7528\n",
            "1384\n"
          ]
        }
      ]
    },
    {
      "cell_type": "code",
      "source": [
        "result=pd.DataFrame({'CustomerID':custid,'ReportedFraud':y_pred})\n"
      ],
      "metadata": {
        "id": "67jxfh_AqsPQ"
      },
      "execution_count": 69,
      "outputs": []
    },
    {
      "cell_type": "code",
      "source": [
        "result.to_csv('barath_8.csv',index=False)"
      ],
      "metadata": {
        "id": "bhJbvjtexieR"
      },
      "execution_count": 70,
      "outputs": []
    },
    {
      "cell_type": "code",
      "source": [
        "from sklearn.metrics import accuracy_score,classification_report"
      ],
      "metadata": {
        "id": "2TRAqqz0x-61"
      },
      "execution_count": null,
      "outputs": []
    },
    {
      "cell_type": "code",
      "source": [
        "#print(classification_report(y_pred,y_test))"
      ],
      "metadata": {
        "colab": {
          "base_uri": "https://localhost:8080/"
        },
        "id": "EBJnIlyj-Vza",
        "outputId": "79f47ea1-3d76-4584-c13b-a33d5a566178"
      },
      "execution_count": null,
      "outputs": [
        {
          "output_type": "stream",
          "name": "stdout",
          "text": [
            "              precision    recall  f1-score   support\n",
            "\n",
            "           0       0.98      0.93      0.95      5561\n",
            "           1       0.80      0.92      0.86      1648\n",
            "\n",
            "    accuracy                           0.93      7209\n",
            "   macro avg       0.89      0.93      0.90      7209\n",
            "weighted avg       0.94      0.93      0.93      7209\n",
            "\n"
          ]
        }
      ]
    },
    {
      "cell_type": "code",
      "source": [],
      "metadata": {
        "id": "FLaUypdR-XA7"
      },
      "execution_count": null,
      "outputs": []
    }
  ]
}