{
  "cells": [
    {
      "cell_type": "markdown",
      "metadata": {
        "id": "view-in-github",
        "colab_type": "text"
      },
      "source": [
        "<a href=\"https://colab.research.google.com/github/barathturing/final-hack/blob/main/final_new.ipynb\" target=\"_parent\"><img src=\"https://colab.research.google.com/assets/colab-badge.svg\" alt=\"Open In Colab\"/></a>"
      ]
    },
    {
      "cell_type": "markdown",
      "metadata": {
        "id": "J08saFt0U0iG"
      },
      "source": [
        "# missing data representation in their given details\n",
        "• InsuredGender : **Gender** - the missing value is represented as **“NA”**\n",
        "\n",
        "---\n",
        "\n",
        "• PolicyAnnualPremium : **Annual Premium**– the missing value is represented as ***“-1”***\n",
        "\n",
        "---\n",
        "\n",
        "• TotalCharges :**Customer account information** (Total). ( For this attribute, \n",
        "missing values are denoted as **“MISSINGVAL”** also)\n",
        "\n",
        "---\n",
        "\n",
        "• ContractType :**Contract type** ( For this attribute, missing values are \n",
        "denoted as **“NA”**)\n",
        "\n",
        "---\n",
        "\n",
        "• TypeOfCollission :**Type of Collision** -**“?”** is the \n",
        "missing value\n",
        "\n",
        "---\n",
        "\n",
        "• IncidentTime : **time of incident** – Hour of the day - the missing value is represented\n",
        "as **“-5”**\n",
        "\n",
        "---\n",
        "\n",
        "• PropertyDamage :**If property damage**  is there -**“?** is the missing value\n",
        "\n",
        "---\n",
        "\n",
        "• Witnesses :**Number of witnesses** - missing value is \n",
        "represented as \n",
        "**\"MISSINGVALUE\"**\n",
        "\n",
        "---\n",
        "\n",
        "• PoliceReport : If **police report** available -**“?”** is the missing value\n",
        "\n",
        "---\n",
        "\n",
        "• AmountOfTotalClaim : **Total claim amount** - the missing value is represented as\n",
        "**“MISSEDDATA”**\n",
        "\n",
        "---\n",
        "\n",
        "• VehicleAttributeDetails : **Value of the vehicle** attribute - the missing value is \n",
        "represented as **“???”**\n",
        "\n",
        "\n",
        "\n"
      ]
    },
    {
      "cell_type": "code",
      "execution_count": 1,
      "metadata": {
        "id": "19rlk3NrrUUH"
      },
      "outputs": [],
      "source": [
        "import pandas as pd\n",
        "import numpy as np\n",
        "import matplotlib.pyplot as plt\n",
        "import seaborn as sns\n",
        "import plotly.express as px\n",
        "import warnings\n",
        "warnings.filterwarnings('ignore')"
      ]
    },
    {
      "cell_type": "code",
      "execution_count": 2,
      "metadata": {
        "colab": {
          "base_uri": "https://localhost:8080/"
        },
        "id": "IPBQ16iI-OvN",
        "outputId": "89cc54b8-e71b-4e54-c146-d2c91a0e6921"
      },
      "outputs": [
        {
          "output_type": "stream",
          "name": "stdout",
          "text": [
            "Mounted at /content/drive\n"
          ]
        }
      ],
      "source": [
        "from google.colab import drive\n",
        "drive.mount('/content/drive')"
      ]
    },
    {
      "cell_type": "code",
      "execution_count": 3,
      "metadata": {
        "id": "8ZJyGjqu_Gkv"
      },
      "outputs": [],
      "source": [
        "#Reading files using pandas\n",
        "df1=pd.read_csv(\"/content/drive/MyDrive/TrainData/Train_Claim.csv\")\n",
        "df2=pd.read_csv(\"/content/drive/MyDrive/TrainData/Train_Demographics.csv\")\n",
        "df3=pd.read_csv(\"/content/drive/MyDrive/TrainData/Train_Policy.csv\")\n",
        "df4=pd.read_csv(\"/content/drive/MyDrive/TrainData/Train_Vehicle_new.csv\")\n",
        "df5=pd.read_csv(\"/content/drive/MyDrive/TrainData/Traindata_with_Target.csv\")"
      ]
    },
    {
      "cell_type": "code",
      "execution_count": null,
      "metadata": {
        "id": "j4tR_pjWFrkK"
      },
      "outputs": [],
      "source": [
        "#checking shape of each datasets\n",
        "print(\"df1:\",df1.shape)\n",
        "print(\"df2:\",df2.shape)\n",
        "print(\"df3:\",df3.shape)\n",
        "print(\"df4:\",df4.shape)\n",
        "print(\"df5:\",df5.shape)"
      ]
    },
    {
      "cell_type": "code",
      "execution_count": 5,
      "metadata": {
        "id": "fwePQ4avGmDl"
      },
      "outputs": [],
      "source": [
        "#merging all datasets based on \"CstomerID\"\n",
        "sample_1=pd.merge(df1,df2)\n",
        "sample_2=pd.merge(sample_1,df3)\n",
        "sample_3=pd.merge(sample_2,df4)\n",
        "master=pd.merge(sample_3,df5)\n"
      ]
    },
    {
      "cell_type": "code",
      "execution_count": 6,
      "metadata": {
        "id": "VU4DR4NqLdie"
      },
      "outputs": [],
      "source": [
        "#to see all the columns setting max columnn is none \n",
        "pd.set_option('display.max_columns', None)"
      ]
    },
    {
      "cell_type": "code",
      "execution_count": null,
      "metadata": {
        "id": "B1pHO_fmG3nX"
      },
      "outputs": [],
      "source": [
        "master.head(10)"
      ]
    },
    {
      "cell_type": "code",
      "execution_count": null,
      "metadata": {
        "id": "A7OWazJKl8wg"
      },
      "outputs": [],
      "source": [
        "master.shape"
      ]
    },
    {
      "cell_type": "code",
      "execution_count": 9,
      "metadata": {
        "id": "oSPXhDRJmBWz"
      },
      "outputs": [],
      "source": [
        "master.to_csv('master.csv')"
      ]
    },
    {
      "cell_type": "code",
      "execution_count": null,
      "metadata": {
        "id": "WZ-FwtWLOsvd"
      },
      "outputs": [],
      "source": [
        "NA=master.loc[master['PolicyAnnualPremium'] ==-1]\n",
        "NA"
      ]
    },
    {
      "cell_type": "code",
      "source": [
        "master.loc[master[\"IncidentTime\"]==-5]"
      ],
      "metadata": {
        "id": "BcRL0tUrsA1K"
      },
      "execution_count": null,
      "outputs": []
    },
    {
      "cell_type": "code",
      "source": [
        "master.loc[master[\"Witnesses\"]==\"MISSINGVALUE\"]"
      ],
      "metadata": {
        "id": "h8uNHlHgf_3-"
      },
      "execution_count": null,
      "outputs": []
    },
    {
      "cell_type": "code",
      "execution_count": 13,
      "metadata": {
        "id": "9puT7ixLTRIF"
      },
      "outputs": [],
      "source": [
        "# we can see some missing values denoted by '?' so  replace missing values with np.nan\n",
        "\n",
        "master.replace('MISSINGVALUE', np.nan, inplace = True)\n",
        "\n"
      ]
    },
    {
      "cell_type": "code",
      "source": [
        "# we can see some missing values denoted by '?' so  replace missing values with np.nan\n",
        "\n",
        "master.replace('?', np.nan, inplace = True)"
      ],
      "metadata": {
        "id": "yk1Q1wRxgXEc"
      },
      "execution_count": 14,
      "outputs": []
    },
    {
      "cell_type": "code",
      "execution_count": null,
      "metadata": {
        "id": "br9TCh16LbyQ"
      },
      "outputs": [],
      "source": [
        "#checking null values before changeing cat to num it showes 0 everythink false\n",
        "master.isnull().sum()"
      ]
    },
    {
      "cell_type": "code",
      "execution_count": null,
      "metadata": {
        "id": "yp_EJrP5N2HS"
      },
      "outputs": [],
      "source": [
        "#no of coluns with unique values\n",
        "print('columns and number of unique values')\n",
        "dict=[]\n",
        "for i in master.columns:\n",
        "    print(f'{i} ---> {master[i].unique()}')"
      ]
    },
    {
      "cell_type": "code",
      "source": [
        "for col in master.columns:\n",
        "  print(col,':',len(master[col].unique()),'labels')"
      ],
      "metadata": {
        "id": "BKSUY0E6-O9D"
      },
      "execution_count": null,
      "outputs": []
    },
    {
      "cell_type": "code",
      "execution_count": 18,
      "metadata": {
        "id": "WDIQ9MJKjxHa"
      },
      "outputs": [],
      "source": [
        "# Making a list of missing value types\n",
        "missing_values = [\"MISSEDDATA\",\"NA\",\"?\",\"MISSINGVALUE\",\"???\",-5,\"MISSINGVAL\",-1,\"N/A\",\"na\"]\n"
      ]
    },
    {
      "cell_type": "code",
      "source": [
        "#we create one missing values list by using that if that comes in any place we replace it with nan\n",
        "for column in master.columns:\n",
        "    for missing in missing_values:\n",
        "        master[column] = np.where(master[column]==missing, np.NaN, master[column])"
      ],
      "metadata": {
        "id": "BMya8eSmV95x"
      },
      "execution_count": 19,
      "outputs": []
    },
    {
      "cell_type": "code",
      "source": [
        "#no of coluns with unique values\n",
        "print('columns and number of unique values')\n",
        "dict=[]\n",
        "for i in master.columns:\n",
        "    print(f'{i} ---> {master[i].unique()}')"
      ],
      "metadata": {
        "id": "ED-misyYWN5W"
      },
      "execution_count": null,
      "outputs": []
    },
    {
      "cell_type": "code",
      "source": [
        "#uniq values counts\n",
        "for col in master.columns:\n",
        "  print(col,':',len(master[col].unique()),'labels')"
      ],
      "metadata": {
        "id": "zQ7c7LFPjAAC"
      },
      "execution_count": null,
      "outputs": []
    },
    {
      "cell_type": "code",
      "source": [
        "master.info()"
      ],
      "metadata": {
        "id": "_XJKykt6WgR3"
      },
      "execution_count": null,
      "outputs": []
    },
    {
      "cell_type": "code",
      "execution_count": null,
      "metadata": {
        "id": "UsKZXZT-J7T9"
      },
      "outputs": [],
      "source": [
        "master.isnull().sum()"
      ]
    },
    {
      "cell_type": "markdown",
      "source": [
        "# **Imputing missing values separately for both numeric and catogorical**"
      ],
      "metadata": {
        "id": "x8S-XJ4a23XL"
      }
    },
    {
      "cell_type": "code",
      "source": [
        "##  Replace NAN values with most occured category in TypeOfCollission\n",
        "Mode_Category = master[\"TypeOfCollission\"].mode()[0]\n",
        "master[\"TypeOfCollission\"].fillna(Mode_Category,inplace=True)"
      ],
      "metadata": {
        "id": "Tr81_43lxB7U"
      },
      "execution_count": 22,
      "outputs": []
    },
    {
      "cell_type": "code",
      "source": [
        "##  Replace NAN values with median in IncidentTime\n",
        "median=master['IncidentTime'].median()\n",
        "master['IncidentTime'].fillna(median,inplace=True)"
      ],
      "metadata": {
        "id": "i6Fn9z290j7Q"
      },
      "execution_count": 23,
      "outputs": []
    },
    {
      "cell_type": "code",
      "source": [
        "#drop huge no of missing value data \n",
        "master.drop(['PropertyDamage','Country'],axis=1,inplace=True)"
      ],
      "metadata": {
        "id": "S3Bsu7eT3Khl"
      },
      "execution_count": 24,
      "outputs": []
    },
    {
      "cell_type": "code",
      "source": [
        "##  Replace NAN values with median  in witness\n",
        "median_1=master['Witnesses'].median()\n",
        "master['Witnesses'].fillna(median_1,inplace=True)"
      ],
      "metadata": {
        "id": "645-jVdy4Gv2"
      },
      "execution_count": 25,
      "outputs": []
    },
    {
      "cell_type": "code",
      "source": [
        "##  Replace NAN values with most occured category in police report\n",
        "Mode_Category_1 = master[\"PoliceReport\"].mode()[0]\n",
        "master[\"PoliceReport\"].fillna(Mode_Category_1,inplace=True)"
      ],
      "metadata": {
        "id": "Tjs_cpGb4q3X"
      },
      "execution_count": 26,
      "outputs": []
    },
    {
      "cell_type": "code",
      "source": [
        "###  Replace NAN values with median in AmountOfTotalClaim\n",
        "median_2=master['AmountOfTotalClaim'].median()\n",
        "master['AmountOfTotalClaim'].fillna(median_2,inplace=True)"
      ],
      "metadata": {
        "id": "VeLo-hf65fZH"
      },
      "execution_count": 27,
      "outputs": []
    },
    {
      "cell_type": "code",
      "source": [
        "##  Replace NAN values with most occured category in gender\n",
        "Mode_Category_2 = master[\"InsuredGender\"].mode()[0]\n",
        "master[\"InsuredGender\"].fillna(Mode_Category_2,inplace=True)"
      ],
      "metadata": {
        "id": "TTqCB4uF55qR"
      },
      "execution_count": 28,
      "outputs": []
    },
    {
      "cell_type": "code",
      "source": [
        "master.drop(['CustomerID','VehicleID','InsurancePolicyNumber'],axis=1,inplace=True)"
      ],
      "metadata": {
        "id": "YhjMrBxaOJgv"
      },
      "execution_count": 29,
      "outputs": []
    },
    {
      "cell_type": "code",
      "source": [
        "###  Replace NAN values with median in PolicyAnnualPremium \n",
        "median_3=master['PolicyAnnualPremium'].median()\n",
        "master['PolicyAnnualPremium'].fillna(median_3,inplace=True)"
      ],
      "metadata": {
        "id": "5gcxVDdK7EIk"
      },
      "execution_count": 30,
      "outputs": []
    },
    {
      "cell_type": "code",
      "source": [
        "##  Replace NAN values with most occured category in VehicleMake\n",
        "Mode_Category_3 = master[\"VehicleMake\"].mode()[0]\n",
        "master[\"VehicleMake\"].fillna(Mode_Category_3,inplace=True)"
      ],
      "metadata": {
        "id": "0tH020mn-T_q"
      },
      "execution_count": 31,
      "outputs": []
    },
    {
      "cell_type": "code",
      "source": [
        "master.isnull().sum().any().any()"
      ],
      "metadata": {
        "colab": {
          "base_uri": "https://localhost:8080/"
        },
        "id": "xxpK2szC_jmg",
        "outputId": "1c8c7989-e24a-4bd2-a636-a0f7a569189e"
      },
      "execution_count": 32,
      "outputs": [
        {
          "output_type": "execute_result",
          "data": {
            "text/plain": [
              "False"
            ]
          },
          "metadata": {},
          "execution_count": 32
        }
      ]
    },
    {
      "cell_type": "code",
      "source": [
        "#we import missingno library it is helpful to show missing values in data frame\n",
        "import missingno as msno\n",
        "\n",
        "msno.bar(master)\n",
        "plt.show()"
      ],
      "metadata": {
        "id": "oSQYsawQC3ZP"
      },
      "execution_count": null,
      "outputs": []
    },
    {
      "cell_type": "code",
      "source": [
        "# generating pairwise correlation\n",
        "corr = master.corr()"
      ],
      "metadata": {
        "id": "9EQYkAgrjVok"
      },
      "execution_count": 34,
      "outputs": []
    },
    {
      "cell_type": "code",
      "source": [
        "# Displaying dataframe as an heatmap \n",
        "# with diverging colourmap as coolwarm\n",
        "corr.style.background_gradient(cmap ='coolwarm')"
      ],
      "metadata": {
        "id": "i2KX0WzMkJHK"
      },
      "execution_count": null,
      "outputs": []
    },
    {
      "cell_type": "code",
      "source": [
        "sns.heatmap(corr, annot = False)"
      ],
      "metadata": {
        "id": "TQ1gcrRGktdr"
      },
      "execution_count": null,
      "outputs": []
    },
    {
      "cell_type": "code",
      "source": [
        "  # chnging  figsize in inches\n",
        "fig, ax = plt.subplots(figsize=(15,10))      \n",
        "sns.heatmap(corr, annot=True, linewidths=.5, ax=ax)"
      ],
      "metadata": {
        "id": "1aREMRrElbM8"
      },
      "execution_count": null,
      "outputs": []
    },
    {
      "cell_type": "code",
      "source": [
        "#pie chart for frauad or not\n",
        "from matplotlib import pyplot as plt\n",
        "plt.figure(figsize=(10,8))\n",
        "plt.pie(master.ReportedFraud.value_counts().values,labels=master.ReportedFraud.value_counts().index,  autopct='%.0f%%')\n",
        "plt.title(\"ReportedFraud\")\n",
        "plt.show()"
      ],
      "metadata": {
        "id": "zh4Hur_wh_23"
      },
      "execution_count": null,
      "outputs": []
    },
    {
      "cell_type": "code",
      "execution_count": null,
      "metadata": {
        "id": "f52yWau0OXrm"
      },
      "outputs": [],
      "source": [
        "#catogorical columns \n",
        "categorical_columns = master.select_dtypes(include=['object']).columns\n",
        "categorical_columns"
      ]
    },
    {
      "cell_type": "code",
      "source": [
        "sns.barplot('InsuredAge','ReportedFraud',hue='ReportedFraud',data=master)"
      ],
      "metadata": {
        "id": "hCgqqwB9V74k"
      },
      "execution_count": null,
      "outputs": []
    },
    {
      "cell_type": "code",
      "execution_count": null,
      "metadata": {
        "id": "Q0PXEoQdSDSI"
      },
      "outputs": [],
      "source": [
        "master.info()"
      ]
    },
    {
      "cell_type": "code",
      "source": [
        "master.head()\n"
      ],
      "metadata": {
        "id": "Dr5WYiBJqLAT"
      },
      "execution_count": null,
      "outputs": []
    },
    {
      "cell_type": "code",
      "source": [
        "master.shape"
      ],
      "metadata": {
        "id": "4PIuxGVLW_3u"
      },
      "execution_count": null,
      "outputs": []
    },
    {
      "cell_type": "code",
      "source": [
        "master.describe()"
      ],
      "metadata": {
        "id": "nwDHRTXGXTi6"
      },
      "execution_count": null,
      "outputs": []
    },
    {
      "cell_type": "code",
      "execution_count": null,
      "metadata": {
        "id": "F6R5uMjoOt40"
      },
      "outputs": [],
      "source": [
        "master.dtypes"
      ]
    },
    {
      "cell_type": "code",
      "execution_count": null,
      "metadata": {
        "id": "-F5au_TpILml"
      },
      "outputs": [],
      "source": [
        "#remove duplicate data\n",
        "master.drop_duplicates()"
      ]
    },
    {
      "cell_type": "code",
      "source": [],
      "metadata": {
        "id": "-VHzl50tNHU4"
      },
      "execution_count": null,
      "outputs": []
    },
    {
      "cell_type": "markdown",
      "source": [
        "## **catogorical to numerical**"
      ],
      "metadata": {
        "id": "N2EgVdRCOPcg"
      }
    },
    {
      "cell_type": "code",
      "source": [
        "#catogoorical feature in gender\n",
        "master['InsuredGender']=master['InsuredGender'].map({'FEMALE':0,'MALE':1})"
      ],
      "metadata": {
        "id": "AG5cVi5KOVui"
      },
      "execution_count": 47,
      "outputs": []
    },
    {
      "cell_type": "code",
      "source": [
        "#InsuredEducationLevel ---> ['JD-5' 'High School-1' 'Masters-4' 'MD-6' 'Associate-2' 'College-3' 'PhD'-7]\n",
        "master['InsuredEducationLevel']=master['InsuredEducationLevel'].map({'High School':1,'Associate':2,'College':3,'Masters':4,'JD':5,'MD':6,'PhD':7})"
      ],
      "metadata": {
        "id": "KTqEmQa_QUnN"
      },
      "execution_count": 48,
      "outputs": []
    },
    {
      "cell_type": "code",
      "source": [
        "#from date of incidenet we separate it into 3 diffrent columns like date,month,year\n",
        "master['year']=master['DateOfIncident'].str.split('-').str[0]\n",
        "master['month']=master['DateOfIncident'].str.split('-').str[1]\n",
        "master['date']=master['DateOfIncident'].str.split('-').str[2]\n"
      ],
      "metadata": {
        "id": "vaEyEAUdrOo4"
      },
      "execution_count": 49,
      "outputs": []
    },
    {
      "cell_type": "code",
      "source": [
        "#after splitting drop that date of incident column because it not need\n",
        "master.drop('DateOfIncident',axis=1,inplace=True)"
      ],
      "metadata": {
        "id": "jnZd0eqtvSJF"
      },
      "execution_count": 50,
      "outputs": []
    },
    {
      "cell_type": "code",
      "source": [
        "#converting it into string to numrical\n",
        "master['year']=master['year'].astype(int)\n",
        "master['month']=master['month'].astype(int)\n",
        "master['date']=master['date'].astype(int)"
      ],
      "metadata": {
        "id": "2PbtNpXNuLX5"
      },
      "execution_count": 51,
      "outputs": []
    },
    {
      "cell_type": "code",
      "source": [
        "#TypeOfCollission ---> ['Side Collision' 'Rear Collision' 'Front Collision']\n",
        "master['TypeOfCollission']=master['TypeOfCollission'].map({'Side Collision':0,'Rear Collision':1,'Front Collision':2})"
      ],
      "metadata": {
        "id": "95dcDVH2wboS"
      },
      "execution_count": 52,
      "outputs": []
    },
    {
      "cell_type": "code",
      "source": [
        "#TypeOfIncident ---> ['Multi-vehicle Collision' 'Single Vehicle Collision' 'Parked Car' 'Vehicle Theft']\n",
        "master['TypeOfIncident']=master['TypeOfIncident'].map({'Multi-vehicle Collision':0,'Single Vehicle Collision':1,'Parked Car':2,'Vehicle Theft':3})"
      ],
      "metadata": {
        "id": "T5eaF53pxMBB"
      },
      "execution_count": 53,
      "outputs": []
    },
    {
      "cell_type": "code",
      "source": [
        "#SeverityOfIncident ---> ['Total Loss' 'Minor Damage' 'Major Damage' 'Trivial Damage']\n",
        "master['SeverityOfIncident']=master['SeverityOfIncident'].map({'Total Loss':0,'Minor Damage':1,'Major Damage':2,'Trivial Damage':3})"
      ],
      "metadata": {
        "id": "vBdZeV2qzKbs"
      },
      "execution_count": 54,
      "outputs": []
    },
    {
      "cell_type": "code",
      "source": [
        "#AuthoritiesContacted ---> ['Police' 'Other' 'Fire' 'Ambulance' 'None']\n",
        "master['AuthoritiesContacted']=master['AuthoritiesContacted'].map({'Police':0,'Other':1,'Fire':2,'Ambulance':3,'None':4})"
      ],
      "metadata": {
        "id": "vhSvIH6i0eUd"
      },
      "execution_count": 55,
      "outputs": []
    },
    {
      "cell_type": "code",
      "source": [
        "#InsurancePolicyState ---> ['State1' 'State3' 'State2']\n",
        "master['InsurancePolicyState']=master['InsurancePolicyState'].map({'State1':0,'State2':1,'State3':2})"
      ],
      "metadata": {
        "id": "UNlGfaZJ1b5E"
      },
      "execution_count": 56,
      "outputs": []
    },
    {
      "cell_type": "code",
      "source": [
        "#IncidentState ---> ['State7' 'State8' 'State9' 'State5' 'State6' 'State4' 'State3']\n",
        "master['IncidentState']=master['IncidentState'].map({'State3':0,'State4':1,'State5':2,'State6':3,'State7':4,'State8':5,'State9':6})"
      ],
      "metadata": {
        "id": "2MWCa6iZ2P3e"
      },
      "execution_count": 57,
      "outputs": []
    },
    {
      "cell_type": "code",
      "source": [
        "#IncidentCity ---> ['City1' 'City5' 'City6' 'City4' 'City3' 'City2' 'City7']\n",
        "master['IncidentCity']=master['IncidentCity'].map({'City1':0,'City2':1,'City3':2,'City4':3,'City5':4,'City6':5,'City7':6})"
      ],
      "metadata": {
        "id": "OqRh2pg83RNl"
      },
      "execution_count": 58,
      "outputs": []
    },
    {
      "cell_type": "code",
      "source": [
        "#drop incidentaddress that not need\n",
        "master.drop(['IncidentAddress'],axis=1,inplace=True)"
      ],
      "metadata": {
        "id": "g_5M0Fhd4b3r"
      },
      "execution_count": 59,
      "outputs": []
    },
    {
      "cell_type": "code",
      "source": [
        "#witness changing object to int\n",
        "master['Witnesses']=master['Witnesses'].astype(int)"
      ],
      "metadata": {
        "id": "QWzg6xus7T-N"
      },
      "execution_count": 60,
      "outputs": []
    },
    {
      "cell_type": "code",
      "source": [
        "#PoliceReport ---> ['NO' 'YES']\n",
        "master['PoliceReport']=master['PoliceReport'].map({'NO':0,'YES':1,})"
      ],
      "metadata": {
        "id": "zJu_2MnS8AGR"
      },
      "execution_count": 61,
      "outputs": []
    },
    {
      "cell_type": "code",
      "source": [
        "#amountofclaim changing object to int\n",
        "master['AmountOfTotalClaim']=master['AmountOfTotalClaim'].astype(int)"
      ],
      "metadata": {
        "id": "wHaagEcN8fWy"
      },
      "execution_count": 62,
      "outputs": []
    },
    {
      "cell_type": "code",
      "source": [
        "#InsuredOccupation ---> ['armed-forces' 'tech-support' 'exec-managerial' 'adm-clerical''handlers-cleaners' 'craft-repair' 'prof-specialty' 'other-service'\n",
        "# 'priv-house-serv' 'protective-serv' 'farming-fishing' 'sales''transport-moving' 'machine-op-inspct']\n",
        "master['InsuredOccupation']=master['InsuredOccupation'].map({'armed-forces':0,'tech-support':1,'exec-managerial':2,'adm-clerical':3,'handlers-cleaners':4,'craft-repair':5,'prof-specialty':6, 'other-service':7,'priv-house-serv':8, 'protective-serv':9,'farming-fishing':10,'sales':11,'transport-moving':12,'machine-op-inspct':13})\n"
      ],
      "metadata": {
        "id": "kwrSZTFeYhpK"
      },
      "execution_count": 63,
      "outputs": []
    },
    {
      "cell_type": "code",
      "source": [
        "#InsuredRelationship ---> ['not-in-family' 'wife' 'own-child' 'unmarried' 'husband' 'other-relative']\n",
        "master['InsuredRelationship']=master['InsuredRelationship'].map({'not-in-family':0,'wife':1,'own-child':2,'unmarried':3,'husband':4,'other-relative':5})"
      ],
      "metadata": {
        "id": "uH3TBfxRbXK-"
      },
      "execution_count": 64,
      "outputs": []
    },
    {
      "cell_type": "code",
      "source": [
        "#Policy_CombinedSingleLimit ---> ['100/300' '500/1000' '250/500' '250/1000' '500/300' '500/500' '100/500' '250/300' '100/1000']\n",
        "master['Policy_CombinedSingleLimit']=master['Policy_CombinedSingleLimit'].map({'100/300':0,'500/1000':1,'250/500':2,'250/1000':3,'500/300':4,'500/500':5,'100/500':6,'250/300':7,'100/1000':8})"
      ],
      "metadata": {
        "id": "jKkgJN4_hjGW"
      },
      "execution_count": 65,
      "outputs": []
    },
    {
      "cell_type": "code",
      "source": [
        "#insured hobbies catogorical to numerical\n",
        "from sklearn.preprocessing import LabelEncoder\n",
        "labelencoder=LabelEncoder()\n",
        "master['InsuredHobbies']=labelencoder.fit_transform(master['InsuredHobbies'])"
      ],
      "metadata": {
        "id": "T2bfJEo3zHCI"
      },
      "execution_count": 66,
      "outputs": []
    },
    {
      "cell_type": "code",
      "source": [
        "master['InsuredHobbies']=labelencoder.fit_transform(master['InsuredHobbies'])"
      ],
      "metadata": {
        "id": "ad0-k3qVz7m3"
      },
      "execution_count": 67,
      "outputs": []
    },
    {
      "cell_type": "code",
      "source": [
        "#for VehicleMake lebel encoding \n",
        "master['VehicleMake']=labelencoder.fit_transform(master['VehicleMake'])"
      ],
      "metadata": {
        "id": "16EHlAhe1FPr"
      },
      "execution_count": 68,
      "outputs": []
    },
    {
      "cell_type": "code",
      "source": [
        "#fovechile model also lebel encoding\n",
        "master['VehicleModel']=labelencoder.fit_transform(master['VehicleModel'])"
      ],
      "metadata": {
        "id": "5hVskW2K1gCX"
      },
      "execution_count": 69,
      "outputs": []
    },
    {
      "cell_type": "code",
      "source": [
        "#reported fraud catogorical to numerical ReportedFraud ---> ['N' 'Y']\n",
        "master['ReportedFraud']=master['ReportedFraud'].map({'N':0,'Y':1})"
      ],
      "metadata": {
        "id": "YqDvEFYQ2LF6"
      },
      "execution_count": 70,
      "outputs": []
    },
    {
      "cell_type": "code",
      "source": [
        "# drop date of policy coverage count \n",
        "master.drop(['DateOfPolicyCoverage'],axis=1,inplace=True)"
      ],
      "metadata": {
        "id": "o8TWQQI03Ws3"
      },
      "execution_count": 71,
      "outputs": []
    },
    {
      "cell_type": "code",
      "source": [
        "master.drop(['year','VehicleYOM'],axis=1,inplace=True)"
      ],
      "metadata": {
        "id": "yI95AZH9YR64"
      },
      "execution_count": 72,
      "outputs": []
    },
    {
      "cell_type": "code",
      "source": [
        "master['ReportedFraud'].unique()"
      ],
      "metadata": {
        "id": "FRCMBQFc6jXV"
      },
      "execution_count": null,
      "outputs": []
    },
    {
      "cell_type": "code",
      "source": [
        "master.shape"
      ],
      "metadata": {
        "id": "JLS6IdlbX33r"
      },
      "execution_count": null,
      "outputs": []
    },
    {
      "cell_type": "code",
      "source": [
        "master.head()"
      ],
      "metadata": {
        "id": "-KOwGGwnWtPx"
      },
      "execution_count": null,
      "outputs": []
    },
    {
      "cell_type": "markdown",
      "source": [
        "## **Creating ml model**"
      ],
      "metadata": {
        "id": "8l3YVk6AQFwG"
      }
    },
    {
      "cell_type": "code",
      "source": [
        "x=master.drop(['ReportedFraud'],axis=1)"
      ],
      "metadata": {
        "id": "oF2aTs0L4AAN"
      },
      "execution_count": 75,
      "outputs": []
    },
    {
      "cell_type": "code",
      "source": [
        "x.shape"
      ],
      "metadata": {
        "colab": {
          "base_uri": "https://localhost:8080/"
        },
        "id": "oH6YmFjMQVJS",
        "outputId": "ac27e110-cc22-4240-c157-e3d8a8d504bf"
      },
      "execution_count": 76,
      "outputs": [
        {
          "output_type": "execute_result",
          "data": {
            "text/plain": [
              "(28836, 34)"
            ]
          },
          "metadata": {},
          "execution_count": 76
        }
      ]
    },
    {
      "cell_type": "code",
      "source": [
        "y=master['ReportedFraud']"
      ],
      "metadata": {
        "id": "RSKcRyOrQcL3"
      },
      "execution_count": 77,
      "outputs": []
    },
    {
      "cell_type": "code",
      "source": [
        "y.shape"
      ],
      "metadata": {
        "colab": {
          "base_uri": "https://localhost:8080/"
        },
        "id": "ulTcI8o0QjL6",
        "outputId": "4f1c447d-f2a2-4c15-a014-ad434a396428"
      },
      "execution_count": 78,
      "outputs": [
        {
          "output_type": "execute_result",
          "data": {
            "text/plain": [
              "(28836,)"
            ]
          },
          "metadata": {},
          "execution_count": 78
        }
      ]
    },
    {
      "cell_type": "code",
      "source": [
        "#fitting logistic regression\n",
        "from sklearn.linear_model import LogisticRegression\n",
        "logis=LogisticRegression(max_iter=3600,penalty='l2')"
      ],
      "metadata": {
        "id": "0qtt-huAQmFa"
      },
      "execution_count": null,
      "outputs": []
    },
    {
      "cell_type": "code",
      "source": [
        "#knn classifier\n",
        "from sklearn.neighbors import KNeighborsClassifier\n",
        "knn=KNeighborsClassifier()"
      ],
      "metadata": {
        "id": "gPF3oVbZshHS"
      },
      "execution_count": 79,
      "outputs": []
    },
    {
      "cell_type": "code",
      "source": [
        "#decision tree\n",
        "from sklearn.tree import DecisionTreeClassifier\n",
        "tree_clf = DecisionTreeClassifier(max_depth=2, random_state=42)"
      ],
      "metadata": {
        "id": "ay8uZfZ-upZG"
      },
      "execution_count": 97,
      "outputs": []
    },
    {
      "cell_type": "code",
      "source": [
        "logis.fit(x,y)"
      ],
      "metadata": {
        "id": "p6CVluhAQxAr"
      },
      "execution_count": null,
      "outputs": []
    },
    {
      "cell_type": "code",
      "source": [
        "knn.fit(x,y)"
      ],
      "metadata": {
        "id": "mibO_vXysmI-"
      },
      "execution_count": null,
      "outputs": []
    },
    {
      "cell_type": "code",
      "source": [
        "tree_clf.fit(x,y)"
      ],
      "metadata": {
        "colab": {
          "base_uri": "https://localhost:8080/"
        },
        "id": "FpRMhFdWu7g0",
        "outputId": "7923e48a-14d7-4b32-9381-6b4eb7fc5d63"
      },
      "execution_count": 98,
      "outputs": [
        {
          "output_type": "execute_result",
          "data": {
            "text/plain": [
              "DecisionTreeClassifier(max_depth=2, random_state=42)"
            ]
          },
          "metadata": {},
          "execution_count": 98
        }
      ]
    },
    {
      "cell_type": "markdown",
      "source": [
        "## **Test data**"
      ],
      "metadata": {
        "id": "978gnsGWQ2Fn"
      }
    },
    {
      "cell_type": "code",
      "source": [
        "Test_file=pd.read_csv('/content/drive/MyDrive/ok/test_master')\n"
      ],
      "metadata": {
        "id": "lehzaMa2Q1LI"
      },
      "execution_count": 99,
      "outputs": []
    },
    {
      "cell_type": "code",
      "source": [
        "Test_file.drop(['year','VehicleYOM'],axis=1,inplace=True)"
      ],
      "metadata": {
        "id": "ns83FEHAaTSG"
      },
      "execution_count": 100,
      "outputs": []
    },
    {
      "cell_type": "code",
      "source": [
        "Test_file.drop(['Unnamed: 0'],axis=1,inplace=True)"
      ],
      "metadata": {
        "id": "DufhjxdhanJU"
      },
      "execution_count": 101,
      "outputs": []
    },
    {
      "cell_type": "code",
      "source": [
        "Test_file.head()"
      ],
      "metadata": {
        "id": "lGiv1mpMafnc"
      },
      "execution_count": null,
      "outputs": []
    },
    {
      "cell_type": "code",
      "source": [
        "x_test=Test_file"
      ],
      "metadata": {
        "id": "KmXGdnoZRIKM"
      },
      "execution_count": 103,
      "outputs": []
    },
    {
      "cell_type": "code",
      "source": [
        "Test_file.shape"
      ],
      "metadata": {
        "id": "L668wz1BR5aL"
      },
      "execution_count": null,
      "outputs": []
    },
    {
      "cell_type": "code",
      "source": [
        "y_pred=logis.predict(x_test)"
      ],
      "metadata": {
        "id": "UOsOhK5ZRLAr"
      },
      "execution_count": null,
      "outputs": []
    },
    {
      "cell_type": "code",
      "source": [
        "y_pred=knn.predict(x_test)"
      ],
      "metadata": {
        "id": "TVTRUU3-sxpu"
      },
      "execution_count": 87,
      "outputs": []
    },
    {
      "cell_type": "code",
      "source": [
        "y_preD=tree_clf.predict(x_test)"
      ],
      "metadata": {
        "id": "p0C24AimvcDq"
      },
      "execution_count": 105,
      "outputs": []
    },
    {
      "cell_type": "code",
      "source": [
        "y_preD"
      ],
      "metadata": {
        "colab": {
          "base_uri": "https://localhost:8080/"
        },
        "id": "V_6UrvBTSxsi",
        "outputId": "ddbaaf94-8e21-425c-da93-71e83b7a9f0b"
      },
      "execution_count": 106,
      "outputs": [
        {
          "output_type": "execute_result",
          "data": {
            "text/plain": [
              "array([0, 0, 0, ..., 0, 0, 0])"
            ]
          },
          "metadata": {},
          "execution_count": 106
        }
      ]
    },
    {
      "cell_type": "code",
      "source": [
        "y_pred"
      ],
      "metadata": {
        "colab": {
          "base_uri": "https://localhost:8080/"
        },
        "id": "3_rFnFsIyYsr",
        "outputId": "e3409be0-7c8e-4ff6-a2ba-71c9a13024a0"
      },
      "execution_count": 114,
      "outputs": [
        {
          "output_type": "execute_result",
          "data": {
            "text/plain": [
              "array([0, 0, 0, ..., 0, 0, 0])"
            ]
          },
          "metadata": {},
          "execution_count": 114
        }
      ]
    },
    {
      "cell_type": "code",
      "source": [
        "test=pd.read_csv(\"/content/drive/MyDrive/TestData/Test.csv\")\n",
        "test.head()"
      ],
      "metadata": {
        "id": "30y2j4weTgY9"
      },
      "execution_count": null,
      "outputs": []
    },
    {
      "cell_type": "code",
      "source": [
        "CustomerID=test['CustomerID']"
      ],
      "metadata": {
        "id": "Zzn9LZpSTY0Z"
      },
      "execution_count": 108,
      "outputs": []
    },
    {
      "cell_type": "markdown",
      "source": [
        "## **CSV conversion For Prediction**"
      ],
      "metadata": {
        "id": "79xgLDcKUIE9"
      }
    },
    {
      "cell_type": "code",
      "source": [
        "final=pd.DataFrame({'CustomerID':CustomerID,'prediction':y_pred})"
      ],
      "metadata": {
        "id": "6weC4LZ0UEp_"
      },
      "execution_count": 115,
      "outputs": []
    },
    {
      "cell_type": "code",
      "source": [
        "final.head()"
      ],
      "metadata": {
        "id": "gjzUjzL9YpfZ"
      },
      "execution_count": null,
      "outputs": []
    },
    {
      "cell_type": "code",
      "source": [
        "final.prediction.value_counts()"
      ],
      "metadata": {
        "colab": {
          "base_uri": "https://localhost:8080/"
        },
        "id": "oJTGTlmiUi0I",
        "outputId": "8ee620d5-168d-43a8-8723-f7e664392741"
      },
      "execution_count": 118,
      "outputs": [
        {
          "output_type": "execute_result",
          "data": {
            "text/plain": [
              "0    7412\n",
              "1    1500\n",
              "Name: prediction, dtype: int64"
            ]
          },
          "metadata": {},
          "execution_count": 118
        }
      ]
    },
    {
      "cell_type": "code",
      "source": [
        "final.to_csv(\"4249_Barath2.csv\")"
      ],
      "metadata": {
        "id": "1_5S2GWAXN80"
      },
      "execution_count": 119,
      "outputs": []
    }
  ],
  "metadata": {
    "accelerator": "GPU",
    "colab": {
      "collapsed_sections": [],
      "provenance": [],
      "include_colab_link": true
    },
    "kernelspec": {
      "display_name": "Python 3 (ipykernel)",
      "language": "python",
      "name": "python3"
    },
    "language_info": {
      "codemirror_mode": {
        "name": "ipython",
        "version": 3
      },
      "file_extension": ".py",
      "mimetype": "text/x-python",
      "name": "python",
      "nbconvert_exporter": "python",
      "pygments_lexer": "ipython3",
      "version": "3.9.7"
    }
  },
  "nbformat": 4,
  "nbformat_minor": 0
}