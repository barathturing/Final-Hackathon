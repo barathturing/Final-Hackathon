{
  "cells": [
    {
      "cell_type": "markdown",
      "metadata": {
        "id": "view-in-github",
        "colab_type": "text"
      },
      "source": [
        "<a href=\"https://colab.research.google.com/github/barathturing/final-hack/blob/main/rf_wo.ipynb\" target=\"_parent\"><img src=\"https://colab.research.google.com/assets/colab-badge.svg\" alt=\"Open In Colab\"/></a>"
      ]
    },
    {
      "cell_type": "code",
      "execution_count": null,
      "metadata": {
        "id": "LRYZci46YJa_"
      },
      "outputs": [],
      "source": [
        "import pandas as pd\n",
        "import numpy as np\n",
        "import matplotlib.pyplot as plt\n",
        "%matplotlib inline\n",
        "pd.set_option('display.max_columns', None)\n",
        "pd.set_option('display.max_rows', None)\n",
        "import seaborn as sns"
      ]
    },
    {
      "cell_type": "code",
      "execution_count": null,
      "metadata": {
        "colab": {
          "base_uri": "https://localhost:8080/"
        },
        "id": "FyXheYzaYNO8",
        "outputId": "57862c9f-8f74-4cb1-ac53-37d7f1bd358b"
      },
      "outputs": [
        {
          "output_type": "stream",
          "name": "stdout",
          "text": [
            "Mounted at /content/drive\n"
          ]
        }
      ],
      "source": [
        "from google.colab import drive\n",
        "drive.mount(\"/content/drive\")"
      ]
    },
    {
      "cell_type": "code",
      "execution_count": null,
      "metadata": {
        "id": "r3fJMo3UYR-D"
      },
      "outputs": [],
      "source": [
        "#Reading files using pandas\n",
        "df1=pd.read_csv(\"/content/drive/MyDrive/TrainData/Train_Claim.csv\")\n",
        "df2=pd.read_csv(\"/content/drive/MyDrive/TrainData/Train_Demographics.csv\")\n",
        "df3=pd.read_csv(\"/content/drive/MyDrive/TrainData/Train_Policy.csv\")\n",
        "df4=pd.read_csv(\"/content/drive/MyDrive/TrainData/Train_Vehicle_new.csv\")\n",
        "df5=pd.read_csv(\"/content/drive/MyDrive/TrainData/Traindata_with_Target.csv\")"
      ]
    },
    {
      "cell_type": "code",
      "execution_count": null,
      "metadata": {
        "colab": {
          "base_uri": "https://localhost:8080/"
        },
        "id": "XvEc_lQhYrKe",
        "outputId": "d8106d9c-b5af-4115-ba36-c26ff031e3f2"
      },
      "outputs": [
        {
          "output_type": "stream",
          "name": "stdout",
          "text": [
            "df1: (28836, 19)\n",
            "df2: (28836, 10)\n",
            "df3: (28836, 10)\n",
            "df4: (28836, 5)\n",
            "df5: (28836, 2)\n"
          ]
        }
      ],
      "source": [
        "#checking shape of each datasets\n",
        "print(\"df1:\",df1.shape)\n",
        "print(\"df2:\",df2.shape)\n",
        "print(\"df3:\",df3.shape)\n",
        "print(\"df4:\",df4.shape)\n",
        "print(\"df5:\",df5.shape)"
      ]
    },
    {
      "cell_type": "code",
      "execution_count": null,
      "metadata": {
        "id": "5FEPTdV6YtfV"
      },
      "outputs": [],
      "source": [
        "#merging all datasets based on \"CstomerID\"\n",
        "sample_1=pd.merge(df1,df2)\n",
        "sample_2=pd.merge(sample_1,df3)\n",
        "sample_3=pd.merge(sample_2,df4)\n",
        "master=pd.merge(sample_3,df5)"
      ]
    },
    {
      "cell_type": "code",
      "execution_count": null,
      "metadata": {
        "id": "y0gbh4IuYx69"
      },
      "outputs": [],
      "source": [
        "master.head()"
      ]
    },
    {
      "cell_type": "code",
      "execution_count": null,
      "metadata": {
        "id": "Q5lsJV01thlA"
      },
      "outputs": [],
      "source": [
        "# Making a list of missing value types\n",
        "missing_values = [\"MISSEDDATA\",\"NA\",\"?\",\"MISSINGVALUE\",\"???\",-5,\"MISSINGVAL\",-1,\"N/A\",\"na\"]"
      ]
    },
    {
      "cell_type": "code",
      "execution_count": null,
      "metadata": {
        "id": "L6m_g9uptlL9"
      },
      "outputs": [],
      "source": [
        "#we create one missing values list by using that if that comes in any place we replace it with nan\n",
        "for column in master.columns:\n",
        "    for missing in missing_values:\n",
        "        master[column] = np.where(master[column]==missing, np.NaN, master[column])"
      ]
    },
    {
      "cell_type": "code",
      "execution_count": null,
      "metadata": {
        "id": "xPiWk0qSY6tk"
      },
      "outputs": [],
      "source": [
        "master.isnull().sum()"
      ]
    },
    {
      "cell_type": "code",
      "execution_count": null,
      "metadata": {
        "id": "Ob58MZgnaMDD"
      },
      "outputs": [],
      "source": [
        "master.info()"
      ]
    },
    {
      "cell_type": "code",
      "execution_count": null,
      "metadata": {
        "id": "Axo9IEZ2Nuf1"
      },
      "outputs": [],
      "source": [
        "#checking missing values percent using isnull function \n",
        "master.isnull().sum()/len(master)*100 "
      ]
    },
    {
      "cell_type": "markdown",
      "metadata": {
        "id": "6uwfxoODN9dl"
      },
      "source": [
        "# imputing missing values for both **numeric** and catagorical"
      ]
    },
    {
      "cell_type": "code",
      "execution_count": null,
      "metadata": {
        "id": "f5Tw9BKbSguy"
      },
      "outputs": [],
      "source": [
        "#by using hist graph we can see how data distributed\n",
        "master.hist(bins=50, figsize=(15, 12))\n",
        "plt.show()"
      ]
    },
    {
      "cell_type": "code",
      "execution_count": null,
      "metadata": {
        "id": "0uaOIbatOPHY"
      },
      "outputs": [],
      "source": [
        "##  Replace NAN values with most occured category in TypeOfCollission\n",
        "Mode_Category = master[\"TypeOfCollission\"].mode()[0]\n",
        "master[\"TypeOfCollission\"].fillna(Mode_Category,inplace=True)"
      ]
    },
    {
      "cell_type": "code",
      "execution_count": null,
      "metadata": {
        "id": "Iw3VlftwOYAv"
      },
      "outputs": [],
      "source": [
        "##  Replace NAN values with median in IncidentTime\n",
        "median=master['IncidentTime'].median()\n",
        "master['IncidentTime'].fillna(median,inplace=True)"
      ]
    },
    {
      "cell_type": "code",
      "execution_count": null,
      "metadata": {
        "id": "u0bRWiGIOfEs"
      },
      "outputs": [],
      "source": [
        "#drop huge no of missing value data \n",
        "master.drop(['PropertyDamage','Country'],axis=1,inplace=True)"
      ]
    },
    {
      "cell_type": "code",
      "execution_count": null,
      "metadata": {
        "id": "He2mOpj4OmWw"
      },
      "outputs": [],
      "source": [
        "##  Replace NAN values with median  in witness\n",
        "median_1=master['Witnesses'].median()\n",
        "master['Witnesses'].fillna(median_1,inplace=True)"
      ]
    },
    {
      "cell_type": "code",
      "execution_count": null,
      "metadata": {
        "id": "hTEqn-FdOzpQ"
      },
      "outputs": [],
      "source": [
        "##  Replace NAN values with most occured category in police report\n",
        "Mode_Category_1 = master[\"PoliceReport\"].mode()[0]\n",
        "master[\"PoliceReport\"].fillna(Mode_Category_1,inplace=True)"
      ]
    },
    {
      "cell_type": "code",
      "execution_count": null,
      "metadata": {
        "id": "9e1coBkhO4f-"
      },
      "outputs": [],
      "source": [
        "###  Replace NAN values with median in AmountOfTotalClaim\n",
        "median_2=master['AmountOfTotalClaim'].median()\n",
        "master['AmountOfTotalClaim'].fillna(median_2,inplace=True)"
      ]
    },
    {
      "cell_type": "code",
      "execution_count": null,
      "metadata": {
        "id": "F0hyISDNO7jw"
      },
      "outputs": [],
      "source": [
        "##  Replace NAN values with most occured category in gender\n",
        "Mode_Category_2 = master[\"InsuredGender\"].mode()[0]\n",
        "master[\"InsuredGender\"].fillna(Mode_Category_2,inplace=True)"
      ]
    },
    {
      "cell_type": "code",
      "execution_count": null,
      "metadata": {
        "id": "wnptF0hdO_FI"
      },
      "outputs": [],
      "source": [
        "master.drop(['CustomerID','VehicleID','InsurancePolicyNumber'],axis=1,inplace=True)"
      ]
    },
    {
      "cell_type": "code",
      "execution_count": null,
      "metadata": {
        "id": "XxU-4qqSPTnf"
      },
      "outputs": [],
      "source": [
        "###  Replace NAN values with median in PolicyAnnualPremium \n",
        "median_3=master['PolicyAnnualPremium'].median()\n",
        "master['PolicyAnnualPremium'].fillna(median_3,inplace=True)"
      ]
    },
    {
      "cell_type": "code",
      "execution_count": null,
      "metadata": {
        "id": "l4d0hdjWPbvE"
      },
      "outputs": [],
      "source": [
        "##  Replace NAN values with most occured category in VehicleMake\n",
        "Mode_Category_3 = master[\"VehicleMake\"].mode()[0]\n",
        "master[\"VehicleMake\"].fillna(Mode_Category_3,inplace=True)"
      ]
    },
    {
      "cell_type": "code",
      "execution_count": null,
      "metadata": {
        "id": "lSMmkPgMPgAG"
      },
      "outputs": [],
      "source": [
        "master.isnull().sum().any()"
      ]
    },
    {
      "cell_type": "code",
      "execution_count": null,
      "metadata": {
        "id": "fhHbZGCvP-FQ"
      },
      "outputs": [],
      "source": [
        "master.info()"
      ]
    },
    {
      "cell_type": "code",
      "execution_count": null,
      "metadata": {
        "id": "I_uaiZqop84N"
      },
      "outputs": [],
      "source": [
        "#two numerical feature shows object type change type to numerical\n",
        "master['AmountOfTotalClaim'] = master['AmountOfTotalClaim'].astype('int')\n",
        "master['Witnesses']=master['Witnesses'].astype('int')"
      ]
    },
    {
      "cell_type": "code",
      "execution_count": null,
      "metadata": {
        "id": "sbFldDN5Td6Q"
      },
      "outputs": [],
      "source": [
        "master['ReportedFraud'].value_counts()"
      ]
    },
    {
      "cell_type": "markdown",
      "metadata": {
        "id": "-fRZ1CXbYWCJ"
      },
      "source": [
        "# Visuvalization "
      ]
    },
    {
      "cell_type": "code",
      "execution_count": null,
      "metadata": {
        "colab": {
          "background_save": true
        },
        "id": "iSUXvi8hTgpC"
      },
      "outputs": [],
      "source": [
        "plt.style.use('fivethirtyeight')\n",
        "ax = sns.countplot(x='ReportedFraud', data=master, hue='ReportedFraud')"
      ]
    },
    {
      "cell_type": "code",
      "execution_count": null,
      "metadata": {
        "id": "j4BVEYF0Y2Ae"
      },
      "outputs": [],
      "source": [
        "#function for crosstabs\n",
        "def cross_tab(x,y):\n",
        "    crtab = pd.crosstab(master[x], master[y])\n",
        "    return crtab"
      ]
    },
    {
      "cell_type": "code",
      "execution_count": null,
      "metadata": {
        "colab": {
          "background_save": true
        },
        "id": "QNos2WpjYbuJ"
      },
      "outputs": [],
      "source": [
        "#insuredgender vs ReportedFraud\n",
        "cross_tab('InsuredGender','ReportedFraud')"
      ]
    },
    {
      "cell_type": "code",
      "execution_count": null,
      "metadata": {
        "colab": {
          "background_save": true
        },
        "id": "uj_UGZZvZhA3"
      },
      "outputs": [],
      "source": [
        "sns.catplot(data=master,x='InsuredGender',hue='ReportedFraud',kind='count')"
      ]
    },
    {
      "cell_type": "code",
      "execution_count": null,
      "metadata": {
        "colab": {
          "background_save": true
        },
        "id": "QMuL2pXoZ8QF"
      },
      "outputs": [],
      "source": [
        "#InsurancePolicyState v/s ReportedFraud\n",
        "cross_tab('InsurancePolicyState','ReportedFraud')"
      ]
    },
    {
      "cell_type": "code",
      "execution_count": null,
      "metadata": {
        "colab": {
          "background_save": true
        },
        "id": "5YRPN4Q4aRGr"
      },
      "outputs": [],
      "source": [
        "sns.catplot(data=master,x='InsurancePolicyState',hue='ReportedFraud',kind='count')"
      ]
    },
    {
      "cell_type": "code",
      "execution_count": null,
      "metadata": {
        "colab": {
          "background_save": true
        },
        "id": "LCmFCdcNa6FA"
      },
      "outputs": [],
      "source": [
        "#incidenttype vs ReportedFraud\n",
        "sns.catplot(data=master,x='TypeOfIncident',hue='ReportedFraud',kind='count')\n",
        "plt.xticks(rotation = 90)\n"
      ]
    },
    {
      "cell_type": "code",
      "execution_count": null,
      "metadata": {
        "colab": {
          "background_save": true
        },
        "id": "Zhsg-HR8a6QB"
      },
      "outputs": [],
      "source": [
        "#insured education level v/s ReportedFraud\n",
        "cross_tab('InsuredEducationLevel','ReportedFraud')"
      ]
    },
    {
      "cell_type": "code",
      "execution_count": null,
      "metadata": {
        "colab": {
          "background_save": true
        },
        "id": "WkeZVJ2da6Yc"
      },
      "outputs": [],
      "source": [
        "sns.catplot(data=master,x='InsuredEducationLevel',hue='ReportedFraud',kind='count')\n",
        "plt.xticks(rotation = 90)\n"
      ]
    },
    {
      "cell_type": "code",
      "execution_count": null,
      "metadata": {
        "colab": {
          "background_save": true
        },
        "id": "e_KDQu8pa6kE"
      },
      "outputs": [],
      "source": [
        "#insured relationship v/s ReportedFraud\n",
        "cross_tab('InsuredRelationship','ReportedFraud')"
      ]
    },
    {
      "cell_type": "code",
      "execution_count": null,
      "metadata": {
        "colab": {
          "background_save": true
        },
        "id": "xGoq-JbxcpNX"
      },
      "outputs": [],
      "source": [
        "sns.catplot(data=master,x='InsuredRelationship',hue='ReportedFraud',kind='count')\n",
        "plt.xticks(rotation = 90)"
      ]
    },
    {
      "cell_type": "code",
      "execution_count": null,
      "metadata": {
        "colab": {
          "background_save": true
        },
        "id": "icaHf7JDcpTL"
      },
      "outputs": [],
      "source": [
        "#authorities contacted v/s fraud reported\n",
        "\n",
        "cross_tab('AuthoritiesContacted','ReportedFraud')"
      ]
    },
    {
      "cell_type": "code",
      "execution_count": null,
      "metadata": {
        "colab": {
          "background_save": true
        },
        "id": "-cWEKGzxcpZI"
      },
      "outputs": [],
      "source": [
        "sns.catplot(data=master,x='AuthoritiesContacted',hue='ReportedFraud',kind='count')\n",
        "plt.xticks(rotation = 90)"
      ]
    },
    {
      "cell_type": "code",
      "source": [
        "sns.catplot(data=master,x='IncidentCity',hue='ReportedFraud',kind='count')\n",
        "plt.xticks(rotation = 90)"
      ],
      "metadata": {
        "id": "2luAi8jAGRrG"
      },
      "execution_count": null,
      "outputs": []
    },
    {
      "cell_type": "code",
      "execution_count": null,
      "metadata": {
        "colab": {
          "background_save": true
        },
        "id": "bdosfqN6eoQ9"
      },
      "outputs": [],
      "source": [
        "plt.figure(figsize = (12, 5))\n",
        "df_temp = master[master.ReportedFraud == 'Y']\n",
        "sns.set_style('darkgrid')\n",
        "sns.countplot(x = 'VehicleYOM', data = master)\n",
        "plt.ylabel('No. of fraud reported')\n",
        "plt.title('ReportedFraud VS VehicleYOM')\n",
        "plt.xticks(rotation = 90)"
      ]
    },
    {
      "cell_type": "code",
      "execution_count": null,
      "metadata": {
        "id": "fJXOcdMneoda"
      },
      "outputs": [],
      "source": []
    },
    {
      "cell_type": "code",
      "execution_count": null,
      "metadata": {
        "id": "O_Lwa_A8eopb"
      },
      "outputs": [],
      "source": []
    },
    {
      "cell_type": "code",
      "execution_count": null,
      "metadata": {
        "id": "JOrfIGi-eozJ"
      },
      "outputs": [],
      "source": []
    },
    {
      "cell_type": "markdown",
      "metadata": {
        "id": "ytcnkNL7kdj1"
      },
      "source": [
        "# catogorical to nuerical"
      ]
    },
    {
      "cell_type": "code",
      "execution_count": null,
      "metadata": {
        "id": "yufu5TmzXY1k"
      },
      "outputs": [],
      "source": [
        "master.select_dtypes(include='object').describe().T"
      ]
    },
    {
      "cell_type": "code",
      "execution_count": null,
      "metadata": {
        "id": "Tj56w9Dtanci"
      },
      "outputs": [],
      "source": [
        "master=master.drop(columns=['DateOfIncident','IncidentAddress','DateOfPolicyCoverage','InsuredZipCode'])"
      ]
    },
    {
      "cell_type": "code",
      "execution_count": null,
      "metadata": {
        "id": "mamrqqw4OqVV",
        "colab": {
          "base_uri": "https://localhost:8080/"
        },
        "outputId": "fa4fc5c3-b73f-4e53-a356-92d3d3fe344c"
      },
      "outputs": [
        {
          "output_type": "execute_result",
          "data": {
            "text/plain": [
              "Index(['TypeOfIncident', 'TypeOfCollission', 'SeverityOfIncident',\n",
              "       'AuthoritiesContacted', 'IncidentState', 'IncidentCity', 'PoliceReport',\n",
              "       'InsuredGender', 'InsuredEducationLevel', 'InsuredOccupation',\n",
              "       'InsuredHobbies', 'InsurancePolicyState', 'Policy_CombinedSingleLimit',\n",
              "       'InsuredRelationship', 'VehicleMake', 'VehicleModel', 'ReportedFraud'],\n",
              "      dtype='object')"
            ]
          },
          "metadata": {},
          "execution_count": 28
        }
      ],
      "source": [
        "#catogorical columns \n",
        "categorical_columns = master.select_dtypes(include=['object']).columns\n",
        "categorical_columns"
      ]
    },
    {
      "cell_type": "code",
      "execution_count": null,
      "metadata": {
        "id": "SapOowFMbPss",
        "colab": {
          "base_uri": "https://localhost:8080/"
        },
        "outputId": "f08ec46c-ad06-4912-f872-48a32f28fd74"
      },
      "outputs": [
        {
          "output_type": "execute_result",
          "data": {
            "text/plain": [
              "(28836, 33)"
            ]
          },
          "metadata": {},
          "execution_count": 29
        }
      ],
      "source": [
        "master.shape"
      ]
    },
    {
      "cell_type": "code",
      "execution_count": null,
      "metadata": {
        "id": "udxUyRT-o9Ra"
      },
      "outputs": [],
      "source": [
        "from sklearn.preprocessing import LabelEncoder\n",
        "label= LabelEncoder()\n",
        "\n",
        "for colum in categorical_columns:\n",
        "    master[colum]= label.fit_transform(master[colum])  "
      ]
    },
    {
      "cell_type": "code",
      "execution_count": null,
      "metadata": {
        "id": "8Q8DEDrccNvt"
      },
      "outputs": [],
      "source": [
        "master.head()"
      ]
    },
    {
      "cell_type": "code",
      "execution_count": null,
      "metadata": {
        "id": "ScMrfh2qqB-D"
      },
      "outputs": [],
      "source": [
        "master.dtypes"
      ]
    },
    {
      "cell_type": "code",
      "execution_count": null,
      "metadata": {
        "id": "qpgkW35mk0py",
        "colab": {
          "base_uri": "https://localhost:8080/"
        },
        "outputId": "720664c5-4b3e-4035-aa9f-da4b4178540a"
      },
      "outputs": [
        {
          "output_type": "execute_result",
          "data": {
            "text/plain": [
              "(28836, 32)"
            ]
          },
          "metadata": {},
          "execution_count": 33
        }
      ],
      "source": [
        "x=master.drop('ReportedFraud',axis=1)\n",
        "y=master['ReportedFraud']\n",
        "x.shape"
      ]
    },
    {
      "cell_type": "code",
      "execution_count": null,
      "metadata": {
        "id": "USxTZov8cRJv"
      },
      "outputs": [],
      "source": [
        "from sklearn.preprocessing import MinMaxScaler\n",
        "mm=MinMaxScaler()\n",
        "train_scaled=pd.DataFrame(mm.fit_transform(x))"
      ]
    },
    {
      "cell_type": "code",
      "execution_count": null,
      "metadata": {
        "id": "4psHrTuGfonm"
      },
      "outputs": [],
      "source": [
        "train_scaled.head()"
      ]
    },
    {
      "cell_type": "markdown",
      "metadata": {
        "id": "PT7xVFSWiYsN"
      },
      "source": [
        "# test data"
      ]
    },
    {
      "cell_type": "code",
      "execution_count": null,
      "metadata": {
        "id": "WvytB6f2gHGh"
      },
      "outputs": [],
      "source": [
        "df1=pd.read_csv(\"/content/drive/MyDrive/TestData/Test_Claim.csv\")\n",
        "df2=pd.read_csv(\"/content/drive/MyDrive/TestData/Test_Demographics.csv\")\n",
        "df3=pd.read_csv(\"/content/drive/MyDrive/TestData/Test_Policy.csv\")\n",
        "df4=pd.read_csv(\"/content/drive/MyDrive/TestData/Test.csv\")\n",
        "df5=pd.read_csv(\"/content/drive/MyDrive/TestData/Test_Vehicle_new.csv\")"
      ]
    },
    {
      "cell_type": "code",
      "execution_count": null,
      "metadata": {
        "id": "h2ZQ9AorgLMS",
        "colab": {
          "base_uri": "https://localhost:8080/"
        },
        "outputId": "b98457a6-8f02-4713-a921-c0fce8384efc"
      },
      "outputs": [
        {
          "output_type": "stream",
          "name": "stdout",
          "text": [
            "(8912, 19)\n",
            "(8912, 10)\n",
            "(8912, 10)\n",
            "(8912, 1)\n",
            "(8912, 5)\n"
          ]
        }
      ],
      "source": [
        "print(df1.shape)\n",
        "print(df2.shape)\n",
        "print(df3.shape)\n",
        "print(df4.shape)\n",
        "print(df5.shape)"
      ]
    },
    {
      "cell_type": "code",
      "execution_count": null,
      "metadata": {
        "id": "lwkVXvKmgNWq"
      },
      "outputs": [],
      "source": [
        "#merging all datasets based on \"CstomerID\"\n",
        "sample_1=pd.merge(df1,df2)\n",
        "sample_2=pd.merge(sample_1,df3)\n",
        "sample_3=pd.merge(sample_2,df4)\n",
        "test=pd.merge(sample_3,df5)"
      ]
    },
    {
      "cell_type": "code",
      "execution_count": null,
      "metadata": {
        "id": "fYsIzWMzgSFY"
      },
      "outputs": [],
      "source": [
        "test.head()"
      ]
    },
    {
      "cell_type": "code",
      "execution_count": null,
      "metadata": {
        "id": "bmTV89ktgUYS"
      },
      "outputs": [],
      "source": [
        "# Making a list of missing value types\n",
        "missing_values = [\"MISSEDDATA\",\"NA\",\"?\",\"MISSINGVALUE\",\"???\",-5,\"MISSINGVAL\",-1,\"N/A\",\"na\"]"
      ]
    },
    {
      "cell_type": "code",
      "execution_count": null,
      "metadata": {
        "id": "OPk6EUdbZ31P"
      },
      "outputs": [],
      "source": [
        "#we create one missing values list by using that if that comes in any place we replace it with nan\n",
        "for column in test.columns:\n",
        "    for missing in missing_values:\n",
        "        test[column] = np.where(test[column]==missing, np.NaN, test[column])"
      ]
    },
    {
      "cell_type": "code",
      "execution_count": null,
      "metadata": {
        "id": "Tf10EqrVgkv5"
      },
      "outputs": [],
      "source": [
        "test.isnull().sum()"
      ]
    },
    {
      "cell_type": "code",
      "execution_count": null,
      "metadata": {
        "id": "cBy4J8joih0v"
      },
      "outputs": [],
      "source": [
        "##  Replace NAN values with most occured category in TypeOfCollission\n",
        "Mode_Category = test[\"TypeOfCollission\"].mode()[0]\n",
        "test[\"TypeOfCollission\"].fillna(Mode_Category,inplace=True)\n",
        "\n",
        "##  Replace NAN values with median in IncidentTime\n",
        "median=test['IncidentTime'].median()\n",
        "test['IncidentTime'].fillna(median,inplace=True)\n",
        "\n",
        "##  Replace NAN values with median  in witness\n",
        "median_1=master['Witnesses'].median()\n",
        "master['Witnesses'].fillna(median_1,inplace=True)\n",
        "\n",
        "#drop huge no of missing value data \n",
        "test.drop(['PropertyDamage','Country'],axis=1,inplace=True)\n",
        "\n",
        "##  Replace NAN values with most occured category in police report\n",
        "Mode_Category_1 = test[\"PoliceReport\"].mode()[0]\n",
        "test[\"PoliceReport\"].fillna(Mode_Category_1,inplace=True)\n",
        "\n",
        "###  Replace NAN values with median in AmountOfTotalClaim\n",
        "median_2=test['AmountOfTotalClaim'].median()\n",
        "test['AmountOfTotalClaim'].fillna(median_2,inplace=True)\n",
        "\n",
        "##  Replace NAN values with most occured category in gender\n",
        "Mode_Category_2 = test[\"InsuredGender\"].mode()[0]\n",
        "test[\"InsuredGender\"].fillna(Mode_Category_2,inplace=True)\n",
        "\n",
        "###  Replace NAN values with median in PolicyAnnualPremium \n",
        "median_3=test['PolicyAnnualPremium'].median()\n",
        "test['PolicyAnnualPremium'].fillna(median_3,inplace=True)\n",
        "\n",
        "##  Replace NAN values with most occured category in VehicleMake\n",
        "Mode_Category_3 = test[\"VehicleMake\"].mode()[0]\n",
        "test[\"VehicleMake\"].fillna(Mode_Category_3,inplace=True)"
      ]
    },
    {
      "cell_type": "code",
      "execution_count": null,
      "metadata": {
        "id": "lTYsXbyrgwn-"
      },
      "outputs": [],
      "source": [
        "test['AmountOfTotalClaim'] = test['AmountOfTotalClaim'].astype('int')"
      ]
    },
    {
      "cell_type": "code",
      "source": [],
      "metadata": {
        "id": "Q_P6U202fgUf"
      },
      "execution_count": null,
      "outputs": []
    },
    {
      "cell_type": "code",
      "execution_count": null,
      "metadata": {
        "id": "e6phFi_xhNHt"
      },
      "outputs": [],
      "source": [
        "test=test.drop(columns=['InsurancePolicyNumber','DateOfIncident','IncidentAddress','DateOfPolicyCoverage','InsuredZipCode','VehicleID'])"
      ]
    },
    {
      "cell_type": "code",
      "execution_count": null,
      "metadata": {
        "id": "I08JN_NihxeX"
      },
      "outputs": [],
      "source": [
        "customerid=test['CustomerID']\n",
        "test.drop(['CustomerID'],axis=1,inplace=True)"
      ]
    },
    {
      "cell_type": "code",
      "execution_count": null,
      "metadata": {
        "id": "z9_CKW7nuVpE"
      },
      "outputs": [],
      "source": [
        "#catogorical columns \n",
        "categorical_columns = test.select_dtypes(include=['object']).columns\n",
        "categorical_columns"
      ]
    },
    {
      "cell_type": "code",
      "execution_count": null,
      "metadata": {
        "id": "vQ0mpFlrg9H1"
      },
      "outputs": [],
      "source": [
        "from sklearn.preprocessing import LabelEncoder\n",
        "label = LabelEncoder()\n",
        "\n",
        "for columns in categorical_columns:\n",
        "    test[columns]= label.fit_transform(test[columns]) "
      ]
    },
    {
      "cell_type": "code",
      "execution_count": null,
      "metadata": {
        "id": "nhO7fNF6rx7T"
      },
      "outputs": [],
      "source": [
        "test.dtypes"
      ]
    },
    {
      "cell_type": "code",
      "source": [
        "test.shape"
      ],
      "metadata": {
        "id": "x-6aPnfXAvC1"
      },
      "execution_count": null,
      "outputs": []
    },
    {
      "cell_type": "code",
      "execution_count": null,
      "metadata": {
        "id": "8Pri4o_ghhBm"
      },
      "outputs": [],
      "source": [
        "from sklearn.preprocessing import MinMaxScaler\n",
        "mm=MinMaxScaler()\n",
        "test_scaled=pd.DataFrame(mm.fit_transform(test))"
      ]
    },
    {
      "cell_type": "code",
      "execution_count": null,
      "metadata": {
        "id": "K4W4TsguwI6c"
      },
      "outputs": [],
      "source": [
        "x.head()"
      ]
    },
    {
      "cell_type": "code",
      "execution_count": null,
      "metadata": {
        "id": "BV2_ot9tlAl8"
      },
      "outputs": [],
      "source": [
        "print(x.shape)\n",
        "print(test.shape)"
      ]
    },
    {
      "cell_type": "code",
      "source": [
        "train_scaled.head()"
      ],
      "metadata": {
        "id": "VWKyqQCaV5bI"
      },
      "execution_count": null,
      "outputs": []
    },
    {
      "cell_type": "code",
      "source": [
        "test_scaled.head()"
      ],
      "metadata": {
        "id": "ekowFLcQWB2A"
      },
      "execution_count": null,
      "outputs": []
    },
    {
      "cell_type": "code",
      "execution_count": null,
      "metadata": {
        "colab": {
          "background_save": true
        },
        "id": "w-ECAFLK7rz8"
      },
      "outputs": [],
      "source": [
        "#from sklearn.model_selection import train_test_split\n",
        "#x_train,x_test,y_train,y_test=train_test_split(x,y,test_size=0.30905,random_state=42)"
      ]
    },
    {
      "cell_type": "code",
      "execution_count": null,
      "metadata": {
        "id": "meVvq4X5YlxW"
      },
      "outputs": [],
      "source": [
        "from sklearn.model_selection import GridSearchCV"
      ]
    },
    {
      "cell_type": "code",
      "execution_count": null,
      "metadata": {
        "colab": {
          "base_uri": "https://localhost:8080/"
        },
        "id": "raMHzSBKkcpj",
        "outputId": "61525621-f33c-4c84-97a3-2f80079478f9"
      },
      "outputs": [
        {
          "output_type": "execute_result",
          "data": {
            "text/plain": [
              "RandomForestClassifier()"
            ]
          },
          "metadata": {},
          "execution_count": 96
        }
      ],
      "source": [
        "from sklearn.ensemble import RandomForestClassifier,AdaBoostClassifier,GradientBoostingClassifier\n",
        "rf=RandomForestClassifier()\n",
        "rf.fit(train_scaled,y)"
      ]
    },
    {
      "cell_type": "code",
      "source": [
        "from sklearn.ensemble import RandomForestClassifier,AdaBoostClassifier,GradientBoostingClassifier\n",
        "ada=AdaBoostClassifier()\n",
        "ada.fit(train_scaled,y)"
      ],
      "metadata": {
        "colab": {
          "base_uri": "https://localhost:8080/"
        },
        "id": "6B5aa0gSY8Rv",
        "outputId": "17e06555-8fd8-4763-eeb5-613360c9c08c"
      },
      "execution_count": null,
      "outputs": [
        {
          "output_type": "execute_result",
          "data": {
            "text/plain": [
              "AdaBoostClassifier()"
            ]
          },
          "metadata": {},
          "execution_count": 89
        }
      ]
    },
    {
      "cell_type": "code",
      "source": [
        "from sklearn.ensemble import RandomForestClassifier,AdaBoostClassifier,GradientBoostingClassifier\n",
        "gb=GradientBoostingClassifier()\n",
        "gb.fit(train_scaled,y)"
      ],
      "metadata": {
        "colab": {
          "base_uri": "https://localhost:8080/"
        },
        "id": "FYqBQ-erYXBU",
        "outputId": "e1854d16-7e5b-409e-8622-3592f5296b14"
      },
      "execution_count": null,
      "outputs": [
        {
          "output_type": "execute_result",
          "data": {
            "text/plain": [
              "GradientBoostingClassifier()"
            ]
          },
          "metadata": {},
          "execution_count": 90
        }
      ]
    },
    {
      "cell_type": "code",
      "execution_count": null,
      "metadata": {
        "colab": {
          "background_save": true
        },
        "id": "pddrlAFC7sJK"
      },
      "outputs": [],
      "source": [
        "#param_grid = {'n_estimators' : [50, 100, 150, 200],\n",
        "#              'max_features' : [2, 3, 4,5],\n",
        " #             'max_depth' : [3, 5, 7, 2],\n",
        "   #           'min_samples_split' : [2, 5, 8, 4]} ##"
      ]
    },
    {
      "cell_type": "code",
      "execution_count": null,
      "metadata": {
        "colab": {
          "background_save": true
        },
        "id": "g7Bjy3EAcdmV"
      },
      "outputs": [],
      "source": [
        "#GSV = GridSearchCV(rf,param_grid,verbose=3,n_jobs=4)\n",
        "#GSV.fit(train_scaled, y)"
      ]
    },
    {
      "cell_type": "code",
      "execution_count": null,
      "metadata": {
        "colab": {
          "background_save": true
        },
        "id": "qx9ek_cnfMex"
      },
      "outputs": [],
      "source": [
        "#GSV.best_params_"
      ]
    },
    {
      "cell_type": "code",
      "execution_count": null,
      "metadata": {
        "colab": {
          "background_save": true
        },
        "id": "cr_DhVT5kKSW"
      },
      "outputs": [],
      "source": [
        "#random=RandomForestClassifier(n_estimators=300,max_depth=7,min_samples_split=5,max_features=4)\n",
        "#random.fit(train_scaled,y)"
      ]
    },
    {
      "cell_type": "code",
      "execution_count": null,
      "metadata": {
        "id": "gQFfC77xlKiA"
      },
      "outputs": [],
      "source": [
        "y_pred=rf.predict(test_scaled)\n",
        "#y1_pred=ada.predict(test_scaled)\n",
        "#y2_pred=gb.predict(test_scaled)"
      ]
    },
    {
      "cell_type": "code",
      "execution_count": null,
      "metadata": {
        "id": "BGMtKQeulGNR"
      },
      "outputs": [],
      "source": [
        "#y_new=random.predict(test_scaled)"
      ]
    },
    {
      "cell_type": "code",
      "execution_count": null,
      "metadata": {
        "colab": {
          "base_uri": "https://localhost:8080/"
        },
        "id": "_mc1BJd4qbXx",
        "outputId": "2507a638-08b7-4990-c51d-95d3a64efc70"
      },
      "outputs": [
        {
          "output_type": "execute_result",
          "data": {
            "text/plain": [
              "array([0, 0, 0, ..., 0, 0, 0])"
            ]
          },
          "metadata": {},
          "execution_count": 98
        }
      ],
      "source": [
        "y_pred"
      ]
    },
    {
      "cell_type": "code",
      "source": [
        "y1_pred"
      ],
      "metadata": {
        "colab": {
          "base_uri": "https://localhost:8080/"
        },
        "id": "YuN1JJbAZrjN",
        "outputId": "caec0cc7-66e9-4d6f-ebd2-d2afd9101c74"
      },
      "execution_count": null,
      "outputs": [
        {
          "output_type": "execute_result",
          "data": {
            "text/plain": [
              "array([0, 0, 0, ..., 0, 0, 0])"
            ]
          },
          "metadata": {},
          "execution_count": 65
        }
      ]
    },
    {
      "cell_type": "code",
      "source": [
        "y2_pred"
      ],
      "metadata": {
        "colab": {
          "base_uri": "https://localhost:8080/"
        },
        "id": "altLxXMqZvGc",
        "outputId": "0382fb75-a047-49bf-ae39-a239026e8c3e"
      },
      "execution_count": null,
      "outputs": [
        {
          "output_type": "execute_result",
          "data": {
            "text/plain": [
              "array([0, 0, 0, ..., 0, 0, 0])"
            ]
          },
          "metadata": {},
          "execution_count": 93
        }
      ]
    },
    {
      "cell_type": "code",
      "execution_count": null,
      "metadata": {
        "id": "67jxfh_AqsPQ"
      },
      "outputs": [],
      "source": [
        "result=pd.DataFrame({'CustomerID':customerid,'ReportedFraud':y_pred})\n"
      ]
    },
    {
      "cell_type": "code",
      "execution_count": null,
      "metadata": {
        "id": "AkzKN76OfeYq",
        "colab": {
          "base_uri": "https://localhost:8080/"
        },
        "outputId": "d29ae5a8-d368-4a41-aa8c-6366bc547ef3"
      },
      "outputs": [
        {
          "output_type": "execute_result",
          "data": {
            "text/plain": [
              "0    7599\n",
              "1    1313\n",
              "Name: ReportedFraud, dtype: int64"
            ]
          },
          "metadata": {},
          "execution_count": 100
        }
      ],
      "source": [
        "result['ReportedFraud'].value_counts()"
      ]
    },
    {
      "cell_type": "code",
      "execution_count": null,
      "metadata": {
        "id": "bhJbvjtexieR"
      },
      "outputs": [],
      "source": [
        "result.to_csv('barath_new4.csv',index=False)"
      ]
    }
  ],
  "metadata": {
    "colab": {
      "collapsed_sections": [],
      "provenance": [],
      "include_colab_link": true
    },
    "kernelspec": {
      "display_name": "Python 3",
      "name": "python3"
    },
    "language_info": {
      "name": "python"
    }
  },
  "nbformat": 4,
  "nbformat_minor": 0
}